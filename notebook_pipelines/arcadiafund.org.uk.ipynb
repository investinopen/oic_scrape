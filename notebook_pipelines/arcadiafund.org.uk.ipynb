{
 "cells": [
  {
   "cell_type": "markdown",
   "metadata": {},
   "source": [
    "# Arcadia Fund: 360Giving Bulk Data\n",
    "\n",
    "This represents the crawler for The Arcadia Fund's grants. 360giving has a [standard tabular format](https://standard.threesixtygiving.org/en/latest/#) for publishing UK philanthropies data. It is published as csv, xls, xlsx, depending on the funder.\n",
    "\n",
    "### Notes:\n",
    "- [Bulk Grant Reporting for Arcadia Fund](https://grantnav.threesixtygiving.org/org/360G-ArcadiaFund) includes funded grants both from Arcadia Fund and its sibling funder, [Lund Trust](https://lundtrust.org.uk/), a separate organization that funds environmental initiatives. For the sake of IOI's reporting (and until they get a valid ROR ID), we will only include grants from Arcadia Fund and will actively discard grants from the Lund Trust in this dataset.\n",
    "- Arcadia Fund's [Grants Directory](https://www.arcadiafund.org.uk/grant-directory) has both web listings and 360giving bulk data. This tool will check for the latest version of the 360giving bulk data and use that as the source of truth.\n",
    "- We **DO NOT** use the 360giving portal data for Arcadia Fund; its indexer has not updated since 2022.\n",
    "\n"
   ]
  },
  {
   "cell_type": "code",
   "execution_count": 30,
   "metadata": {},
   "outputs": [],
   "source": [
    "from oic_scrape.items import AwardItem\n",
    "import pandas as pd\n",
    "from datetime import datetime\n",
    "import polars as pl\n",
    "from bs4 import BeautifulSoup\n",
    "from attrs import asdict\n",
    "import requests\n",
    "from io import StringIO"
   ]
  },
  {
   "cell_type": "markdown",
   "metadata": {},
   "source": [
    "## Parameters and Configuration"
   ]
  },
  {
   "cell_type": "code",
   "execution_count": 2,
   "metadata": {},
   "outputs": [],
   "source": [
    "THREESIXTY_G_DATA_URL = (\n",
    "    \"https://www.arcadiafund.org.uk/uploads/360G-March-2024-DATA.csv\"\n",
    ")\n",
    "USE_LATEST_BULK_DATA = True\n",
    "FUNDER_ORG_NAME = \"Arcadia Fund\"\n",
    "FUNDER_ORG_ROR_ID = \"https://ror.org/051z6e826\"\n",
    "OUTPUT_LOCATION = \"data/arcadia-fund--giving360_grants.jsonl\"\n",
    "OUTPUT_FORMAT = \"jsonl\""
   ]
  },
  {
   "cell_type": "code",
   "execution_count": 3,
   "metadata": {},
   "outputs": [],
   "source": [
    "def validate_output_format(format):\n",
    "    \"\"\"\n",
    "    Validates the output file format.\n",
    "\n",
    "    Args:\n",
    "        format (str): The output format to be validated.\n",
    "\n",
    "    Returns:\n",
    "        bool: True if the format is valid (json, jsonl, or jsonlines), False otherwise.\n",
    "    \"\"\"\n",
    "    if (\n",
    "        format.lower() == \"json\"\n",
    "        or format.lower() == \"jsonl\"\n",
    "        or format.lower() == \"jsonlines\"\n",
    "    ):\n",
    "        return True\n",
    "    else:\n",
    "        return False\n",
    "\n",
    "\n",
    "if validate_output_format(OUTPUT_FORMAT):\n",
    "    if OUTPUT_FORMAT.lower() == \"jsonl\" or OUTPUT_FORMAT.lower() == \"jsonlines\":\n",
    "        output_format_lines = True\n",
    "    else:\n",
    "        output_format_lines = False\n",
    "else:\n",
    "    raise ValueError(\"Output format should be either 'json' or 'jsonl'/'jsonlines'.\")"
   ]
  },
  {
   "cell_type": "code",
   "execution_count": 35,
   "metadata": {},
   "outputs": [],
   "source": [
    "def find_latest_results() -> str:\n",
    "    \"\"\"Finds the latest results link from the Arcadia Fund\n",
    "\n",
    "    Returns:\n",
    "        str: The URL of the latest results file\n",
    "    \"\"\"\n",
    "\n",
    "    grants_directory_url = \"https://www.arcadiafund.org.uk/grant-directory\"\n",
    "\n",
    "    response = requests.get(grants_directory_url)\n",
    "    response.raise_for_status()  # Assuming 'response' is the HTML page response object\n",
    "    soup = BeautifulSoup(response.text, \"html.parser\")\n",
    "\n",
    "    # Find the CSV link in the HTML page\n",
    "    csv_link = None\n",
    "    for link in soup.find_all(\"a\"):\n",
    "        href = link.get(\"href\")\n",
    "        if href.endswith(\".csv\"):\n",
    "            csv_link = href\n",
    "            break\n",
    "\n",
    "    if csv_link:\n",
    "        return csv_link\n",
    "    else:\n",
    "        raise ValueError(\n",
    "            \"No CSV link found in the Arcadia Fund's grant directory page.\"\n",
    "        )\n",
    "\n",
    "\n",
    "url = find_latest_results()\n",
    "df = pd.read_csv(url)\n",
    "crawl_ts = datetime.utcnow()\n",
    "df[\"Award_Date_datetime\"] = pd.to_datetime(\n",
    "    df[\"Award Date\"], format=\"%d/%m/%Y\", errors=\"coerce\"\n",
    ")\n"
   ]
  },
  {
   "cell_type": "code",
   "execution_count": 8,
   "metadata": {},
   "outputs": [],
   "source": []
  },
  {
   "cell_type": "code",
   "execution_count": null,
   "metadata": {},
   "outputs": [],
   "source": []
  },
  {
   "cell_type": "code",
   "execution_count": 36,
   "metadata": {},
   "outputs": [],
   "source": [
    "awards = []\n",
    "for ix, row in df.iterrows():\n",
    "\n",
    "    # Process only Arcadia grants, not Lund Trust\n",
    "    if row[\"Funding Org: Name\"] == \"ARCADIA\":\n",
    "        source = \"arcadia.org.uk__360giving-export\"\n",
    "        grant_id = f\"360g::{row['Identifier']}\"\n",
    "        funder_org_name = FUNDER_ORG_NAME\n",
    "        recipient_org_name = row[\"Recipient Org:Name\"]\n",
    "        funder_org_ror_id = FUNDER_ORG_ROR_ID\n",
    "        grant_year = int(row['Award year'])\n",
    "        grant_start_date = row['Award_Date_datetime'].date()\n",
    "        grant_duration = f\"{row['Term (Months)']} months\"\n",
    "        award_amount = float(row['Amount Awarded'].replace('$', '').replace(',', '')) if row['Amount Awarded'] else None\n",
    "        award_currency = row['Currency']\n",
    "        award_amount_usd = award_amount\n",
    "        grant_title = row[\"Title\"]\n",
    "        grant_description = row[\"Description\"]\n",
    "        program_of_funder = row[\"Grant Programme: Title\"]\n",
    "        program_of_funder += f\" > {row['Grant Programme: Subtitle']}\" if row[\"Grant Programme: Subtitle\"] and row['Grant Programme: Subtitle'] != row['Grant Programme: Title'] else \"\"\n",
    "        raw_source_data = row.to_json()\n",
    "\n",
    "        award = AwardItem(\n",
    "            _crawled_at=crawl_ts,\n",
    "            source=source,\n",
    "            grant_id=grant_id,\n",
    "            funder_org_name=funder_org_name,\n",
    "            funder_org_ror_id=FUNDER_ORG_ROR_ID,\n",
    "            recipient_org_name=recipient_org_name,\n",
    "            grant_year=grant_year,\n",
    "            grant_start_date=grant_start_date,\n",
    "            grant_duration=grant_duration,\n",
    "            award_amount=award_amount if award_amount else None,\n",
    "            award_currency=award_currency if award_currency else None,\n",
    "            award_amount_usd=award_amount_usd if award_amount_usd else None,\n",
    "            grant_title=grant_title,\n",
    "            grant_description=str(grant_description),\n",
    "            program_of_funder=program_of_funder,\n",
    "            raw_source_data=raw_source_data,\n",
    "        )\n",
    "        awards.append(asdict(award))"
   ]
  },
  {
   "cell_type": "code",
   "execution_count": 44,
   "metadata": {},
   "outputs": [],
   "source": [
    "pl.DataFrame(awards).write_ndjson(OUTPUT_LOCATION)"
   ]
  },
  {
   "cell_type": "code",
   "execution_count": null,
   "metadata": {},
   "outputs": [],
   "source": []
  }
 ],
 "metadata": {
  "kernelspec": {
   "display_name": "oic-scrape-D2fotO-x-py3.11",
   "language": "python",
   "name": "python3"
  },
  "language_info": {
   "codemirror_mode": {
    "name": "ipython",
    "version": 3
   },
   "file_extension": ".py",
   "mimetype": "text/x-python",
   "name": "python",
   "nbconvert_exporter": "python",
   "pygments_lexer": "ipython3",
   "version": "3.11.7"
  }
 },
 "nbformat": 4,
 "nbformat_minor": 2
}
