{
 "cells": [
  {
   "cell_type": "markdown",
   "metadata": {},
   "source": [
    "# National Institutes of Health\n",
    "\n",
    "Data from the National Institutes of Health via their [RePORTER](https://projectreporter.nih.gov/reporter.cfm) system.\n",
    "\n",
    "Data is obtained via their RePORTER [API](https://api.reporter.nih.gov/). This API can be updated on a weekly basis (Monday mornings around 10am EST) to retrieve the latest data. When weekly updates are applied following the initial data backfill, this can be extremely up-to-date.\n",
    "\n",
    "[Data Dictionary](https://api.reporter.nih.gov/documents/Data%20Elements%20for%20RePORTER%20Project%20API_V2.pdf)"
   ]
  },
  {
   "cell_type": "markdown",
   "metadata": {},
   "source": [
    "## Setup"
   ]
  },
  {
   "cell_type": "code",
   "execution_count": 1,
   "metadata": {},
   "outputs": [],
   "source": [
    "import pandas as pd\n",
    "import datetime\n",
    "from datetime import timedelta\n",
    "from typing import List, Dict, Any, Optional\n",
    "import requests\n",
    "import warnings\n",
    "from requests.adapters import HTTPAdapter\n",
    "from urllib3.util.retry import Retry\n",
    "from requests_cache import CachedSession\n",
    "\n",
    "#Test if we are in a notebook, load right tqdm\n",
    "try:\n",
    "    get_ipython() #type: ignore\n",
    "    from tqdm.notebook import tqdm\n",
    "except NameError:\n",
    "    from tqdm import tqdm"
   ]
  },
  {
   "cell_type": "markdown",
   "metadata": {},
   "source": [
    "### Parameters"
   ]
  },
  {
   "cell_type": "code",
   "execution_count": 2,
   "metadata": {
    "tags": [
     "parameters"
    ]
   },
   "outputs": [],
   "source": [
    "# minimum start date is 2011-01-01 when using date_added api field\n",
    "START_DATE = \"2015-01-01\"\n",
    "END_DATE = datetime.datetime.now().strftime(\"%Y-%m-%d\")\n",
    "OUTPUT_LOCATION = \"data/nih.gov_grants.jsonl\"\n",
    "\n",
    "## NEVER COMMIT WITH THIS SET TO TRUE\n",
    "USE_CACHE = \"True\""
   ]
  },
  {
   "cell_type": "markdown",
   "metadata": {},
   "source": [
    "#### Parameter Clean-Up"
   ]
  },
  {
   "cell_type": "code",
   "execution_count": 3,
   "metadata": {},
   "outputs": [],
   "source": [
    "p = {}\n",
    "# Validate and convert START_DATE\n",
    "try:\n",
    "    p['start_date'] = datetime.datetime.strptime(START_DATE, \"%Y-%m-%d\").date()\n",
    "except ValueError:\n",
    "    raise ValueError(\"Invalid START_DATE format. Please use the format 'YYYY-MM-DD'.\")\n",
    "if p['start_date'] < datetime.datetime(2009, 1, 1).date():\n",
    "    raise ValueError(\"START_DATE is too early. Please use a date after 2009-01-01.\")\n",
    "\n",
    "# Validate and convert END_DATE\n",
    "try:\n",
    "    p['end_date'] = datetime.datetime.strptime(END_DATE, \"%Y-%m-%d\").date()\n",
    "except ValueError:\n",
    "    raise ValueError(\"Invalid END_DATE format. Please use the format 'YYYY-MM-DD'.\")\n",
    "\n",
    "# Ensure END DATE > START_DATE\n",
    "if p['end_date'] <= p['start_date']:\n",
    "    raise ValueError(\"END_DATE must be greater than START_DATE.\")\n",
    "\n",
    "\n",
    "# Validate and convert USE_CACHE\n",
    "if USE_CACHE.lower() not in [\"true\", \"false\"]:\n",
    "    raise ValueError(\"Invalid USE_CACHE value. Please use 'True' or 'False'.\")\n",
    "p['use_cache'] = USE_CACHE.lower() == \"true\""
   ]
  },
  {
   "cell_type": "code",
   "execution_count": 4,
   "metadata": {},
   "outputs": [],
   "source": [
    "## HTTP Configuration\n",
    "\n",
    "# Cache for development use only\n",
    "if p['use_cache']:\n",
    "    session = CachedSession(\n",
    "        \"cache.sqlite\", backend=\"sqlite\",allowable_methods=('GET', 'POST'), allowable_codes=(200, 404))\n",
    "else:\n",
    "    session = requests.Session()\n",
    "retry = Retry(connect=5, backoff_factor=1.5)\n",
    "adapter = HTTPAdapter(max_retries=retry)\n",
    "session.mount(\"http://\", adapter)\n",
    "session.mount(\"https://\", adapter)"
   ]
  },
  {
   "cell_type": "markdown",
   "metadata": {},
   "source": [
    "### NIH API"
   ]
  },
  {
   "cell_type": "code",
   "execution_count": 5,
   "metadata": {},
   "outputs": [],
   "source": [
    "class NihApi:\n",
    "    API_URL: str = \"https://api.reporter.nih.gov/v2/projects/search\"\n",
    "    last_request_timestamp: Optional[datetime.datetime] = None\n",
    "    follow_rate_limit: bool = True\n",
    "\n",
    "    def __init__(self, follow_rate_limit: bool = True):\n",
    "        self.follow_rate_limit = follow_rate_limit\n",
    "\n",
    "    def projects_search(\n",
    "        self, payload: Dict[Any, Any], offset: Optional[int] = None, limit: Optional[int] = None\n",
    "    ) -> Dict[Any, Any]:\n",
    "        \"\"\"\n",
    "        Calls the NIH RePORTER API to get project data.\n",
    "\n",
    "        Args:\n",
    "            payload (Dict[Any, Any]): Allows for manual specification of the complete search payload.\n",
    "                Documentation at https://api.reporter.nih.gov/?urls.primaryName=V2.0\n",
    "            offset (int, optional): The offset for the API request. Defaults to None (0). Maximum is 14,999.\n",
    "            limit (int, optional): The maximum number of results to return. Min = 1, Max = 500\n",
    "                Defaults to 50 (when not specified), but is more efficient at 500.\n",
    "\n",
    "        Returns:\n",
    "            Dict[Any, Any]: The response from the API request.\n",
    "\n",
    "        Raises:\n",
    "            ValueError: If the API request fails or returns an error.\n",
    "        \"\"\"\n",
    "\n",
    "        # Check for overlaps between the payload dictionary and convenience parameters.\n",
    "        if offset is not None and \"offset\" in payload:\n",
    "            raise ValueError(\n",
    "                \"offset is set in both payload and as a convenience parameter\"\n",
    "            )\n",
    "        if limit is not None and \"limit\" in payload:\n",
    "            raise ValueError(\n",
    "                \"limit is set in both payload and as a convenience parameter\"\n",
    "            )\n",
    "\n",
    "        if offset:\n",
    "            payload[\"offset\"] = offset\n",
    "        if limit:\n",
    "            payload[\"limit\"] = limit\n",
    "        \n",
    "        # Rate limit handling: wait until 1 second has passed since the last request\n",
    "        if self.follow_rate_limit and self.last_request_timestamp:\n",
    "            time_since_last_request = (\n",
    "                datetime.datetime.utcnow() - self.last_request_timestamp\n",
    "            )\n",
    "            while time_since_last_request < timedelta(seconds=1):\n",
    "                time_since_last_request = (\n",
    "                    datetime.datetime.utcnow() - self.last_request_timestamp\n",
    "                )\n",
    "                pass\n",
    "\n",
    "        response = session.post(self.API_URL, json=payload)\n",
    "        \n",
    "        # Response timestamping, with carveout for more rapid calls if previously cached\n",
    "        res_ts = datetime.datetime.utcnow()\n",
    "        if p['use_cache']:\n",
    "            if response.from_cache:\n",
    "                pass\n",
    "            else:\n",
    "                self.last_request_timestamp = res_ts\n",
    "        else:\n",
    "            self.last_request_timestamp = res_ts\n",
    "\n",
    "        if response.status_code != 200:\n",
    "            raise ValueError(\n",
    "                f\"API request failed with status code {response.status_code}. Error message: {response.text}\"\n",
    "            )\n",
    "\n",
    "        response_json = response.json()\n",
    "        if \"error\" in response_json:\n",
    "            raise ValueError(\n",
    "                f\"API request returned an error: {response_json['error']}.\"\n",
    "            )\n",
    "\n",
    "        return response_json\n",
    "\n",
    "    def get_projects_by_day(\n",
    "        self,\n",
    "        date: datetime.date,\n",
    "        datefield: str = \"date_added\",\n",
    "        add_timestamp_field: bool = False,\n",
    "        added_timestamp_field_name: str = \"_record_crawled_at\",\n",
    "        excessive_results_strategy=\"error\",\n",
    "        progress_bar: bool = False,\n",
    "    ) -> List[Dict[Any, Any]]:\n",
    "        \"\"\"\n",
    "        Retrieves projects added on a specific day.\n",
    "\n",
    "        Args:\n",
    "            date (datetime.date): The date to retrieve projects for.\n",
    "            datefield (str, optional): The date field to search on. Defaults to \"date_added\".\n",
    "            add_timestamp_field (bool): When true, will add a field to each record with the timestamp of the crawl. Field is named with `added_timestamp_field_name`\n",
    "            added_timestamp_field_name (str):  When add_timestamp_field == True, this is the name of the new field added to each project\n",
    "            excessive_results_strategy (str, optional): The strategy to use when the number of results exceeds the maximum. Defaults to 'error'. Options are 'error', 'warn', and 'ignore'. 'warn' and 'ignore' will retrieve up to 15000 results but will not be able to retrieve results beyond that limit.\n",
    "            progress_bar (bool, optional): Whether to display a progress bar. Defaults to False.\n",
    "\n",
    "        Returns:\n",
    "            List[Dict[Any, Any]]: The list of projects added on the specified day.\n",
    "        \"\"\"\n",
    "\n",
    "        projects = []\n",
    "        result_page_length = 500\n",
    "        max_results = 14999  # NIH RePORTER API constraint\n",
    "        sort_order = \"asc\"\n",
    "\n",
    "        payload = {\n",
    "            \"criteria\": {\n",
    "                datefield: {\n",
    "                    \"from_date\": date.strftime(\"%Y-%m-%d\"),\n",
    "                    \"to_date\": (date + timedelta(days=1)).strftime(\"%Y-%m-%d\"),\n",
    "                }\n",
    "            },\n",
    "            \"sort_field\": datefield,\n",
    "            \"sort_order\": sort_order,\n",
    "        }\n",
    "\n",
    "        # Get the metadata for the day's results\n",
    "        # Used for determining excessive results and optional tqdm progress bar\n",
    "        info_response = self.projects_search(payload, limit=1)\n",
    "        total_results = info_response[\"meta\"][\"total\"]\n",
    "\n",
    "        # Check for excessive results and handle according to selected strategy\n",
    "        # Example days for excessive results:\n",
    "        ## 2014-09-12: 18,160 results\n",
    "        if total_results > max_results:\n",
    "            if excessive_results_strategy == \"error\":\n",
    "                raise ValueError(\n",
    "                    f\"Number of results ({total_results}) exceeds the maximum ({max_results}) on {date}.\"\n",
    "                )\n",
    "            elif excessive_results_strategy == \"warn\":\n",
    "                warnings.warn(\n",
    "                    f\"Number of results ({total_results}) exceeds the maximum ({max_results}) on {date}.\"\n",
    "                )\n",
    "                # TODO: You are NOT elegantly failing when you hit the limit. Instead it just tries to exceed 15000 and fails.\n",
    "            elif excessive_results_strategy == \"ignore\":\n",
    "                pass\n",
    "            else:\n",
    "                raise ValueError(\n",
    "                    f\"Invalid excessive_results_strategy value: {excessive_results_strategy}.\"\n",
    "                )\n",
    "\n",
    "        if total_results > 0:\n",
    "            if progress_bar:\n",
    "                pbar = tqdm(\n",
    "                    total=total_results, desc=f\"Retrieving NIH projects for {date}\"\n",
    "                )\n",
    "\n",
    "            offset = 0\n",
    "            while len(projects) < total_results:\n",
    "                payload[\"offset\"] = offset\n",
    "                payload[\"limit\"] = result_page_length\n",
    "                response = self.projects_search(payload=payload)\n",
    "                response_ts = datetime.datetime.utcnow()\n",
    "                response_projects = response[\"results\"]\n",
    "\n",
    "                if add_timestamp_field:\n",
    "                    # use list comprehension\n",
    "                    response_projects = [\n",
    "                        {**project, added_timestamp_field_name: response_ts}\n",
    "                        for project in response_projects\n",
    "                    ]\n",
    "\n",
    "                n_results = len(response_projects)\n",
    "                projects.extend(response_projects)\n",
    "                offset += n_results\n",
    "                if progress_bar:\n",
    "                    pbar.update(n_results)\n",
    "\n",
    "            if progress_bar:\n",
    "                pbar.close()\n",
    "\n",
    "        if len(projects) != total_results:\n",
    "            raise ValueError(\n",
    "                f\"Number of projects retrieved ({len(projects)}) does not match the total number of projects ({total_results}) for {date}.\"\n",
    "            )\n",
    "\n",
    "        return projects\n",
    "\n",
    "    def count_projects_added_in_date_range(\n",
    "        self, start_date: datetime.date, end_date: datetime.date,\n",
    "    ) -> int:\n",
    "        \"\"\"\n",
    "        Counts the number of projects added in a date range.\n",
    "\n",
    "        Args:\n",
    "            start_date (datetime.date): The date to start counting projects for.\n",
    "            end_date (datetime.date): The date to stop counting projects for.\n",
    "\n",
    "        Returns:\n",
    "            int: The number of projects added in the specified date range.\n",
    "        \"\"\"\n",
    "\n",
    "        payload = {\n",
    "            \"criteria\": {\n",
    "                \"date_added\": {\n",
    "                    \"from_date\": start_date.strftime(\"%Y-%m-%d\"),\n",
    "                    \"to_date\": end_date.strftime(\"%Y-%m-%d\"),\n",
    "                }\n",
    "            },\n",
    "            \"sort_field\": \"date_added\",\n",
    "            \"sort_order\": \"asc\",\n",
    "        }\n",
    "\n",
    "        response = self.projects_search(payload, limit=1)\n",
    "        return response[\"meta\"][\"total\"]\n",
    "\n",
    "    def get_projects_added_in_date_range(\n",
    "        self,\n",
    "        start_date: datetime.date,\n",
    "        end_date: datetime.date,\n",
    "        progress_bar=False,\n",
    "        daily_progress_bar=False,\n",
    "    ) -> List[Dict[Any, Any]]:\n",
    "        \"\"\"\n",
    "        Retrieves projects added on a specific day.\n",
    "\n",
    "        Args:\n",
    "            start_date (datetime.date): The date to start retrieving projects for.\n",
    "            end_date (datetime.date): The date to stop retrieving projects for.\n",
    "            progress_bar (bool, optional): Whether to display a progress bar. Defaults to False.\n",
    "\n",
    "        Returns:\n",
    "            List[Dict[Any, Any]]: The list of projects added on the specified day.\n",
    "        \"\"\"\n",
    "\n",
    "        projects: List[Dict[Any, Any]] = []\n",
    "        total_projects = self.count_projects_added_in_date_range(start_date, end_date)\n",
    "        if progress_bar:\n",
    "            pbar = tqdm(\n",
    "                total=total_projects,\n",
    "                desc=f\"Retrieving Projects for {start_date} to {end_date}\",\n",
    "            )\n",
    "        date_spine = [\n",
    "            start_date + timedelta(days=x) for x in range((end_date - start_date).days)\n",
    "        ]\n",
    "        for date in date_spine:\n",
    "            projects_on_date = self.get_projects_by_day(\n",
    "                date,\n",
    "                add_timestamp_field=True,\n",
    "                progress_bar=daily_progress_bar,\n",
    "                excessive_results_strategy=\"warn\",\n",
    "            )\n",
    "            projects.extend(projects_on_date)\n",
    "            if progress_bar:\n",
    "                pbar.update(len(projects_on_date))\n",
    "        if progress_bar:\n",
    "            pbar.close()\n",
    "\n",
    "        if len(projects) != total_projects:\n",
    "            raise ValueError(\n",
    "                f\"Number of projects retrieved ({len(projects)}) does not match the total number of projects ({total_projects}) for the date range {start_date} to {end_date}.\"\n",
    "            )\n",
    "        return projects"
   ]
  },
  {
   "cell_type": "markdown",
   "metadata": {},
   "source": [
    "#### Strategies for dealing with too many records:\n",
    "When the number of records is too lage, the API will throw an error (get the error). It has a limit of 500 records per request and 15000 (via offset 14999) from a search, though it'll tell the absolute number of records.\n",
    "\n",
    "##### Strategy 1: < 30,000: Sort by ascending & descending. When results = full count stop. Check for uniqueness.\n",
    "\n",
    "##### Strategy 2: >= 30,000: Use another date field as a secondary filter.\n",
    "\n",
    "If the count is greater than 15,000, include an additional date field (e.g. `project_start_date`) as part of the filtering criteria, in addition to `date_added`.  Get the minimum and maximum values for the date field by making 2 API requests of limit=1, sort ascending and descending.\n",
    "\n",
    "Begin pulling all records for each year (starting with min_date -> JAN1 of next year) by returning results with limit=500. If a set of results > 15,000 for the year, discard the first result set and subdivide the year into months and pull from MONTH, 1 to MONTH+1, 1. Subdivide to days if > 14,999 for a month.\n",
    "\n",
    "For the last results, we'll want to make sure we can project into the furute ans so would want to start only with a from_date and not a to_date. However if that's also over 15,000, we'll need a way to forward project.\n",
    "\n",
    "Be sure to test this using the date_added results > 15,000 days (as discovered below)\n",
    "\n",
    "TODO validate that we can filter `{ \"criteria\": {\"award_notice_date\":{ \"from_date\":\"2021-02-17\", \"to_date\":\"2022-02-17\" } }}` on only one of these criteria (e.g. a min date but not a max / visa versa)"
   ]
  },
  {
   "cell_type": "markdown",
   "metadata": {},
   "source": [
    "### Additional NIH Data\n",
    "We need to get the data for the NIH's agencies IDs to correspond to their ROR ID's"
   ]
  },
  {
   "cell_type": "code",
   "execution_count": 6,
   "metadata": {},
   "outputs": [],
   "source": [
    "FUNDER_NAME = \"National Institutes of Health\"\n",
    "FUNDER_ROR_ID = \"https://ror.org/01cwqze88\"\n",
    "NIH_IC_AGENCY = [\n",
    "    {\n",
    "        \"acronym\": \"CC\",\n",
    "        \"full_name\": \"Clinical Center\",\n",
    "        \"org_code\": \"CC\",\n",
    "        \"payload_criteria_value\": \"CLC\",\n",
    "        \"ror_id\": \"https://ror.org/04vfsmv21\",\n",
    "    },\n",
    "    {\n",
    "        \"acronym\": \"CSR\",\n",
    "        \"full_name\": \"Center for Scientific Review\",\n",
    "        \"org_code\": \"RG\",\n",
    "        \"payload_criteria_value\": \"CSR\",\n",
    "        \"ror_id\": \"https://ror.org/04r5s4b52\",\n",
    "    },\n",
    "    {\n",
    "        \"acronym\": \"CIT\",\n",
    "        \"full_name\": \"Center for Information Technology\",\n",
    "        \"org_code\": \"CIT\",\n",
    "        \"payload_criteria_value\": \"CIT\",\n",
    "        \"ror_id\": \"https://ror.org/03jh5a977\",\n",
    "    },\n",
    "    {\n",
    "        \"acronym\": \"FIC\",\n",
    "        \"full_name\": \"John E. Fogarty International Center\",\n",
    "        \"org_code\": \"TW\",\n",
    "        \"payload_criteria_value\": \"FIC\",\n",
    "        \"ror_id\": \"https://ror.org/02xey9a22\",\n",
    "    },\n",
    "    {\n",
    "        \"acronym\": \"NCATS\",\n",
    "        \"full_name\": \"National Center for Advancing Translational Sciences (NCATS)\",\n",
    "        \"org_code\": \"TR\",\n",
    "        \"payload_criteria_value\": \"NCATS\",\n",
    "        \"ror_id\": \"https://ror.org/04pw6fb54\",\n",
    "    },\n",
    "    {\n",
    "        \"acronym\": \"NCCIH\",\n",
    "        \"full_name\": \"National Center for Complementary and Integrative Health\",\n",
    "        \"org_code\": \"AT\",\n",
    "        \"payload_criteria_value\": \"NCCIH\",\n",
    "        \"ror_id\": \"https://ror.org/00190t495\",\n",
    "    },\n",
    "    {\n",
    "        \"acronym\": \"NCI\",\n",
    "        \"full_name\": \"National Cancer Institute\",\n",
    "        \"org_code\": \"CA\",\n",
    "        \"payload_criteria_value\": \"NCI\",\n",
    "        \"ror_id\": \"https://ror.org/040gcmg81\",\n",
    "    },\n",
    "    {\n",
    "        \"acronym\": \"NCRR\",\n",
    "        \"full_name\": \"National Center for Research Resources (dissolved 12/2011)\",\n",
    "        \"org_code\": \"RR\",\n",
    "        \"payload_criteria_value\": \"NCRR\",\n",
    "        \"ror_id\": \"https://ror.org/01cwqze88\",\n",
    "    },\n",
    "    {\n",
    "        \"acronym\": \"NEI\",\n",
    "        \"full_name\": \"National Eye Institute\",\n",
    "        \"org_code\": \"EY\",\n",
    "        \"payload_criteria_value\": \"NEI\",\n",
    "        \"ror_id\": \"https://ror.org/03wkg3b53\",\n",
    "    },\n",
    "    {\n",
    "        \"acronym\": \"NHGRI\",\n",
    "        \"full_name\": \"National Human Genome Research Institute\",\n",
    "        \"org_code\": \"HG\",\n",
    "        \"payload_criteria_value\": \"NHGRI\",\n",
    "        \"ror_id\": \"https://ror.org/00baak391\",\n",
    "    },\n",
    "    {\n",
    "        \"acronym\": \"NHLBI\",\n",
    "        \"full_name\": \"National Heart, Lung, and Blood Institute\",\n",
    "        \"org_code\": \"HL\",\n",
    "        \"payload_criteria_value\": \"NHLBI\",\n",
    "        \"ror_id\": \"https://ror.org/012pb6c26\",\n",
    "    },\n",
    "    {\n",
    "        \"acronym\": \"NIA\",\n",
    "        \"full_name\": \"National Institute on Aging\",\n",
    "        \"org_code\": \"AG\",\n",
    "        \"payload_criteria_value\": \"NIA\",\n",
    "        \"ror_id\": \"https://ror.org/049v75w11\",\n",
    "    },\n",
    "    {\n",
    "        \"acronym\": \"NIAAA\",\n",
    "        \"full_name\": \"National Institute on Alcohol Abuse and Alcoholism\",\n",
    "        \"org_code\": \"AA\",\n",
    "        \"payload_criteria_value\": \"NIAAA\",\n",
    "        \"ror_id\": \"https://ror.org/02jzrsm59\",\n",
    "    },\n",
    "    {\n",
    "        \"acronym\": \"NIAID\",\n",
    "        \"full_name\": \"National Institute of Allergy and Infectious Diseases\",\n",
    "        \"org_code\": \"AI\",\n",
    "        \"payload_criteria_value\": \"NIAID\",\n",
    "        \"ror_id\": \"https://ror.org/043z4tv69\",\n",
    "    },\n",
    "    {\n",
    "        \"acronym\": \"NIAMS\",\n",
    "        \"full_name\": \"National Institute of Arthritis and Musculoskeletal and Skin Diseases\",\n",
    "        \"org_code\": \"AR\",\n",
    "        \"payload_criteria_value\": \"NIAMS\",\n",
    "        \"ror_id\": \"https://ror.org/006zn3t30\",\n",
    "    },\n",
    "    {\n",
    "        \"acronym\": \"NIBIB\",\n",
    "        \"full_name\": \"National Institute of Biomedical Imaging and Bioengineering\",\n",
    "        \"org_code\": \"EB\",\n",
    "        \"payload_criteria_value\": \"NIBIB\",\n",
    "        \"ror_id\": \"https://ror.org/00372qc85\",\n",
    "    },\n",
    "    {\n",
    "        \"acronym\": \"NICHD\",\n",
    "        \"full_name\": \"Eunice Kennedy Shriver National Institute of Child Health and Human Development\",\n",
    "        \"org_code\": \"HD\",\n",
    "        \"payload_criteria_value\": \"NICHD\",\n",
    "        \"ror_id\": \"https://ror.org/04byxyr05\",\n",
    "    },\n",
    "    {\n",
    "        \"acronym\": \"NIDA\",\n",
    "        \"full_name\": \"National Institute on Drug Abuse\",\n",
    "        \"org_code\": \"DA\",\n",
    "        \"payload_criteria_value\": \"NIDA\",\n",
    "        \"ror_id\": \"https://ror.org/00fq5cm18\",\n",
    "    },\n",
    "    {\n",
    "        \"acronym\": \"NIDCD\",\n",
    "        \"full_name\": \"National Institute on Deafness and Other Communication Disorders\",\n",
    "        \"org_code\": \"DC\",\n",
    "        \"payload_criteria_value\": \"NIDCD\",\n",
    "        \"ror_id\": \"https://ror.org/04mhx6838\",\n",
    "    },\n",
    "    {\n",
    "        \"acronym\": \"NIDCR\",\n",
    "        \"full_name\": \"National Institute of Dental and Craniofacial Research\",\n",
    "        \"org_code\": \"DE\",\n",
    "        \"payload_criteria_value\": \"NIDCR\",\n",
    "        \"ror_id\": \"https://ror.org/004a2wv92\",\n",
    "    },\n",
    "    {\n",
    "        \"acronym\": \"NIDDK\",\n",
    "        \"full_name\": \"National Institute of Diabetes and Digestive and Kidney Diseases\",\n",
    "        \"org_code\": \"DK\",\n",
    "        \"payload_criteria_value\": \"NIDDK\",\n",
    "        \"ror_id\": \"https://ror.org/00adh9b73\",\n",
    "    },\n",
    "    {\n",
    "        \"acronym\": \"NIEHS\",\n",
    "        \"full_name\": \"National Institute of Environmental Health Sciences\",\n",
    "        \"org_code\": \"ES\",\n",
    "        \"payload_criteria_value\": \"NIEHS\",\n",
    "        \"ror_id\": \"https://ror.org/00j4k1h63\",\n",
    "    },\n",
    "    {\n",
    "        \"acronym\": \"NIGMS\",\n",
    "        \"full_name\": \"National Institute of General Medical Sciences\",\n",
    "        \"org_code\": \"GM\",\n",
    "        \"payload_criteria_value\": \"NIGMS\",\n",
    "        \"ror_id\": \"https://ror.org/04q48ey07\",\n",
    "    },\n",
    "    {\n",
    "        \"acronym\": \"NIMH\",\n",
    "        \"full_name\": \"National Institute of Mental Health\",\n",
    "        \"org_code\": \"MH\",\n",
    "        \"payload_criteria_value\": \"NIMH\",\n",
    "        \"ror_id\": \"https://ror.org/04xeg9z08\",\n",
    "    },\n",
    "    {\n",
    "        \"acronym\": \"NIMHD\",\n",
    "        \"full_name\": \"National Institute on Minority Health and Health Disparities\",\n",
    "        \"org_code\": \"MD\",\n",
    "        \"payload_criteria_value\": \"NIMHD\",\n",
    "        \"ror_id\": \"https://ror.org/0493hgw16\",\n",
    "    },\n",
    "    {\n",
    "        \"acronym\": \"NINDS\",\n",
    "        \"full_name\": \"National Institute of Neurological Disorders and Stroke\",\n",
    "        \"org_code\": \"NS\",\n",
    "        \"payload_criteria_value\": \"NINDS\",\n",
    "        \"ror_id\": \"https://ror.org/01s5ya894\",\n",
    "    },\n",
    "    {\n",
    "        \"acronym\": \"NINR\",\n",
    "        \"full_name\": \"National Institute of Nursing Research\",\n",
    "        \"org_code\": \"NR\",\n",
    "        \"payload_criteria_value\": \"NINR\",\n",
    "        \"ror_id\": \"https://ror.org/01y3zfr79\",\n",
    "    },\n",
    "    {\n",
    "        \"acronym\": \"NLM\",\n",
    "        \"full_name\": \"National Library of Medicine\",\n",
    "        \"org_code\": \"LM\",\n",
    "        \"payload_criteria_value\": \"NLM\",\n",
    "        \"ror_id\": \"https://ror.org/0060t0j89\",\n",
    "    },\n",
    "    {\n",
    "        \"acronym\": \"OD\",\n",
    "        \"full_name\": \"Office of the Director\",\n",
    "        \"org_code\": \"OD\",\n",
    "        \"payload_criteria_value\": \"OD\",\n",
    "        \"ror_id\": \"https://ror.org/00fj8a872\",\n",
    "    },\n",
    "]\n",
    "\n",
    "lookup_agency = {agency[\"org_code\"]: agency for agency in NIH_IC_AGENCY}"
   ]
  },
  {
   "cell_type": "markdown",
   "metadata": {},
   "source": [
    "#### NIH API Analysis:\n",
    "\n",
    "Determine the number of records we're crawling on a daily basis. We can embed this as a graphic, but mostly this is just useful analysis to understand if we need more advanced crawling techniques."
   ]
  },
  {
   "cell_type": "code",
   "execution_count": 7,
   "metadata": {},
   "outputs": [],
   "source": [
    "def count_projects_by_date(start_date: datetime.date, end_date: datetime.date) -> Dict[datetime.date, int]:\n",
    "    nih = NihApi()\n",
    "\n",
    "    # count the number of projects added for each date from START_DATE to END_DATE\n",
    "\n",
    "    date_spine = [p['start_date'] + timedelta(days=x) for x in range((p['end_date'] - p['start_date']).days)]\n",
    "\n",
    "    #records_added_daily_count = {date: nih.count_projects_added_in_date_range(date, date + timedelta(days=1)) for date in date_spine}\n",
    "\n",
    "    records_added_daily_count = {}\n",
    "    for date in tqdm(date_spine, total=len(date_spine)):\n",
    "        try:\n",
    "            today_count = nih.count_projects_added_in_date_range(date, date + timedelta(days=1))\n",
    "            records_added_daily_count[date] = today_count\n",
    "            if today_count > 14999:\n",
    "                print(f\"Warning: {today_count} records added on {date}.\")\n",
    "        except ValueError as e:\n",
    "            print(f\"Error: {e}\")\n",
    "            records_added_daily_count[date] = 0\n",
    "    return records_added_daily_count\n",
    "\n",
    "#records_added_daily_count = count_projects_by_date(p['start_date'], p['end_date'])\n",
    "#count_daily_records = pd.DataFrame(records_added_daily_count.items(), columns=[\"date\", \"count\"])"
   ]
  },
  {
   "cell_type": "markdown",
   "metadata": {},
   "source": [
    "## Get and Clean Data"
   ]
  },
  {
   "cell_type": "code",
   "execution_count": 12,
   "metadata": {},
   "outputs": [
    {
     "data": {
      "application/vnd.jupyter.widget-view+json": {
       "model_id": "920c3072754449c991457454a8075d01",
       "version_major": 2,
       "version_minor": 0
      },
      "text/plain": [
       "Retrieving Projects for 2015-01-01 to 2024-02-27:   0%|          | 0/724407 [00:00<?, ?it/s]"
      ]
     },
     "metadata": {},
     "output_type": "display_data"
    },
    {
     "data": {
      "application/vnd.jupyter.widget-view+json": {
       "model_id": "13a5a533bf2d40f38e0caecfbcfb1f50",
       "version_major": 2,
       "version_minor": 0
      },
      "text/plain": [
       "Retrieving NIH projects for 2015-01-03:   0%|          | 0/2102 [00:00<?, ?it/s]"
      ]
     },
     "metadata": {},
     "output_type": "display_data"
    },
    {
     "data": {
      "application/vnd.jupyter.widget-view+json": {
       "model_id": "34050f4b6dfc4cd5ae0f4053de14d97a",
       "version_major": 2,
       "version_minor": 0
      },
      "text/plain": [
       "Retrieving NIH projects for 2015-01-10:   0%|          | 0/179 [00:00<?, ?it/s]"
      ]
     },
     "metadata": {},
     "output_type": "display_data"
    },
    {
     "data": {
      "application/vnd.jupyter.widget-view+json": {
       "model_id": "387e20abe60847e3b73861e52b793c16",
       "version_major": 2,
       "version_minor": 0
      },
      "text/plain": [
       "Retrieving NIH projects for 2015-01-17:   0%|          | 0/277 [00:00<?, ?it/s]"
      ]
     },
     "metadata": {},
     "output_type": "display_data"
    },
    {
     "data": {
      "application/vnd.jupyter.widget-view+json": {
       "model_id": "9ff93b2c7db64913bb441aeef4911263",
       "version_major": 2,
       "version_minor": 0
      },
      "text/plain": [
       "Retrieving NIH projects for 2015-01-24:   0%|          | 0/195 [00:00<?, ?it/s]"
      ]
     },
     "metadata": {},
     "output_type": "display_data"
    },
    {
     "data": {
      "application/vnd.jupyter.widget-view+json": {
       "model_id": "b9ac4392afeb4ab2a086e28080065e19",
       "version_major": 2,
       "version_minor": 0
      },
      "text/plain": [
       "Retrieving NIH projects for 2015-01-31:   0%|          | 0/200 [00:00<?, ?it/s]"
      ]
     },
     "metadata": {},
     "output_type": "display_data"
    },
    {
     "data": {
      "application/vnd.jupyter.widget-view+json": {
       "model_id": "322c2bbd818d4273bd259ba67c1ea382",
       "version_major": 2,
       "version_minor": 0
      },
      "text/plain": [
       "Retrieving NIH projects for 2015-02-08:   0%|          | 0/2474 [00:00<?, ?it/s]"
      ]
     },
     "metadata": {},
     "output_type": "display_data"
    },
    {
     "data": {
      "application/vnd.jupyter.widget-view+json": {
       "model_id": "0d439e19193546ddaccc1f2509d07fd1",
       "version_major": 2,
       "version_minor": 0
      },
      "text/plain": [
       "Retrieving NIH projects for 2015-02-11:   0%|          | 0/2 [00:00<?, ?it/s]"
      ]
     },
     "metadata": {},
     "output_type": "display_data"
    },
    {
     "data": {
      "application/vnd.jupyter.widget-view+json": {
       "model_id": "ca3344d0ee504135821da9d7bf3c5663",
       "version_major": 2,
       "version_minor": 0
      },
      "text/plain": [
       "Retrieving NIH projects for 2015-02-14:   0%|          | 0/345 [00:00<?, ?it/s]"
      ]
     },
     "metadata": {},
     "output_type": "display_data"
    },
    {
     "data": {
      "application/vnd.jupyter.widget-view+json": {
       "model_id": "a75fc39e11314f678c12c366e615de1d",
       "version_major": 2,
       "version_minor": 0
      },
      "text/plain": [
       "Retrieving NIH projects for 2015-02-21:   0%|          | 0/308 [00:00<?, ?it/s]"
      ]
     },
     "metadata": {},
     "output_type": "display_data"
    },
    {
     "data": {
      "application/vnd.jupyter.widget-view+json": {
       "model_id": "1447d6ac0e92447b85df2b410d566596",
       "version_major": 2,
       "version_minor": 0
      },
      "text/plain": [
       "Retrieving NIH projects for 2015-02-28:   0%|          | 0/231 [00:00<?, ?it/s]"
      ]
     },
     "metadata": {},
     "output_type": "display_data"
    },
    {
     "data": {
      "application/vnd.jupyter.widget-view+json": {
       "model_id": "eb338e741b3b47769a89bc14b171c276",
       "version_major": 2,
       "version_minor": 0
      },
      "text/plain": [
       "Retrieving NIH projects for 2015-03-07:   0%|          | 0/2854 [00:00<?, ?it/s]"
      ]
     },
     "metadata": {},
     "output_type": "display_data"
    },
    {
     "data": {
      "application/vnd.jupyter.widget-view+json": {
       "model_id": "8c8439f2e42a4532a309030f850f3cbe",
       "version_major": 2,
       "version_minor": 0
      },
      "text/plain": [
       "Retrieving NIH projects for 2015-03-14:   0%|          | 0/322 [00:00<?, ?it/s]"
      ]
     },
     "metadata": {},
     "output_type": "display_data"
    },
    {
     "data": {
      "application/vnd.jupyter.widget-view+json": {
       "model_id": "7fa763ffb04a4558a01df84e47fd2aba",
       "version_major": 2,
       "version_minor": 0
      },
      "text/plain": [
       "Retrieving NIH projects for 2015-03-21:   0%|          | 0/329 [00:00<?, ?it/s]"
      ]
     },
     "metadata": {},
     "output_type": "display_data"
    },
    {
     "data": {
      "application/vnd.jupyter.widget-view+json": {
       "model_id": "c57cf21bc54d4f5599bee587fb8c03cc",
       "version_major": 2,
       "version_minor": 0
      },
      "text/plain": [
       "Retrieving NIH projects for 2015-03-28:   0%|          | 0/185 [00:00<?, ?it/s]"
      ]
     },
     "metadata": {},
     "output_type": "display_data"
    },
    {
     "data": {
      "application/vnd.jupyter.widget-view+json": {
       "model_id": "e967d5e4460942a9b1c3d665e1a4713e",
       "version_major": 2,
       "version_minor": 0
      },
      "text/plain": [
       "Retrieving NIH projects for 2015-04-04:   0%|          | 0/5826 [00:00<?, ?it/s]"
      ]
     },
     "metadata": {},
     "output_type": "display_data"
    },
    {
     "data": {
      "application/vnd.jupyter.widget-view+json": {
       "model_id": "80a9fca110f3417f837d8b9b439d5ba4",
       "version_major": 2,
       "version_minor": 0
      },
      "text/plain": [
       "Retrieving NIH projects for 2015-04-11:   0%|          | 0/587 [00:00<?, ?it/s]"
      ]
     },
     "metadata": {},
     "output_type": "display_data"
    },
    {
     "data": {
      "application/vnd.jupyter.widget-view+json": {
       "model_id": "2364cee5e6d94c5ebe3ebb2f551cb86b",
       "version_major": 2,
       "version_minor": 0
      },
      "text/plain": [
       "Retrieving NIH projects for 2015-04-18:   0%|          | 0/576 [00:00<?, ?it/s]"
      ]
     },
     "metadata": {},
     "output_type": "display_data"
    },
    {
     "data": {
      "application/vnd.jupyter.widget-view+json": {
       "model_id": "e064ec9830224968be01cb610105f6c6",
       "version_major": 2,
       "version_minor": 0
      },
      "text/plain": [
       "Retrieving NIH projects for 2015-04-25:   0%|          | 0/300 [00:00<?, ?it/s]"
      ]
     },
     "metadata": {},
     "output_type": "display_data"
    },
    {
     "data": {
      "application/vnd.jupyter.widget-view+json": {
       "model_id": "9098fac2c02b4da3858c9af69ab06454",
       "version_major": 2,
       "version_minor": 0
      },
      "text/plain": [
       "Retrieving NIH projects for 2015-05-03:   0%|          | 0/4491 [00:00<?, ?it/s]"
      ]
     },
     "metadata": {},
     "output_type": "display_data"
    },
    {
     "data": {
      "application/vnd.jupyter.widget-view+json": {
       "model_id": "c850c5e4eba047708e8728b3f9d52de3",
       "version_major": 2,
       "version_minor": 0
      },
      "text/plain": [
       "Retrieving NIH projects for 2015-05-09:   0%|          | 0/594 [00:00<?, ?it/s]"
      ]
     },
     "metadata": {},
     "output_type": "display_data"
    },
    {
     "data": {
      "application/vnd.jupyter.widget-view+json": {
       "model_id": "968835bf138a461bb5764901e8424bbd",
       "version_major": 2,
       "version_minor": 0
      },
      "text/plain": [
       "Retrieving NIH projects for 2015-05-16:   0%|          | 0/831 [00:00<?, ?it/s]"
      ]
     },
     "metadata": {},
     "output_type": "display_data"
    },
    {
     "data": {
      "application/vnd.jupyter.widget-view+json": {
       "model_id": "f72a8983b4b14717975766131da28745",
       "version_major": 2,
       "version_minor": 0
      },
      "text/plain": [
       "Retrieving NIH projects for 2015-05-24:   0%|          | 0/408 [00:00<?, ?it/s]"
      ]
     },
     "metadata": {},
     "output_type": "display_data"
    },
    {
     "data": {
      "application/vnd.jupyter.widget-view+json": {
       "model_id": "13a2817252f84e78b89146d787c455c5",
       "version_major": 2,
       "version_minor": 0
      },
      "text/plain": [
       "Retrieving NIH projects for 2015-05-30:   0%|          | 0/74 [00:00<?, ?it/s]"
      ]
     },
     "metadata": {},
     "output_type": "display_data"
    },
    {
     "data": {
      "application/vnd.jupyter.widget-view+json": {
       "model_id": "ba39d0fae2e64065887f6f209c1b2874",
       "version_major": 2,
       "version_minor": 0
      },
      "text/plain": [
       "Retrieving NIH projects for 2015-06-01:   0%|          | 0/616 [00:00<?, ?it/s]"
      ]
     },
     "metadata": {},
     "output_type": "display_data"
    },
    {
     "data": {
      "application/vnd.jupyter.widget-view+json": {
       "model_id": "611b6231c6884abdb37e804178092220",
       "version_major": 2,
       "version_minor": 0
      },
      "text/plain": [
       "Retrieving NIH projects for 2015-06-06:   0%|          | 0/4464 [00:00<?, ?it/s]"
      ]
     },
     "metadata": {},
     "output_type": "display_data"
    },
    {
     "data": {
      "application/vnd.jupyter.widget-view+json": {
       "model_id": "3ecf27f28dc2459fb6db582af7e6e622",
       "version_major": 2,
       "version_minor": 0
      },
      "text/plain": [
       "Retrieving NIH projects for 2015-06-13:   0%|          | 0/719 [00:00<?, ?it/s]"
      ]
     },
     "metadata": {},
     "output_type": "display_data"
    },
    {
     "data": {
      "application/vnd.jupyter.widget-view+json": {
       "model_id": "e3c20a999ef14da68eca013bab094fba",
       "version_major": 2,
       "version_minor": 0
      },
      "text/plain": [
       "Retrieving NIH projects for 2015-06-20:   0%|          | 0/892 [00:00<?, ?it/s]"
      ]
     },
     "metadata": {},
     "output_type": "display_data"
    },
    {
     "data": {
      "application/vnd.jupyter.widget-view+json": {
       "model_id": "b20fe2a615d84f0abeb6021397c7e54f",
       "version_major": 2,
       "version_minor": 0
      },
      "text/plain": [
       "Retrieving NIH projects for 2015-06-27:   0%|          | 0/421 [00:00<?, ?it/s]"
      ]
     },
     "metadata": {},
     "output_type": "display_data"
    },
    {
     "data": {
      "application/vnd.jupyter.widget-view+json": {
       "model_id": "bd66be2c8af042a09bebc289500691d6",
       "version_major": 2,
       "version_minor": 0
      },
      "text/plain": [
       "Retrieving NIH projects for 2015-07-04:   0%|          | 0/8406 [00:00<?, ?it/s]"
      ]
     },
     "metadata": {},
     "output_type": "display_data"
    },
    {
     "data": {
      "application/vnd.jupyter.widget-view+json": {
       "model_id": "8a2fb2825748404a870dbc179d501775",
       "version_major": 2,
       "version_minor": 0
      },
      "text/plain": [
       "Retrieving NIH projects for 2015-07-11:   0%|          | 0/1006 [00:00<?, ?it/s]"
      ]
     },
     "metadata": {},
     "output_type": "display_data"
    },
    {
     "data": {
      "application/vnd.jupyter.widget-view+json": {
       "model_id": "083ef3e07ebd4b56a1b71eb2709f0742",
       "version_major": 2,
       "version_minor": 0
      },
      "text/plain": [
       "Retrieving NIH projects for 2015-07-18:   0%|          | 0/1018 [00:00<?, ?it/s]"
      ]
     },
     "metadata": {},
     "output_type": "display_data"
    },
    {
     "data": {
      "application/vnd.jupyter.widget-view+json": {
       "model_id": "0edb278ac9214632b52dda7a1b113fd9",
       "version_major": 2,
       "version_minor": 0
      },
      "text/plain": [
       "Retrieving NIH projects for 2015-07-25:   0%|          | 0/1000 [00:00<?, ?it/s]"
      ]
     },
     "metadata": {},
     "output_type": "display_data"
    },
    {
     "data": {
      "application/vnd.jupyter.widget-view+json": {
       "model_id": "6529e649fb494243b86cce45973b2e0c",
       "version_major": 2,
       "version_minor": 0
      },
      "text/plain": [
       "Retrieving NIH projects for 2015-08-01:   0%|          | 0/5845 [00:00<?, ?it/s]"
      ]
     },
     "metadata": {},
     "output_type": "display_data"
    },
    {
     "data": {
      "application/vnd.jupyter.widget-view+json": {
       "model_id": "90766a4fa1844231bef74a5c3d5e3ba7",
       "version_major": 2,
       "version_minor": 0
      },
      "text/plain": [
       "Retrieving NIH projects for 2015-08-04:   0%|          | 0/4 [00:00<?, ?it/s]"
      ]
     },
     "metadata": {},
     "output_type": "display_data"
    },
    {
     "data": {
      "application/vnd.jupyter.widget-view+json": {
       "model_id": "de376ccd63534beb8455f95864649782",
       "version_major": 2,
       "version_minor": 0
      },
      "text/plain": [
       "Retrieving NIH projects for 2015-08-08:   0%|          | 0/1082 [00:00<?, ?it/s]"
      ]
     },
     "metadata": {},
     "output_type": "display_data"
    },
    {
     "data": {
      "application/vnd.jupyter.widget-view+json": {
       "model_id": "3856e18c34db4c2ba33d119602bbcfb0",
       "version_major": 2,
       "version_minor": 0
      },
      "text/plain": [
       "Retrieving NIH projects for 2015-08-11:   0%|          | 0/6 [00:00<?, ?it/s]"
      ]
     },
     "metadata": {},
     "output_type": "display_data"
    },
    {
     "data": {
      "application/vnd.jupyter.widget-view+json": {
       "model_id": "76c6704acc7c4c87b09f75d19101df4c",
       "version_major": 2,
       "version_minor": 0
      },
      "text/plain": [
       "Retrieving NIH projects for 2015-08-15:   0%|          | 0/1222 [00:00<?, ?it/s]"
      ]
     },
     "metadata": {},
     "output_type": "display_data"
    },
    {
     "data": {
      "application/vnd.jupyter.widget-view+json": {
       "model_id": "ce47bc32d82a47d2807c0b5cf230abb1",
       "version_major": 2,
       "version_minor": 0
      },
      "text/plain": [
       "Retrieving NIH projects for 2015-08-22:   0%|          | 0/790 [00:00<?, ?it/s]"
      ]
     },
     "metadata": {},
     "output_type": "display_data"
    },
    {
     "data": {
      "application/vnd.jupyter.widget-view+json": {
       "model_id": "86d9fe0dc4c94b2192f07e47dbd15153",
       "version_major": 2,
       "version_minor": 0
      },
      "text/plain": [
       "Retrieving NIH projects for 2015-08-29:   0%|          | 0/609 [00:00<?, ?it/s]"
      ]
     },
     "metadata": {},
     "output_type": "display_data"
    },
    {
     "data": {
      "application/vnd.jupyter.widget-view+json": {
       "model_id": "ab3063dc8f7844ada6bb3c807dde4616",
       "version_major": 2,
       "version_minor": 0
      },
      "text/plain": [
       "Retrieving NIH projects for 2015-09-05:   0%|          | 0/7453 [00:00<?, ?it/s]"
      ]
     },
     "metadata": {},
     "output_type": "display_data"
    },
    {
     "data": {
      "application/vnd.jupyter.widget-view+json": {
       "model_id": "21fcbc55ef424279bce651294b7a94b5",
       "version_major": 2,
       "version_minor": 0
      },
      "text/plain": [
       "Retrieving NIH projects for 2015-09-08:   0%|          | 0/1 [00:00<?, ?it/s]"
      ]
     },
     "metadata": {},
     "output_type": "display_data"
    },
    {
     "data": {
      "application/vnd.jupyter.widget-view+json": {
       "model_id": "0fb4c1c9672a4642a2d7ee55772720e8",
       "version_major": 2,
       "version_minor": 0
      },
      "text/plain": [
       "Retrieving NIH projects for 2015-09-12:   0%|          | 0/1632 [00:00<?, ?it/s]"
      ]
     },
     "metadata": {},
     "output_type": "display_data"
    },
    {
     "data": {
      "application/vnd.jupyter.widget-view+json": {
       "model_id": "575e636b4ffd4d0db114d0327892a243",
       "version_major": 2,
       "version_minor": 0
      },
      "text/plain": [
       "Retrieving NIH projects for 2015-09-19:   0%|          | 0/1740 [00:00<?, ?it/s]"
      ]
     },
     "metadata": {},
     "output_type": "display_data"
    },
    {
     "data": {
      "application/vnd.jupyter.widget-view+json": {
       "model_id": "0b63c1298a424fea9a2974ada5edb527",
       "version_major": 2,
       "version_minor": 0
      },
      "text/plain": [
       "Retrieving NIH projects for 2015-09-26:   0%|          | 0/1363 [00:00<?, ?it/s]"
      ]
     },
     "metadata": {},
     "output_type": "display_data"
    },
    {
     "data": {
      "application/vnd.jupyter.widget-view+json": {
       "model_id": "f04fddac6bc34a669c43f472b2b97270",
       "version_major": 2,
       "version_minor": 0
      },
      "text/plain": [
       "Retrieving NIH projects for 2015-09-28:   0%|          | 0/15 [00:00<?, ?it/s]"
      ]
     },
     "metadata": {},
     "output_type": "display_data"
    },
    {
     "data": {
      "application/vnd.jupyter.widget-view+json": {
       "model_id": "c86a794604524b7fbc7cf02e8b315570",
       "version_major": 2,
       "version_minor": 0
      },
      "text/plain": [
       "Retrieving NIH projects for 2015-10-01:   0%|          | 0/37 [00:00<?, ?it/s]"
      ]
     },
     "metadata": {},
     "output_type": "display_data"
    },
    {
     "data": {
      "application/vnd.jupyter.widget-view+json": {
       "model_id": "e6c1f76a3ee14ee988cabe444920d276",
       "version_major": 2,
       "version_minor": 0
      },
      "text/plain": [
       "Retrieving NIH projects for 2015-10-03:   0%|          | 0/2102 [00:00<?, ?it/s]"
      ]
     },
     "metadata": {},
     "output_type": "display_data"
    },
    {
     "data": {
      "application/vnd.jupyter.widget-view+json": {
       "model_id": "d8dec42a2a9e4f26921715d800e68d06",
       "version_major": 2,
       "version_minor": 0
      },
      "text/plain": [
       "Retrieving NIH projects for 2015-10-05:   0%|          | 0/41 [00:00<?, ?it/s]"
      ]
     },
     "metadata": {},
     "output_type": "display_data"
    },
    {
     "data": {
      "application/vnd.jupyter.widget-view+json": {
       "model_id": "a209cbc98ae04ed8aef7a155436aab61",
       "version_major": 2,
       "version_minor": 0
      },
      "text/plain": [
       "Retrieving NIH projects for 2015-10-06:   0%|          | 0/1 [00:00<?, ?it/s]"
      ]
     },
     "metadata": {},
     "output_type": "display_data"
    },
    {
     "data": {
      "application/vnd.jupyter.widget-view+json": {
       "model_id": "d030c949376d4d789a36fa0ff1c97b8f",
       "version_major": 2,
       "version_minor": 0
      },
      "text/plain": [
       "Retrieving NIH projects for 2015-10-10:   0%|          | 0/783 [00:00<?, ?it/s]"
      ]
     },
     "metadata": {},
     "output_type": "display_data"
    },
    {
     "data": {
      "application/vnd.jupyter.widget-view+json": {
       "model_id": "ceb66e029b804e7bafabe4627b05275b",
       "version_major": 2,
       "version_minor": 0
      },
      "text/plain": [
       "Retrieving NIH projects for 2015-10-17:   0%|          | 0/470 [00:00<?, ?it/s]"
      ]
     },
     "metadata": {},
     "output_type": "display_data"
    },
    {
     "data": {
      "application/vnd.jupyter.widget-view+json": {
       "model_id": "442f5723f6924695950fe60893547e79",
       "version_major": 2,
       "version_minor": 0
      },
      "text/plain": [
       "Retrieving NIH projects for 2015-10-24:   0%|          | 0/2418 [00:00<?, ?it/s]"
      ]
     },
     "metadata": {},
     "output_type": "display_data"
    },
    {
     "data": {
      "application/vnd.jupyter.widget-view+json": {
       "model_id": "05bea3670f9342349de15241c955d3f5",
       "version_major": 2,
       "version_minor": 0
      },
      "text/plain": [
       "Retrieving NIH projects for 2015-10-31:   0%|          | 0/82 [00:00<?, ?it/s]"
      ]
     },
     "metadata": {},
     "output_type": "display_data"
    },
    {
     "data": {
      "application/vnd.jupyter.widget-view+json": {
       "model_id": "5da1c820319f4410a61d6be99ec94120",
       "version_major": 2,
       "version_minor": 0
      },
      "text/plain": [
       "Retrieving NIH projects for 2015-11-07:   0%|          | 0/426 [00:00<?, ?it/s]"
      ]
     },
     "metadata": {},
     "output_type": "display_data"
    },
    {
     "data": {
      "application/vnd.jupyter.widget-view+json": {
       "model_id": "34f3ffa43537465e8b0e44e4063a1bbf",
       "version_major": 2,
       "version_minor": 0
      },
      "text/plain": [
       "Retrieving NIH projects for 2015-11-14:   0%|          | 0/88 [00:00<?, ?it/s]"
      ]
     },
     "metadata": {},
     "output_type": "display_data"
    },
    {
     "data": {
      "application/vnd.jupyter.widget-view+json": {
       "model_id": "5a2a28f08fc04248b0d7059778f3dda3",
       "version_major": 2,
       "version_minor": 0
      },
      "text/plain": [
       "Retrieving NIH projects for 2015-11-21:   0%|          | 0/147 [00:00<?, ?it/s]"
      ]
     },
     "metadata": {},
     "output_type": "display_data"
    },
    {
     "data": {
      "application/vnd.jupyter.widget-view+json": {
       "model_id": "f849ea6dacc0431b936d08a0d5d536f3",
       "version_major": 2,
       "version_minor": 0
      },
      "text/plain": [
       "Retrieving NIH projects for 2015-11-28:   0%|          | 0/67 [00:00<?, ?it/s]"
      ]
     },
     "metadata": {},
     "output_type": "display_data"
    },
    {
     "data": {
      "application/vnd.jupyter.widget-view+json": {
       "model_id": "799070ceab2741298339dc01ee0eeaca",
       "version_major": 2,
       "version_minor": 0
      },
      "text/plain": [
       "Retrieving NIH projects for 2015-12-05:   0%|          | 0/2050 [00:00<?, ?it/s]"
      ]
     },
     "metadata": {},
     "output_type": "display_data"
    },
    {
     "data": {
      "application/vnd.jupyter.widget-view+json": {
       "model_id": "bec4fe74b3054d64b8cef02f2cfa473a",
       "version_major": 2,
       "version_minor": 0
      },
      "text/plain": [
       "Retrieving NIH projects for 2015-12-12:   0%|          | 0/385 [00:00<?, ?it/s]"
      ]
     },
     "metadata": {},
     "output_type": "display_data"
    },
    {
     "data": {
      "application/vnd.jupyter.widget-view+json": {
       "model_id": "4ba0ee39931d43aaaebc060a00207622",
       "version_major": 2,
       "version_minor": 0
      },
      "text/plain": [
       "Retrieving NIH projects for 2015-12-19:   0%|          | 0/248 [00:00<?, ?it/s]"
      ]
     },
     "metadata": {},
     "output_type": "display_data"
    },
    {
     "data": {
      "application/vnd.jupyter.widget-view+json": {
       "model_id": "2260736d83d0436c95011b52ad2d2edf",
       "version_major": 2,
       "version_minor": 0
      },
      "text/plain": [
       "Retrieving NIH projects for 2015-12-26:   0%|          | 0/141 [00:00<?, ?it/s]"
      ]
     },
     "metadata": {},
     "output_type": "display_data"
    },
    {
     "data": {
      "application/vnd.jupyter.widget-view+json": {
       "model_id": "dfa62d63722d4f77b38927c01e0ceec4",
       "version_major": 2,
       "version_minor": 0
      },
      "text/plain": [
       "Retrieving NIH projects for 2016-01-02:   0%|          | 0/2081 [00:00<?, ?it/s]"
      ]
     },
     "metadata": {},
     "output_type": "display_data"
    },
    {
     "data": {
      "application/vnd.jupyter.widget-view+json": {
       "model_id": "afb09832992a428b988980da4ffabecc",
       "version_major": 2,
       "version_minor": 0
      },
      "text/plain": [
       "Retrieving NIH projects for 2016-01-09:   0%|          | 0/224 [00:00<?, ?it/s]"
      ]
     },
     "metadata": {},
     "output_type": "display_data"
    },
    {
     "data": {
      "application/vnd.jupyter.widget-view+json": {
       "model_id": "918374d96fa64e868e3ae3c8ada47762",
       "version_major": 2,
       "version_minor": 0
      },
      "text/plain": [
       "Retrieving NIH projects for 2016-01-16:   0%|          | 0/679 [00:00<?, ?it/s]"
      ]
     },
     "metadata": {},
     "output_type": "display_data"
    },
    {
     "data": {
      "application/vnd.jupyter.widget-view+json": {
       "model_id": "bf40f71b13fe4cd7aa25274ab07c3cdb",
       "version_major": 2,
       "version_minor": 0
      },
      "text/plain": [
       "Retrieving NIH projects for 2016-01-23:   0%|          | 0/129 [00:00<?, ?it/s]"
      ]
     },
     "metadata": {},
     "output_type": "display_data"
    },
    {
     "data": {
      "application/vnd.jupyter.widget-view+json": {
       "model_id": "7314fb65c7464184b999ebc5409a37b5",
       "version_major": 2,
       "version_minor": 0
      },
      "text/plain": [
       "Retrieving NIH projects for 2016-01-30:   0%|          | 0/172 [00:00<?, ?it/s]"
      ]
     },
     "metadata": {},
     "output_type": "display_data"
    },
    {
     "data": {
      "application/vnd.jupyter.widget-view+json": {
       "model_id": "2011944a934e44bfbad87135b91bf156",
       "version_major": 2,
       "version_minor": 0
      },
      "text/plain": [
       "Retrieving NIH projects for 2016-02-06:   0%|          | 0/2419 [00:00<?, ?it/s]"
      ]
     },
     "metadata": {},
     "output_type": "display_data"
    },
    {
     "data": {
      "application/vnd.jupyter.widget-view+json": {
       "model_id": "6528ae051bbf493881a875b93873a482",
       "version_major": 2,
       "version_minor": 0
      },
      "text/plain": [
       "Retrieving NIH projects for 2016-02-13:   0%|          | 0/450 [00:00<?, ?it/s]"
      ]
     },
     "metadata": {},
     "output_type": "display_data"
    },
    {
     "data": {
      "application/vnd.jupyter.widget-view+json": {
       "model_id": "7be4bf87f3b4497e8ac3f520590d8c4e",
       "version_major": 2,
       "version_minor": 0
      },
      "text/plain": [
       "Retrieving NIH projects for 2016-02-20:   0%|          | 0/394 [00:00<?, ?it/s]"
      ]
     },
     "metadata": {},
     "output_type": "display_data"
    },
    {
     "data": {
      "application/vnd.jupyter.widget-view+json": {
       "model_id": "96c738e9de9e41ee85da6edac1aa7c84",
       "version_major": 2,
       "version_minor": 0
      },
      "text/plain": [
       "Retrieving NIH projects for 2016-02-25:   0%|          | 0/1 [00:00<?, ?it/s]"
      ]
     },
     "metadata": {},
     "output_type": "display_data"
    },
    {
     "data": {
      "application/vnd.jupyter.widget-view+json": {
       "model_id": "c7a52897d2a2420ebfb585ff53782e2c",
       "version_major": 2,
       "version_minor": 0
      },
      "text/plain": [
       "Retrieving NIH projects for 2016-02-27:   0%|          | 0/212 [00:00<?, ?it/s]"
      ]
     },
     "metadata": {},
     "output_type": "display_data"
    },
    {
     "data": {
      "application/vnd.jupyter.widget-view+json": {
       "model_id": "e30fecff87e4480693d2996e0c546d61",
       "version_major": 2,
       "version_minor": 0
      },
      "text/plain": [
       "Retrieving NIH projects for 2016-03-08:   0%|          | 0/3022 [00:00<?, ?it/s]"
      ]
     },
     "metadata": {},
     "output_type": "display_data"
    },
    {
     "data": {
      "application/vnd.jupyter.widget-view+json": {
       "model_id": "717906970d5d4fdc8f4eb41a1882c0e7",
       "version_major": 2,
       "version_minor": 0
      },
      "text/plain": [
       "Retrieving NIH projects for 2016-03-12:   0%|          | 0/285 [00:00<?, ?it/s]"
      ]
     },
     "metadata": {},
     "output_type": "display_data"
    },
    {
     "data": {
      "application/vnd.jupyter.widget-view+json": {
       "model_id": "0b912506100646118110158e3da0820c",
       "version_major": 2,
       "version_minor": 0
      },
      "text/plain": [
       "Retrieving NIH projects for 2016-03-21:   0%|          | 0/440 [00:00<?, ?it/s]"
      ]
     },
     "metadata": {},
     "output_type": "display_data"
    },
    {
     "data": {
      "application/vnd.jupyter.widget-view+json": {
       "model_id": "4259727209bd4c588fac7e969b7e155e",
       "version_major": 2,
       "version_minor": 0
      },
      "text/plain": [
       "Retrieving NIH projects for 2016-03-26:   0%|          | 0/176 [00:00<?, ?it/s]"
      ]
     },
     "metadata": {},
     "output_type": "display_data"
    },
    {
     "data": {
      "application/vnd.jupyter.widget-view+json": {
       "model_id": "c7a79551843e42d9a939aaf9e2317cce",
       "version_major": 2,
       "version_minor": 0
      },
      "text/plain": [
       "Retrieving NIH projects for 2016-04-05:   0%|          | 0/5663 [00:00<?, ?it/s]"
      ]
     },
     "metadata": {},
     "output_type": "display_data"
    },
    {
     "data": {
      "application/vnd.jupyter.widget-view+json": {
       "model_id": "28b68151dd754525894a6c6616c7376f",
       "version_major": 2,
       "version_minor": 0
      },
      "text/plain": [
       "Retrieving NIH projects for 2016-04-09:   0%|          | 0/601 [00:00<?, ?it/s]"
      ]
     },
     "metadata": {},
     "output_type": "display_data"
    },
    {
     "data": {
      "application/vnd.jupyter.widget-view+json": {
       "model_id": "e6ff6aa56033435f9d79aea0aafba068",
       "version_major": 2,
       "version_minor": 0
      },
      "text/plain": [
       "Retrieving NIH projects for 2016-04-19:   0%|          | 0/816 [00:00<?, ?it/s]"
      ]
     },
     "metadata": {},
     "output_type": "display_data"
    },
    {
     "data": {
      "application/vnd.jupyter.widget-view+json": {
       "model_id": "bacb5df0daf1487193fbe7dd1b66ebf0",
       "version_major": 2,
       "version_minor": 0
      },
      "text/plain": [
       "Retrieving NIH projects for 2016-04-23:   0%|          | 0/302 [00:00<?, ?it/s]"
      ]
     },
     "metadata": {},
     "output_type": "display_data"
    },
    {
     "data": {
      "application/vnd.jupyter.widget-view+json": {
       "model_id": "33cd679188a649dc972ab2c1f1e7b7f4",
       "version_major": 2,
       "version_minor": 0
      },
      "text/plain": [
       "Retrieving NIH projects for 2016-04-30:   0%|          | 0/288 [00:00<?, ?it/s]"
      ]
     },
     "metadata": {},
     "output_type": "display_data"
    },
    {
     "data": {
      "application/vnd.jupyter.widget-view+json": {
       "model_id": "445d167bfed24119b4cbd2777a83dfc7",
       "version_major": 2,
       "version_minor": 0
      },
      "text/plain": [
       "Retrieving NIH projects for 2016-05-07:   0%|          | 0/4820 [00:00<?, ?it/s]"
      ]
     },
     "metadata": {},
     "output_type": "display_data"
    },
    {
     "data": {
      "application/vnd.jupyter.widget-view+json": {
       "model_id": "bda83be91da04b5899d646e608570f99",
       "version_major": 2,
       "version_minor": 0
      },
      "text/plain": [
       "Retrieving NIH projects for 2016-05-13:   0%|          | 0/9 [00:00<?, ?it/s]"
      ]
     },
     "metadata": {},
     "output_type": "display_data"
    },
    {
     "data": {
      "application/vnd.jupyter.widget-view+json": {
       "model_id": "8f2f3ca5aa80412aa54148e3fed0229a",
       "version_major": 2,
       "version_minor": 0
      },
      "text/plain": [
       "Retrieving NIH projects for 2016-05-14:   0%|          | 0/658 [00:00<?, ?it/s]"
      ]
     },
     "metadata": {},
     "output_type": "display_data"
    },
    {
     "data": {
      "application/vnd.jupyter.widget-view+json": {
       "model_id": "69e20982426f49e3a54f8bd9681725db",
       "version_major": 2,
       "version_minor": 0
      },
      "text/plain": [
       "Retrieving NIH projects for 2016-05-15:   0%|          | 0/36 [00:00<?, ?it/s]"
      ]
     },
     "metadata": {},
     "output_type": "display_data"
    },
    {
     "data": {
      "application/vnd.jupyter.widget-view+json": {
       "model_id": "679a6355e14d4191bc206c40855ec9d5",
       "version_major": 2,
       "version_minor": 0
      },
      "text/plain": [
       "Retrieving NIH projects for 2016-05-21:   0%|          | 0/999 [00:00<?, ?it/s]"
      ]
     },
     "metadata": {},
     "output_type": "display_data"
    },
    {
     "data": {
      "application/vnd.jupyter.widget-view+json": {
       "model_id": "cd6f5f8ae4d44435baf66250309badff",
       "version_major": 2,
       "version_minor": 0
      },
      "text/plain": [
       "Retrieving NIH projects for 2016-05-28:   0%|          | 0/470 [00:00<?, ?it/s]"
      ]
     },
     "metadata": {},
     "output_type": "display_data"
    },
    {
     "data": {
      "application/vnd.jupyter.widget-view+json": {
       "model_id": "4a0038c9d43d402eac22ff0d36b82d53",
       "version_major": 2,
       "version_minor": 0
      },
      "text/plain": [
       "Retrieving NIH projects for 2016-06-05:   0%|          | 0/5069 [00:00<?, ?it/s]"
      ]
     },
     "metadata": {},
     "output_type": "display_data"
    },
    {
     "data": {
      "application/vnd.jupyter.widget-view+json": {
       "model_id": "74de64b3d8db4663b477fc96fa9076e4",
       "version_major": 2,
       "version_minor": 0
      },
      "text/plain": [
       "Retrieving NIH projects for 2016-06-11:   0%|          | 0/727 [00:00<?, ?it/s]"
      ]
     },
     "metadata": {},
     "output_type": "display_data"
    },
    {
     "data": {
      "application/vnd.jupyter.widget-view+json": {
       "model_id": "ae994afb718841ebb42b8509443c688e",
       "version_major": 2,
       "version_minor": 0
      },
      "text/plain": [
       "Retrieving NIH projects for 2016-06-18:   0%|          | 0/708 [00:00<?, ?it/s]"
      ]
     },
     "metadata": {},
     "output_type": "display_data"
    },
    {
     "data": {
      "application/vnd.jupyter.widget-view+json": {
       "model_id": "abc8a4fe78fb4f6c816b4a70455d6d8c",
       "version_major": 2,
       "version_minor": 0
      },
      "text/plain": [
       "Retrieving NIH projects for 2016-06-25:   0%|          | 0/469 [00:00<?, ?it/s]"
      ]
     },
     "metadata": {},
     "output_type": "display_data"
    },
    {
     "data": {
      "application/vnd.jupyter.widget-view+json": {
       "model_id": "8f1039b630294384a26ca7860777d830",
       "version_major": 2,
       "version_minor": 0
      },
      "text/plain": [
       "Retrieving NIH projects for 2016-07-02:   0%|          | 0/7550 [00:00<?, ?it/s]"
      ]
     },
     "metadata": {},
     "output_type": "display_data"
    },
    {
     "data": {
      "application/vnd.jupyter.widget-view+json": {
       "model_id": "73b6f34978814fcd9237caf0ea40dfb5",
       "version_major": 2,
       "version_minor": 0
      },
      "text/plain": [
       "Retrieving NIH projects for 2016-07-09:   0%|          | 0/853 [00:00<?, ?it/s]"
      ]
     },
     "metadata": {},
     "output_type": "display_data"
    },
    {
     "data": {
      "application/vnd.jupyter.widget-view+json": {
       "model_id": "14167a63ab1c4f13b468ccb4506ccc02",
       "version_major": 2,
       "version_minor": 0
      },
      "text/plain": [
       "Retrieving NIH projects for 2016-07-16:   0%|          | 0/1249 [00:00<?, ?it/s]"
      ]
     },
     "metadata": {},
     "output_type": "display_data"
    },
    {
     "data": {
      "application/vnd.jupyter.widget-view+json": {
       "model_id": "5d35812f048342e2b0a80fdd594738a3",
       "version_major": 2,
       "version_minor": 0
      },
      "text/plain": [
       "Retrieving NIH projects for 2016-07-23:   0%|          | 0/623 [00:00<?, ?it/s]"
      ]
     },
     "metadata": {},
     "output_type": "display_data"
    },
    {
     "data": {
      "application/vnd.jupyter.widget-view+json": {
       "model_id": "d8698ef48c00488b9e25ecd35d53f5ea",
       "version_major": 2,
       "version_minor": 0
      },
      "text/plain": [
       "Retrieving NIH projects for 2016-07-30:   0%|          | 0/714 [00:00<?, ?it/s]"
      ]
     },
     "metadata": {},
     "output_type": "display_data"
    },
    {
     "data": {
      "application/vnd.jupyter.widget-view+json": {
       "model_id": "734a48e12dd0471483e3a9ef3e773510",
       "version_major": 2,
       "version_minor": 0
      },
      "text/plain": [
       "Retrieving NIH projects for 2016-08-07:   0%|          | 0/5619 [00:00<?, ?it/s]"
      ]
     },
     "metadata": {},
     "output_type": "display_data"
    },
    {
     "data": {
      "application/vnd.jupyter.widget-view+json": {
       "model_id": "e52a5cd13f4e45819382159e33e4ef5f",
       "version_major": 2,
       "version_minor": 0
      },
      "text/plain": [
       "Retrieving NIH projects for 2016-08-13:   0%|          | 0/858 [00:00<?, ?it/s]"
      ]
     },
     "metadata": {},
     "output_type": "display_data"
    },
    {
     "data": {
      "application/vnd.jupyter.widget-view+json": {
       "model_id": "28a16b9e572c447988e9bf01d5da3f71",
       "version_major": 2,
       "version_minor": 0
      },
      "text/plain": [
       "Retrieving NIH projects for 2016-08-20:   0%|          | 0/1185 [00:00<?, ?it/s]"
      ]
     },
     "metadata": {},
     "output_type": "display_data"
    },
    {
     "data": {
      "application/vnd.jupyter.widget-view+json": {
       "model_id": "eeec8c0dc79f481da2a9ba509a5cd711",
       "version_major": 2,
       "version_minor": 0
      },
      "text/plain": [
       "Retrieving NIH projects for 2016-08-27:   0%|          | 0/780 [00:00<?, ?it/s]"
      ]
     },
     "metadata": {},
     "output_type": "display_data"
    },
    {
     "data": {
      "application/vnd.jupyter.widget-view+json": {
       "model_id": "22b17ba00f764f9082a13b72df2471f0",
       "version_major": 2,
       "version_minor": 0
      },
      "text/plain": [
       "Retrieving NIH projects for 2016-09-03:   0%|          | 0/7108 [00:00<?, ?it/s]"
      ]
     },
     "metadata": {},
     "output_type": "display_data"
    },
    {
     "data": {
      "application/vnd.jupyter.widget-view+json": {
       "model_id": "cb1f3490aaef4f3a878e9065d0fd091c",
       "version_major": 2,
       "version_minor": 0
      },
      "text/plain": [
       "Retrieving NIH projects for 2016-09-10:   0%|          | 0/1036 [00:00<?, ?it/s]"
      ]
     },
     "metadata": {},
     "output_type": "display_data"
    },
    {
     "data": {
      "application/vnd.jupyter.widget-view+json": {
       "model_id": "3678a4ba58ba4c619bb97d7d05d86257",
       "version_major": 2,
       "version_minor": 0
      },
      "text/plain": [
       "Retrieving NIH projects for 2016-09-17:   0%|          | 0/1733 [00:00<?, ?it/s]"
      ]
     },
     "metadata": {},
     "output_type": "display_data"
    },
    {
     "data": {
      "application/vnd.jupyter.widget-view+json": {
       "model_id": "461da4d264b54ab1981b34154aae6bf4",
       "version_major": 2,
       "version_minor": 0
      },
      "text/plain": [
       "Retrieving NIH projects for 2016-09-21:   0%|          | 0/2 [00:00<?, ?it/s]"
      ]
     },
     "metadata": {},
     "output_type": "display_data"
    },
    {
     "data": {
      "application/vnd.jupyter.widget-view+json": {
       "model_id": "58ca7d137b6649a6a05ea5e5a62b7e0e",
       "version_major": 2,
       "version_minor": 0
      },
      "text/plain": [
       "Retrieving NIH projects for 2016-09-24:   0%|          | 0/1359 [00:00<?, ?it/s]"
      ]
     },
     "metadata": {},
     "output_type": "display_data"
    },
    {
     "data": {
      "application/vnd.jupyter.widget-view+json": {
       "model_id": "c64b94bbdfc64490bef9ef506100a928",
       "version_major": 2,
       "version_minor": 0
      },
      "text/plain": [
       "Retrieving NIH projects for 2016-10-02:   0%|          | 0/1807 [00:00<?, ?it/s]"
      ]
     },
     "metadata": {},
     "output_type": "display_data"
    },
    {
     "data": {
      "application/vnd.jupyter.widget-view+json": {
       "model_id": "0db35903f9a740868a98bca8a5cc0a29",
       "version_major": 2,
       "version_minor": 0
      },
      "text/plain": [
       "Retrieving NIH projects for 2016-10-08:   0%|          | 0/418 [00:00<?, ?it/s]"
      ]
     },
     "metadata": {},
     "output_type": "display_data"
    },
    {
     "data": {
      "application/vnd.jupyter.widget-view+json": {
       "model_id": "921784ea01404c93a3a649862b8ee1ff",
       "version_major": 2,
       "version_minor": 0
      },
      "text/plain": [
       "Retrieving NIH projects for 2016-10-12:   0%|          | 0/75 [00:00<?, ?it/s]"
      ]
     },
     "metadata": {},
     "output_type": "display_data"
    },
    {
     "data": {
      "application/vnd.jupyter.widget-view+json": {
       "model_id": "eae7d6f017d5430e8f39240a03451995",
       "version_major": 2,
       "version_minor": 0
      },
      "text/plain": [
       "Retrieving NIH projects for 2016-10-22:   0%|          | 0/2445 [00:00<?, ?it/s]"
      ]
     },
     "metadata": {},
     "output_type": "display_data"
    },
    {
     "data": {
      "application/vnd.jupyter.widget-view+json": {
       "model_id": "3bb9be03724c45f589e3eca8aaa98260",
       "version_major": 2,
       "version_minor": 0
      },
      "text/plain": [
       "Retrieving NIH projects for 2016-10-29:   0%|          | 0/599 [00:00<?, ?it/s]"
      ]
     },
     "metadata": {},
     "output_type": "display_data"
    },
    {
     "data": {
      "application/vnd.jupyter.widget-view+json": {
       "model_id": "61e9f68ce9d444e090a7750461ee50b7",
       "version_major": 2,
       "version_minor": 0
      },
      "text/plain": [
       "Retrieving NIH projects for 2016-11-05:   0%|          | 0/253 [00:00<?, ?it/s]"
      ]
     },
     "metadata": {},
     "output_type": "display_data"
    },
    {
     "data": {
      "application/vnd.jupyter.widget-view+json": {
       "model_id": "da7e6b3b931c4c329b476a9fd68cbadc",
       "version_major": 2,
       "version_minor": 0
      },
      "text/plain": [
       "Retrieving NIH projects for 2016-11-12:   0%|          | 0/72 [00:00<?, ?it/s]"
      ]
     },
     "metadata": {},
     "output_type": "display_data"
    },
    {
     "data": {
      "application/vnd.jupyter.widget-view+json": {
       "model_id": "5489543d2a59410aa628056f370ace35",
       "version_major": 2,
       "version_minor": 0
      },
      "text/plain": [
       "Retrieving NIH projects for 2016-11-19:   0%|          | 0/123 [00:00<?, ?it/s]"
      ]
     },
     "metadata": {},
     "output_type": "display_data"
    },
    {
     "data": {
      "application/vnd.jupyter.widget-view+json": {
       "model_id": "6f78efe608f24173b38ec95b466a4937",
       "version_major": 2,
       "version_minor": 0
      },
      "text/plain": [
       "Retrieving NIH projects for 2016-11-26:   0%|          | 0/68 [00:00<?, ?it/s]"
      ]
     },
     "metadata": {},
     "output_type": "display_data"
    },
    {
     "data": {
      "application/vnd.jupyter.widget-view+json": {
       "model_id": "91ce08170cfc40af8b86d7e26ffd609f",
       "version_major": 2,
       "version_minor": 0
      },
      "text/plain": [
       "Retrieving NIH projects for 2016-12-03:   0%|          | 0/1928 [00:00<?, ?it/s]"
      ]
     },
     "metadata": {},
     "output_type": "display_data"
    },
    {
     "data": {
      "application/vnd.jupyter.widget-view+json": {
       "model_id": "0610b742b3c941249f683d0cb0766bf0",
       "version_major": 2,
       "version_minor": 0
      },
      "text/plain": [
       "Retrieving NIH projects for 2016-12-10:   0%|          | 0/373 [00:00<?, ?it/s]"
      ]
     },
     "metadata": {},
     "output_type": "display_data"
    },
    {
     "data": {
      "application/vnd.jupyter.widget-view+json": {
       "model_id": "49dc92b021ee4622aee7aec2254dc1a4",
       "version_major": 2,
       "version_minor": 0
      },
      "text/plain": [
       "Retrieving NIH projects for 2016-12-17:   0%|          | 0/1952 [00:00<?, ?it/s]"
      ]
     },
     "metadata": {},
     "output_type": "display_data"
    },
    {
     "data": {
      "application/vnd.jupyter.widget-view+json": {
       "model_id": "5a85b11bef8348adb7bf7a69d44f0714",
       "version_major": 2,
       "version_minor": 0
      },
      "text/plain": [
       "Retrieving NIH projects for 2016-12-24:   0%|          | 0/285 [00:00<?, ?it/s]"
      ]
     },
     "metadata": {},
     "output_type": "display_data"
    },
    {
     "data": {
      "application/vnd.jupyter.widget-view+json": {
       "model_id": "afe6924222334156b13c415d82bf79d2",
       "version_major": 2,
       "version_minor": 0
      },
      "text/plain": [
       "Retrieving NIH projects for 2016-12-31:   0%|          | 0/135 [00:00<?, ?it/s]"
      ]
     },
     "metadata": {},
     "output_type": "display_data"
    },
    {
     "data": {
      "application/vnd.jupyter.widget-view+json": {
       "model_id": "a93de62ba19a428dbee6528fcaffff42",
       "version_major": 2,
       "version_minor": 0
      },
      "text/plain": [
       "Retrieving NIH projects for 2017-01-07:   0%|          | 0/2281 [00:00<?, ?it/s]"
      ]
     },
     "metadata": {},
     "output_type": "display_data"
    },
    {
     "data": {
      "application/vnd.jupyter.widget-view+json": {
       "model_id": "7664c1e067af4955bbc2bab116b96481",
       "version_major": 2,
       "version_minor": 0
      },
      "text/plain": [
       "Retrieving NIH projects for 2017-01-14:   0%|          | 0/338 [00:00<?, ?it/s]"
      ]
     },
     "metadata": {},
     "output_type": "display_data"
    },
    {
     "data": {
      "application/vnd.jupyter.widget-view+json": {
       "model_id": "c349b2108a7940fdbc7863a44a779aa9",
       "version_major": 2,
       "version_minor": 0
      },
      "text/plain": [
       "Retrieving NIH projects for 2017-01-21:   0%|          | 0/311 [00:00<?, ?it/s]"
      ]
     },
     "metadata": {},
     "output_type": "display_data"
    },
    {
     "data": {
      "application/vnd.jupyter.widget-view+json": {
       "model_id": "4ef9d987d8b04e98ab10047ef295ccb4",
       "version_major": 2,
       "version_minor": 0
      },
      "text/plain": [
       "Retrieving NIH projects for 2017-01-28:   0%|          | 0/210 [00:00<?, ?it/s]"
      ]
     },
     "metadata": {},
     "output_type": "display_data"
    },
    {
     "data": {
      "application/vnd.jupyter.widget-view+json": {
       "model_id": "97854e9154e348db9eb328369ab0aa10",
       "version_major": 2,
       "version_minor": 0
      },
      "text/plain": [
       "Retrieving NIH projects for 2017-02-04:   0%|          | 0/2858 [00:00<?, ?it/s]"
      ]
     },
     "metadata": {},
     "output_type": "display_data"
    },
    {
     "data": {
      "application/vnd.jupyter.widget-view+json": {
       "model_id": "844ebe3fe3b841d390fb7295ca5b690e",
       "version_major": 2,
       "version_minor": 0
      },
      "text/plain": [
       "Retrieving NIH projects for 2017-02-10:   0%|          | 0/89 [00:00<?, ?it/s]"
      ]
     },
     "metadata": {},
     "output_type": "display_data"
    },
    {
     "data": {
      "application/vnd.jupyter.widget-view+json": {
       "model_id": "5643682b5c8a4841aabed320e93fbc8f",
       "version_major": 2,
       "version_minor": 0
      },
      "text/plain": [
       "Retrieving NIH projects for 2017-02-11:   0%|          | 0/325 [00:00<?, ?it/s]"
      ]
     },
     "metadata": {},
     "output_type": "display_data"
    },
    {
     "data": {
      "application/vnd.jupyter.widget-view+json": {
       "model_id": "8e5cd555aac14a83a76bdbdc9e76abd0",
       "version_major": 2,
       "version_minor": 0
      },
      "text/plain": [
       "Retrieving NIH projects for 2017-02-15:   0%|          | 0/2 [00:00<?, ?it/s]"
      ]
     },
     "metadata": {},
     "output_type": "display_data"
    },
    {
     "data": {
      "application/vnd.jupyter.widget-view+json": {
       "model_id": "3ffb6bc97dd7454f89a719959e555f7f",
       "version_major": 2,
       "version_minor": 0
      },
      "text/plain": [
       "Retrieving NIH projects for 2017-02-18:   0%|          | 0/309 [00:00<?, ?it/s]"
      ]
     },
     "metadata": {},
     "output_type": "display_data"
    },
    {
     "data": {
      "application/vnd.jupyter.widget-view+json": {
       "model_id": "ceee2e6de45a49f69c5d17b0906ad575",
       "version_major": 2,
       "version_minor": 0
      },
      "text/plain": [
       "Retrieving NIH projects for 2017-02-25:   0%|          | 0/163 [00:00<?, ?it/s]"
      ]
     },
     "metadata": {},
     "output_type": "display_data"
    },
    {
     "data": {
      "application/vnd.jupyter.widget-view+json": {
       "model_id": "d2786b2a6ece482a8baccf2ee025533d",
       "version_major": 2,
       "version_minor": 0
      },
      "text/plain": [
       "Retrieving NIH projects for 2017-03-04:   0%|          | 0/2956 [00:00<?, ?it/s]"
      ]
     },
     "metadata": {},
     "output_type": "display_data"
    },
    {
     "data": {
      "application/vnd.jupyter.widget-view+json": {
       "model_id": "2085f42da7ce41fe84532bf14d82e1b2",
       "version_major": 2,
       "version_minor": 0
      },
      "text/plain": [
       "Retrieving NIH projects for 2017-03-11:   0%|          | 0/424 [00:00<?, ?it/s]"
      ]
     },
     "metadata": {},
     "output_type": "display_data"
    },
    {
     "data": {
      "application/vnd.jupyter.widget-view+json": {
       "model_id": "d453f6bb57cb4991bfbcfeaca7d0e29d",
       "version_major": 2,
       "version_minor": 0
      },
      "text/plain": [
       "Retrieving NIH projects for 2017-03-18:   0%|          | 0/490 [00:00<?, ?it/s]"
      ]
     },
     "metadata": {},
     "output_type": "display_data"
    },
    {
     "data": {
      "application/vnd.jupyter.widget-view+json": {
       "model_id": "7cba2c9daf9e407cbbc62780efd7a71e",
       "version_major": 2,
       "version_minor": 0
      },
      "text/plain": [
       "Retrieving NIH projects for 2017-03-25:   0%|          | 0/186 [00:00<?, ?it/s]"
      ]
     },
     "metadata": {},
     "output_type": "display_data"
    },
    {
     "data": {
      "application/vnd.jupyter.widget-view+json": {
       "model_id": "66f69281605d4ceaaa2cbba8260ab77c",
       "version_major": 2,
       "version_minor": 0
      },
      "text/plain": [
       "Retrieving NIH projects for 2017-04-01:   0%|          | 0/5630 [00:00<?, ?it/s]"
      ]
     },
     "metadata": {},
     "output_type": "display_data"
    },
    {
     "data": {
      "application/vnd.jupyter.widget-view+json": {
       "model_id": "6dd57cdfdcfe41d697ebe62309222677",
       "version_major": 2,
       "version_minor": 0
      },
      "text/plain": [
       "Retrieving NIH projects for 2017-04-08:   0%|          | 0/687 [00:00<?, ?it/s]"
      ]
     },
     "metadata": {},
     "output_type": "display_data"
    },
    {
     "data": {
      "application/vnd.jupyter.widget-view+json": {
       "model_id": "5e090bcd65ad495286a65f0f00cade53",
       "version_major": 2,
       "version_minor": 0
      },
      "text/plain": [
       "Retrieving NIH projects for 2017-04-15:   0%|          | 0/612 [00:00<?, ?it/s]"
      ]
     },
     "metadata": {},
     "output_type": "display_data"
    },
    {
     "data": {
      "application/vnd.jupyter.widget-view+json": {
       "model_id": "dd6111acb4544fa79124113fabb27160",
       "version_major": 2,
       "version_minor": 0
      },
      "text/plain": [
       "Retrieving NIH projects for 2017-04-22:   0%|          | 0/299 [00:00<?, ?it/s]"
      ]
     },
     "metadata": {},
     "output_type": "display_data"
    },
    {
     "data": {
      "application/vnd.jupyter.widget-view+json": {
       "model_id": "63ff530256c34b2c964b2f1ee0cec5d2",
       "version_major": 2,
       "version_minor": 0
      },
      "text/plain": [
       "Retrieving NIH projects for 2017-04-29:   0%|          | 0/182 [00:00<?, ?it/s]"
      ]
     },
     "metadata": {},
     "output_type": "display_data"
    },
    {
     "data": {
      "application/vnd.jupyter.widget-view+json": {
       "model_id": "5e8a891cac70459f97053f6a7617f4ca",
       "version_major": 2,
       "version_minor": 0
      },
      "text/plain": [
       "Retrieving NIH projects for 2017-05-06:   0%|          | 0/4823 [00:00<?, ?it/s]"
      ]
     },
     "metadata": {},
     "output_type": "display_data"
    },
    {
     "data": {
      "application/vnd.jupyter.widget-view+json": {
       "model_id": "b366c5c9229447a19cf7c67f71043997",
       "version_major": 2,
       "version_minor": 0
      },
      "text/plain": [
       "Retrieving NIH projects for 2017-05-13:   0%|          | 0/461 [00:00<?, ?it/s]"
      ]
     },
     "metadata": {},
     "output_type": "display_data"
    },
    {
     "data": {
      "application/vnd.jupyter.widget-view+json": {
       "model_id": "f50b2b3014a94e2493301185ebe6cd52",
       "version_major": 2,
       "version_minor": 0
      },
      "text/plain": [
       "Retrieving NIH projects for 2017-05-20:   0%|          | 0/701 [00:00<?, ?it/s]"
      ]
     },
     "metadata": {},
     "output_type": "display_data"
    },
    {
     "data": {
      "application/vnd.jupyter.widget-view+json": {
       "model_id": "9c81a2f87efb456096f0a39003f84e65",
       "version_major": 2,
       "version_minor": 0
      },
      "text/plain": [
       "Retrieving NIH projects for 2017-05-27:   0%|          | 0/301 [00:00<?, ?it/s]"
      ]
     },
     "metadata": {},
     "output_type": "display_data"
    },
    {
     "data": {
      "application/vnd.jupyter.widget-view+json": {
       "model_id": "e544f5db395c4a579596d4ac5f78793a",
       "version_major": 2,
       "version_minor": 0
      },
      "text/plain": [
       "Retrieving NIH projects for 2017-06-03:   0%|          | 0/4232 [00:00<?, ?it/s]"
      ]
     },
     "metadata": {},
     "output_type": "display_data"
    },
    {
     "data": {
      "application/vnd.jupyter.widget-view+json": {
       "model_id": "40a8ea1a4bb74631a40dc5e703ae24b6",
       "version_major": 2,
       "version_minor": 0
      },
      "text/plain": [
       "Retrieving NIH projects for 2017-06-10:   0%|          | 0/654 [00:00<?, ?it/s]"
      ]
     },
     "metadata": {},
     "output_type": "display_data"
    },
    {
     "data": {
      "application/vnd.jupyter.widget-view+json": {
       "model_id": "e288eb8260ee4577b444b1ee875ffe4d",
       "version_major": 2,
       "version_minor": 0
      },
      "text/plain": [
       "Retrieving NIH projects for 2017-06-17:   0%|          | 0/737 [00:00<?, ?it/s]"
      ]
     },
     "metadata": {},
     "output_type": "display_data"
    },
    {
     "data": {
      "application/vnd.jupyter.widget-view+json": {
       "model_id": "83833201cadb4af48b92b42409576e0b",
       "version_major": 2,
       "version_minor": 0
      },
      "text/plain": [
       "Retrieving NIH projects for 2017-06-24:   0%|          | 0/532 [00:00<?, ?it/s]"
      ]
     },
     "metadata": {},
     "output_type": "display_data"
    },
    {
     "data": {
      "application/vnd.jupyter.widget-view+json": {
       "model_id": "b0976d6fd14a4629b306f62b1ad95ba1",
       "version_major": 2,
       "version_minor": 0
      },
      "text/plain": [
       "Retrieving NIH projects for 2017-07-01:   0%|          | 0/7320 [00:00<?, ?it/s]"
      ]
     },
     "metadata": {},
     "output_type": "display_data"
    },
    {
     "data": {
      "application/vnd.jupyter.widget-view+json": {
       "model_id": "ca89c45fe15d4b9a81bb479f3136fc0d",
       "version_major": 2,
       "version_minor": 0
      },
      "text/plain": [
       "Retrieving NIH projects for 2017-07-08:   0%|          | 0/1121 [00:00<?, ?it/s]"
      ]
     },
     "metadata": {},
     "output_type": "display_data"
    },
    {
     "data": {
      "application/vnd.jupyter.widget-view+json": {
       "model_id": "83e00ca8192544ca9341f651349acc82",
       "version_major": 2,
       "version_minor": 0
      },
      "text/plain": [
       "Retrieving NIH projects for 2017-07-15:   0%|          | 0/1611 [00:00<?, ?it/s]"
      ]
     },
     "metadata": {},
     "output_type": "display_data"
    },
    {
     "data": {
      "application/vnd.jupyter.widget-view+json": {
       "model_id": "fb42210ac3924ae996db9888f331a861",
       "version_major": 2,
       "version_minor": 0
      },
      "text/plain": [
       "Retrieving NIH projects for 2017-07-22:   0%|          | 0/900 [00:00<?, ?it/s]"
      ]
     },
     "metadata": {},
     "output_type": "display_data"
    },
    {
     "data": {
      "application/vnd.jupyter.widget-view+json": {
       "model_id": "0117bf1bb4e6469294dac54114eb76ba",
       "version_major": 2,
       "version_minor": 0
      },
      "text/plain": [
       "Retrieving NIH projects for 2017-07-29:   0%|          | 0/519 [00:00<?, ?it/s]"
      ]
     },
     "metadata": {},
     "output_type": "display_data"
    },
    {
     "data": {
      "application/vnd.jupyter.widget-view+json": {
       "model_id": "3b5319eef03e4e6d89e3413fd50a5ba3",
       "version_major": 2,
       "version_minor": 0
      },
      "text/plain": [
       "Retrieving NIH projects for 2017-08-05:   0%|          | 0/5880 [00:00<?, ?it/s]"
      ]
     },
     "metadata": {},
     "output_type": "display_data"
    },
    {
     "data": {
      "application/vnd.jupyter.widget-view+json": {
       "model_id": "add9205842ac47d2ae62fa3083c7f4c6",
       "version_major": 2,
       "version_minor": 0
      },
      "text/plain": [
       "Retrieving NIH projects for 2017-08-12:   0%|          | 0/883 [00:00<?, ?it/s]"
      ]
     },
     "metadata": {},
     "output_type": "display_data"
    },
    {
     "data": {
      "application/vnd.jupyter.widget-view+json": {
       "model_id": "4a7c757dbe6f4146bcdd5112f54139ad",
       "version_major": 2,
       "version_minor": 0
      },
      "text/plain": [
       "Retrieving NIH projects for 2017-08-19:   0%|          | 0/1354 [00:00<?, ?it/s]"
      ]
     },
     "metadata": {},
     "output_type": "display_data"
    },
    {
     "data": {
      "application/vnd.jupyter.widget-view+json": {
       "model_id": "6dc381e639174f86af70e235f9cffbe9",
       "version_major": 2,
       "version_minor": 0
      },
      "text/plain": [
       "Retrieving NIH projects for 2017-08-26:   0%|          | 0/720 [00:00<?, ?it/s]"
      ]
     },
     "metadata": {},
     "output_type": "display_data"
    },
    {
     "data": {
      "application/vnd.jupyter.widget-view+json": {
       "model_id": "3910f57e9d0e478599f1013de3842901",
       "version_major": 2,
       "version_minor": 0
      },
      "text/plain": [
       "Retrieving NIH projects for 2017-09-02:   0%|          | 0/7413 [00:00<?, ?it/s]"
      ]
     },
     "metadata": {},
     "output_type": "display_data"
    },
    {
     "data": {
      "application/vnd.jupyter.widget-view+json": {
       "model_id": "e80629ab2e73440e8de6db0c9e7f891c",
       "version_major": 2,
       "version_minor": 0
      },
      "text/plain": [
       "Retrieving NIH projects for 2017-09-09:   0%|          | 0/1093 [00:00<?, ?it/s]"
      ]
     },
     "metadata": {},
     "output_type": "display_data"
    },
    {
     "data": {
      "application/vnd.jupyter.widget-view+json": {
       "model_id": "37aaa6059c9a4fe381b13e3680a504ee",
       "version_major": 2,
       "version_minor": 0
      },
      "text/plain": [
       "Retrieving NIH projects for 2017-09-16:   0%|          | 0/2271 [00:00<?, ?it/s]"
      ]
     },
     "metadata": {},
     "output_type": "display_data"
    },
    {
     "data": {
      "application/vnd.jupyter.widget-view+json": {
       "model_id": "80cc6b98a2324505929dcd5312d88a32",
       "version_major": 2,
       "version_minor": 0
      },
      "text/plain": [
       "Retrieving NIH projects for 2017-09-23:   0%|          | 0/1543 [00:00<?, ?it/s]"
      ]
     },
     "metadata": {},
     "output_type": "display_data"
    },
    {
     "data": {
      "application/vnd.jupyter.widget-view+json": {
       "model_id": "b915e1bd86b54092898816b50b171a23",
       "version_major": 2,
       "version_minor": 0
      },
      "text/plain": [
       "Retrieving NIH projects for 2017-09-28:   0%|          | 0/1 [00:00<?, ?it/s]"
      ]
     },
     "metadata": {},
     "output_type": "display_data"
    },
    {
     "data": {
      "application/vnd.jupyter.widget-view+json": {
       "model_id": "49a2d108cbb64587a14477cbe65fc5f7",
       "version_major": 2,
       "version_minor": 0
      },
      "text/plain": [
       "Retrieving NIH projects for 2017-10-01:   0%|          | 0/1563 [00:00<?, ?it/s]"
      ]
     },
     "metadata": {},
     "output_type": "display_data"
    },
    {
     "data": {
      "application/vnd.jupyter.widget-view+json": {
       "model_id": "bcd2ae8729a948ec8d237aad580d6d92",
       "version_major": 2,
       "version_minor": 0
      },
      "text/plain": [
       "Retrieving NIH projects for 2017-10-07:   0%|          | 0/52 [00:00<?, ?it/s]"
      ]
     },
     "metadata": {},
     "output_type": "display_data"
    },
    {
     "data": {
      "application/vnd.jupyter.widget-view+json": {
       "model_id": "fdca6d0b1e164653abacb13f44702700",
       "version_major": 2,
       "version_minor": 0
      },
      "text/plain": [
       "Retrieving NIH projects for 2017-10-14:   0%|          | 0/10 [00:00<?, ?it/s]"
      ]
     },
     "metadata": {},
     "output_type": "display_data"
    },
    {
     "data": {
      "application/vnd.jupyter.widget-view+json": {
       "model_id": "3c5a732f04e44be5bcb68970d4da29fa",
       "version_major": 2,
       "version_minor": 0
      },
      "text/plain": [
       "Retrieving NIH projects for 2017-10-21:   0%|          | 0/2707 [00:00<?, ?it/s]"
      ]
     },
     "metadata": {},
     "output_type": "display_data"
    },
    {
     "data": {
      "application/vnd.jupyter.widget-view+json": {
       "model_id": "1b6796e931784bf2bee448cb34dc52a2",
       "version_major": 2,
       "version_minor": 0
      },
      "text/plain": [
       "Retrieving NIH projects for 2017-10-28:   0%|          | 0/414 [00:00<?, ?it/s]"
      ]
     },
     "metadata": {},
     "output_type": "display_data"
    },
    {
     "data": {
      "application/vnd.jupyter.widget-view+json": {
       "model_id": "fb823072000b4ca9a44190726a7a3a3a",
       "version_major": 2,
       "version_minor": 0
      },
      "text/plain": [
       "Retrieving NIH projects for 2017-11-04:   0%|          | 0/221 [00:00<?, ?it/s]"
      ]
     },
     "metadata": {},
     "output_type": "display_data"
    },
    {
     "data": {
      "application/vnd.jupyter.widget-view+json": {
       "model_id": "8fe941090d054d79b6b0ad19e3ca0dab",
       "version_major": 2,
       "version_minor": 0
      },
      "text/plain": [
       "Retrieving NIH projects for 2017-11-11:   0%|          | 0/69 [00:00<?, ?it/s]"
      ]
     },
     "metadata": {},
     "output_type": "display_data"
    },
    {
     "data": {
      "application/vnd.jupyter.widget-view+json": {
       "model_id": "4b70de447f5e49388f2d27030853f58b",
       "version_major": 2,
       "version_minor": 0
      },
      "text/plain": [
       "Retrieving NIH projects for 2017-11-18:   0%|          | 0/83 [00:00<?, ?it/s]"
      ]
     },
     "metadata": {},
     "output_type": "display_data"
    },
    {
     "data": {
      "application/vnd.jupyter.widget-view+json": {
       "model_id": "98b612daa5584e5281e3d8f9aadc17fa",
       "version_major": 2,
       "version_minor": 0
      },
      "text/plain": [
       "Retrieving NIH projects for 2017-11-25:   0%|          | 0/248 [00:00<?, ?it/s]"
      ]
     },
     "metadata": {},
     "output_type": "display_data"
    },
    {
     "data": {
      "application/vnd.jupyter.widget-view+json": {
       "model_id": "ebe2d44524544a6ba95bbafd562f6bc9",
       "version_major": 2,
       "version_minor": 0
      },
      "text/plain": [
       "Retrieving NIH projects for 2017-12-02:   0%|          | 0/1911 [00:00<?, ?it/s]"
      ]
     },
     "metadata": {},
     "output_type": "display_data"
    },
    {
     "data": {
      "application/vnd.jupyter.widget-view+json": {
       "model_id": "ab09497bb7f5496db3d6967196ff636b",
       "version_major": 2,
       "version_minor": 0
      },
      "text/plain": [
       "Retrieving NIH projects for 2017-12-09:   0%|          | 0/483 [00:00<?, ?it/s]"
      ]
     },
     "metadata": {},
     "output_type": "display_data"
    },
    {
     "data": {
      "application/vnd.jupyter.widget-view+json": {
       "model_id": "b4bc9c2766214551ab46c4dae52ffcc3",
       "version_major": 2,
       "version_minor": 0
      },
      "text/plain": [
       "Retrieving NIH projects for 2017-12-16:   0%|          | 0/494 [00:00<?, ?it/s]"
      ]
     },
     "metadata": {},
     "output_type": "display_data"
    },
    {
     "data": {
      "application/vnd.jupyter.widget-view+json": {
       "model_id": "26f8f3a513e44659a481987bbe7d987c",
       "version_major": 2,
       "version_minor": 0
      },
      "text/plain": [
       "Retrieving NIH projects for 2017-12-23:   0%|          | 0/367 [00:00<?, ?it/s]"
      ]
     },
     "metadata": {},
     "output_type": "display_data"
    },
    {
     "data": {
      "application/vnd.jupyter.widget-view+json": {
       "model_id": "5d0f54e42268478c8f7f525d2d2d17ff",
       "version_major": 2,
       "version_minor": 0
      },
      "text/plain": [
       "Retrieving NIH projects for 2017-12-30:   0%|          | 0/1443 [00:00<?, ?it/s]"
      ]
     },
     "metadata": {},
     "output_type": "display_data"
    },
    {
     "data": {
      "application/vnd.jupyter.widget-view+json": {
       "model_id": "e3f534b6e59f43d4be944b39ab5b695c",
       "version_major": 2,
       "version_minor": 0
      },
      "text/plain": [
       "Retrieving NIH projects for 2018-01-06:   0%|          | 0/2274 [00:00<?, ?it/s]"
      ]
     },
     "metadata": {},
     "output_type": "display_data"
    },
    {
     "data": {
      "application/vnd.jupyter.widget-view+json": {
       "model_id": "b90d44e0401a4d82890f9dee70fdea6b",
       "version_major": 2,
       "version_minor": 0
      },
      "text/plain": [
       "Retrieving NIH projects for 2018-01-13:   0%|          | 0/248 [00:00<?, ?it/s]"
      ]
     },
     "metadata": {},
     "output_type": "display_data"
    },
    {
     "data": {
      "application/vnd.jupyter.widget-view+json": {
       "model_id": "8d9fac5f470b4bff9ba75c5ecef4e896",
       "version_major": 2,
       "version_minor": 0
      },
      "text/plain": [
       "Retrieving NIH projects for 2018-01-20:   0%|          | 0/371 [00:00<?, ?it/s]"
      ]
     },
     "metadata": {},
     "output_type": "display_data"
    },
    {
     "data": {
      "application/vnd.jupyter.widget-view+json": {
       "model_id": "81d62cd1e9e348c19c262c32e51baad0",
       "version_major": 2,
       "version_minor": 0
      },
      "text/plain": [
       "Retrieving NIH projects for 2018-01-27:   0%|          | 0/178 [00:00<?, ?it/s]"
      ]
     },
     "metadata": {},
     "output_type": "display_data"
    },
    {
     "data": {
      "application/vnd.jupyter.widget-view+json": {
       "model_id": "e32b13a392ba4dcfa456eb20f555c8ed",
       "version_major": 2,
       "version_minor": 0
      },
      "text/plain": [
       "Retrieving NIH projects for 2018-02-03:   0%|          | 0/2799 [00:00<?, ?it/s]"
      ]
     },
     "metadata": {},
     "output_type": "display_data"
    },
    {
     "data": {
      "application/vnd.jupyter.widget-view+json": {
       "model_id": "19ff66299a634e4cab0091ee35e9736c",
       "version_major": 2,
       "version_minor": 0
      },
      "text/plain": [
       "Retrieving NIH projects for 2018-02-10:   0%|          | 0/371 [00:00<?, ?it/s]"
      ]
     },
     "metadata": {},
     "output_type": "display_data"
    },
    {
     "data": {
      "application/vnd.jupyter.widget-view+json": {
       "model_id": "ce73548defcc47548cb389ecf08161cf",
       "version_major": 2,
       "version_minor": 0
      },
      "text/plain": [
       "Retrieving NIH projects for 2018-02-17:   0%|          | 0/381 [00:00<?, ?it/s]"
      ]
     },
     "metadata": {},
     "output_type": "display_data"
    },
    {
     "data": {
      "application/vnd.jupyter.widget-view+json": {
       "model_id": "f41d4809b81547968447fa83a44df761",
       "version_major": 2,
       "version_minor": 0
      },
      "text/plain": [
       "Retrieving NIH projects for 2018-02-24:   0%|          | 0/230 [00:00<?, ?it/s]"
      ]
     },
     "metadata": {},
     "output_type": "display_data"
    },
    {
     "data": {
      "application/vnd.jupyter.widget-view+json": {
       "model_id": "e71774479cb141748d87368915b9e07b",
       "version_major": 2,
       "version_minor": 0
      },
      "text/plain": [
       "Retrieving NIH projects for 2018-03-03:   0%|          | 0/3167 [00:00<?, ?it/s]"
      ]
     },
     "metadata": {},
     "output_type": "display_data"
    },
    {
     "data": {
      "application/vnd.jupyter.widget-view+json": {
       "model_id": "ff8f4dcd79c24283b9ebef76d30ff482",
       "version_major": 2,
       "version_minor": 0
      },
      "text/plain": [
       "Retrieving NIH projects for 2018-03-10:   0%|          | 0/277 [00:00<?, ?it/s]"
      ]
     },
     "metadata": {},
     "output_type": "display_data"
    },
    {
     "data": {
      "application/vnd.jupyter.widget-view+json": {
       "model_id": "55b83dd767264ccaac3b115cd98f0061",
       "version_major": 2,
       "version_minor": 0
      },
      "text/plain": [
       "Retrieving NIH projects for 2018-03-17:   0%|          | 0/382 [00:00<?, ?it/s]"
      ]
     },
     "metadata": {},
     "output_type": "display_data"
    },
    {
     "data": {
      "application/vnd.jupyter.widget-view+json": {
       "model_id": "4ed2000220f248a88a2dc5a42240050b",
       "version_major": 2,
       "version_minor": 0
      },
      "text/plain": [
       "Retrieving NIH projects for 2018-03-24:   0%|          | 0/164 [00:00<?, ?it/s]"
      ]
     },
     "metadata": {},
     "output_type": "display_data"
    },
    {
     "data": {
      "application/vnd.jupyter.widget-view+json": {
       "model_id": "c40a149bb2e84c27a248b042e655883d",
       "version_major": 2,
       "version_minor": 0
      },
      "text/plain": [
       "Retrieving NIH projects for 2018-03-31:   0%|          | 0/157 [00:00<?, ?it/s]"
      ]
     },
     "metadata": {},
     "output_type": "display_data"
    },
    {
     "data": {
      "application/vnd.jupyter.widget-view+json": {
       "model_id": "34615ff5d0b24ef1802830dc6b76b076",
       "version_major": 2,
       "version_minor": 0
      },
      "text/plain": [
       "Retrieving NIH projects for 2018-04-07:   0%|          | 0/5134 [00:00<?, ?it/s]"
      ]
     },
     "metadata": {},
     "output_type": "display_data"
    },
    {
     "data": {
      "application/vnd.jupyter.widget-view+json": {
       "model_id": "04fd71da36794d1bbea36d6da3c1f82b",
       "version_major": 2,
       "version_minor": 0
      },
      "text/plain": [
       "Retrieving NIH projects for 2018-04-14:   0%|          | 0/626 [00:00<?, ?it/s]"
      ]
     },
     "metadata": {},
     "output_type": "display_data"
    },
    {
     "data": {
      "application/vnd.jupyter.widget-view+json": {
       "model_id": "d0105ef07b924485add87be1222c8f5e",
       "version_major": 2,
       "version_minor": 0
      },
      "text/plain": [
       "Retrieving NIH projects for 2018-04-21:   0%|          | 0/690 [00:00<?, ?it/s]"
      ]
     },
     "metadata": {},
     "output_type": "display_data"
    },
    {
     "data": {
      "application/vnd.jupyter.widget-view+json": {
       "model_id": "b6bbed25076446dc89c02b5120c92fe9",
       "version_major": 2,
       "version_minor": 0
      },
      "text/plain": [
       "Retrieving NIH projects for 2018-04-28:   0%|          | 0/367 [00:00<?, ?it/s]"
      ]
     },
     "metadata": {},
     "output_type": "display_data"
    },
    {
     "data": {
      "application/vnd.jupyter.widget-view+json": {
       "model_id": "5f31e41ac26747c690353e034adb1c6b",
       "version_major": 2,
       "version_minor": 0
      },
      "text/plain": [
       "Retrieving NIH projects for 2018-05-05:   0%|          | 0/4960 [00:00<?, ?it/s]"
      ]
     },
     "metadata": {},
     "output_type": "display_data"
    },
    {
     "data": {
      "application/vnd.jupyter.widget-view+json": {
       "model_id": "986590b130d04aa9b1efed713bff5081",
       "version_major": 2,
       "version_minor": 0
      },
      "text/plain": [
       "Retrieving NIH projects for 2018-05-12:   0%|          | 0/611 [00:00<?, ?it/s]"
      ]
     },
     "metadata": {},
     "output_type": "display_data"
    },
    {
     "data": {
      "application/vnd.jupyter.widget-view+json": {
       "model_id": "35251ac602cb4db790d53ed2a711a1a1",
       "version_major": 2,
       "version_minor": 0
      },
      "text/plain": [
       "Retrieving NIH projects for 2018-05-19:   0%|          | 0/707 [00:00<?, ?it/s]"
      ]
     },
     "metadata": {},
     "output_type": "display_data"
    },
    {
     "data": {
      "application/vnd.jupyter.widget-view+json": {
       "model_id": "737044572a11418ba14167d5980f4001",
       "version_major": 2,
       "version_minor": 0
      },
      "text/plain": [
       "Retrieving NIH projects for 2018-05-26:   0%|          | 0/417 [00:00<?, ?it/s]"
      ]
     },
     "metadata": {},
     "output_type": "display_data"
    },
    {
     "data": {
      "application/vnd.jupyter.widget-view+json": {
       "model_id": "b5c6993439c64d36a200c178d63c7d58",
       "version_major": 2,
       "version_minor": 0
      },
      "text/plain": [
       "Retrieving NIH projects for 2018-06-02:   0%|          | 0/4756 [00:00<?, ?it/s]"
      ]
     },
     "metadata": {},
     "output_type": "display_data"
    },
    {
     "data": {
      "application/vnd.jupyter.widget-view+json": {
       "model_id": "67014d31d7b64663b27bbe32ee377430",
       "version_major": 2,
       "version_minor": 0
      },
      "text/plain": [
       "Retrieving NIH projects for 2018-06-09:   0%|          | 0/673 [00:00<?, ?it/s]"
      ]
     },
     "metadata": {},
     "output_type": "display_data"
    },
    {
     "data": {
      "application/vnd.jupyter.widget-view+json": {
       "model_id": "d5f599df7ad34d78aae4dd8d09a461c8",
       "version_major": 2,
       "version_minor": 0
      },
      "text/plain": [
       "Retrieving NIH projects for 2018-06-16:   0%|          | 0/931 [00:00<?, ?it/s]"
      ]
     },
     "metadata": {},
     "output_type": "display_data"
    },
    {
     "data": {
      "application/vnd.jupyter.widget-view+json": {
       "model_id": "9d02b0fcee8b48c3a51822ce7ed5970b",
       "version_major": 2,
       "version_minor": 0
      },
      "text/plain": [
       "Retrieving NIH projects for 2018-06-23:   0%|          | 0/470 [00:00<?, ?it/s]"
      ]
     },
     "metadata": {},
     "output_type": "display_data"
    },
    {
     "data": {
      "application/vnd.jupyter.widget-view+json": {
       "model_id": "76536015210d4913a9dc5622de36ba2f",
       "version_major": 2,
       "version_minor": 0
      },
      "text/plain": [
       "Retrieving NIH projects for 2018-06-30:   0%|          | 0/280 [00:00<?, ?it/s]"
      ]
     },
     "metadata": {},
     "output_type": "display_data"
    },
    {
     "data": {
      "application/vnd.jupyter.widget-view+json": {
       "model_id": "de634341825b4317868bc81130370aef",
       "version_major": 2,
       "version_minor": 0
      },
      "text/plain": [
       "Retrieving NIH projects for 2018-07-07:   0%|          | 0/8068 [00:00<?, ?it/s]"
      ]
     },
     "metadata": {},
     "output_type": "display_data"
    },
    {
     "data": {
      "application/vnd.jupyter.widget-view+json": {
       "model_id": "8b7f6fdc536f4dbab445fe6d4c7a68ee",
       "version_major": 2,
       "version_minor": 0
      },
      "text/plain": [
       "Retrieving NIH projects for 2018-07-14:   0%|          | 0/976 [00:00<?, ?it/s]"
      ]
     },
     "metadata": {},
     "output_type": "display_data"
    },
    {
     "data": {
      "application/vnd.jupyter.widget-view+json": {
       "model_id": "61ac63dbbb43432ab006c0de266b42f2",
       "version_major": 2,
       "version_minor": 0
      },
      "text/plain": [
       "Retrieving NIH projects for 2018-07-21:   0%|          | 0/1056 [00:00<?, ?it/s]"
      ]
     },
     "metadata": {},
     "output_type": "display_data"
    },
    {
     "data": {
      "application/vnd.jupyter.widget-view+json": {
       "model_id": "3d6c63b11aec4ded89bc19a9b1afe09f",
       "version_major": 2,
       "version_minor": 0
      },
      "text/plain": [
       "Retrieving NIH projects for 2018-07-28:   0%|          | 0/706 [00:00<?, ?it/s]"
      ]
     },
     "metadata": {},
     "output_type": "display_data"
    },
    {
     "data": {
      "application/vnd.jupyter.widget-view+json": {
       "model_id": "706464f44af444c59b96568d4b858b86",
       "version_major": 2,
       "version_minor": 0
      },
      "text/plain": [
       "Retrieving NIH projects for 2018-08-04:   0%|          | 0/6144 [00:00<?, ?it/s]"
      ]
     },
     "metadata": {},
     "output_type": "display_data"
    },
    {
     "data": {
      "application/vnd.jupyter.widget-view+json": {
       "model_id": "3c21004996484128b44135f40efd6359",
       "version_major": 2,
       "version_minor": 0
      },
      "text/plain": [
       "Retrieving NIH projects for 2018-08-11:   0%|          | 0/1091 [00:00<?, ?it/s]"
      ]
     },
     "metadata": {},
     "output_type": "display_data"
    },
    {
     "data": {
      "application/vnd.jupyter.widget-view+json": {
       "model_id": "60e547aab28449608b7789ab2cfffa36",
       "version_major": 2,
       "version_minor": 0
      },
      "text/plain": [
       "Retrieving NIH projects for 2018-08-18:   0%|          | 0/1485 [00:00<?, ?it/s]"
      ]
     },
     "metadata": {},
     "output_type": "display_data"
    },
    {
     "data": {
      "application/vnd.jupyter.widget-view+json": {
       "model_id": "f220bd46625a4f078985774f4dffe3f5",
       "version_major": 2,
       "version_minor": 0
      },
      "text/plain": [
       "Retrieving NIH projects for 2018-08-25:   0%|          | 0/932 [00:00<?, ?it/s]"
      ]
     },
     "metadata": {},
     "output_type": "display_data"
    },
    {
     "data": {
      "application/vnd.jupyter.widget-view+json": {
       "model_id": "a543e16947ab48cc916cdf62987ab099",
       "version_major": 2,
       "version_minor": 0
      },
      "text/plain": [
       "Retrieving NIH projects for 2018-09-01:   0%|          | 0/7396 [00:00<?, ?it/s]"
      ]
     },
     "metadata": {},
     "output_type": "display_data"
    },
    {
     "data": {
      "application/vnd.jupyter.widget-view+json": {
       "model_id": "448c63758f5049c687608cbc23da8832",
       "version_major": 2,
       "version_minor": 0
      },
      "text/plain": [
       "Retrieving NIH projects for 2018-09-08:   0%|          | 0/1454 [00:00<?, ?it/s]"
      ]
     },
     "metadata": {},
     "output_type": "display_data"
    },
    {
     "data": {
      "application/vnd.jupyter.widget-view+json": {
       "model_id": "00749c8c40a742d1a0fd12e534d82cd4",
       "version_major": 2,
       "version_minor": 0
      },
      "text/plain": [
       "Retrieving NIH projects for 2018-09-15:   0%|          | 0/5524 [00:00<?, ?it/s]"
      ]
     },
     "metadata": {},
     "output_type": "display_data"
    },
    {
     "data": {
      "application/vnd.jupyter.widget-view+json": {
       "model_id": "f66df4159abb4368b1449b49c13f0563",
       "version_major": 2,
       "version_minor": 0
      },
      "text/plain": [
       "Retrieving NIH projects for 2018-09-22:   0%|          | 0/3628 [00:00<?, ?it/s]"
      ]
     },
     "metadata": {},
     "output_type": "display_data"
    },
    {
     "data": {
      "application/vnd.jupyter.widget-view+json": {
       "model_id": "779a9528064445c8834bedafbb698acf",
       "version_major": 2,
       "version_minor": 0
      },
      "text/plain": [
       "Retrieving NIH projects for 2018-09-29:   0%|          | 0/500 [00:00<?, ?it/s]"
      ]
     },
     "metadata": {},
     "output_type": "display_data"
    },
    {
     "data": {
      "application/vnd.jupyter.widget-view+json": {
       "model_id": "13f99546d0804f969ea0cfc284799d8b",
       "version_major": 2,
       "version_minor": 0
      },
      "text/plain": [
       "Retrieving NIH projects for 2018-10-01:   0%|          | 0/56 [00:00<?, ?it/s]"
      ]
     },
     "metadata": {},
     "output_type": "display_data"
    },
    {
     "data": {
      "application/vnd.jupyter.widget-view+json": {
       "model_id": "d4b8039368024d92b7f61e599bb6f31e",
       "version_major": 2,
       "version_minor": 0
      },
      "text/plain": [
       "Retrieving NIH projects for 2018-10-02:   0%|          | 0/1151 [00:00<?, ?it/s]"
      ]
     },
     "metadata": {},
     "output_type": "display_data"
    },
    {
     "data": {
      "application/vnd.jupyter.widget-view+json": {
       "model_id": "45e550aba4f34e1ba3e2144eec4e97bd",
       "version_major": 2,
       "version_minor": 0
      },
      "text/plain": [
       "Retrieving NIH projects for 2018-10-03:   0%|          | 0/7 [00:00<?, ?it/s]"
      ]
     },
     "metadata": {},
     "output_type": "display_data"
    },
    {
     "data": {
      "application/vnd.jupyter.widget-view+json": {
       "model_id": "6d1ad0d2a1c24130b32d6c46a1fcd545",
       "version_major": 2,
       "version_minor": 0
      },
      "text/plain": [
       "Retrieving NIH projects for 2018-10-06:   0%|          | 0/366 [00:00<?, ?it/s]"
      ]
     },
     "metadata": {},
     "output_type": "display_data"
    },
    {
     "data": {
      "application/vnd.jupyter.widget-view+json": {
       "model_id": "44db213c0f764e46a1009b0bb5259cd0",
       "version_major": 2,
       "version_minor": 0
      },
      "text/plain": [
       "Retrieving NIH projects for 2018-10-13:   0%|          | 0/2 [00:00<?, ?it/s]"
      ]
     },
     "metadata": {},
     "output_type": "display_data"
    },
    {
     "data": {
      "application/vnd.jupyter.widget-view+json": {
       "model_id": "1a9ae74957064cf586874a92784a65d4",
       "version_major": 2,
       "version_minor": 0
      },
      "text/plain": [
       "Retrieving NIH projects for 2018-10-20:   0%|          | 0/8 [00:00<?, ?it/s]"
      ]
     },
     "metadata": {},
     "output_type": "display_data"
    },
    {
     "data": {
      "application/vnd.jupyter.widget-view+json": {
       "model_id": "358ebe3ba804479eba8f6cf3919c549c",
       "version_major": 2,
       "version_minor": 0
      },
      "text/plain": [
       "Retrieving NIH projects for 2018-10-27:   0%|          | 0/101 [00:00<?, ?it/s]"
      ]
     },
     "metadata": {},
     "output_type": "display_data"
    },
    {
     "data": {
      "application/vnd.jupyter.widget-view+json": {
       "model_id": "8447167f7abc4009b3b905f08a251790",
       "version_major": 2,
       "version_minor": 0
      },
      "text/plain": [
       "Retrieving NIH projects for 2018-11-03:   0%|          | 0/448 [00:00<?, ?it/s]"
      ]
     },
     "metadata": {},
     "output_type": "display_data"
    },
    {
     "data": {
      "application/vnd.jupyter.widget-view+json": {
       "model_id": "4e81f14fd3ac4f58b86f1cfa2daede8c",
       "version_major": 2,
       "version_minor": 0
      },
      "text/plain": [
       "Retrieving NIH projects for 2018-11-10:   0%|          | 0/74 [00:00<?, ?it/s]"
      ]
     },
     "metadata": {},
     "output_type": "display_data"
    },
    {
     "data": {
      "application/vnd.jupyter.widget-view+json": {
       "model_id": "a855ae52b0ef4d84a58ed94ed675e082",
       "version_major": 2,
       "version_minor": 0
      },
      "text/plain": [
       "Retrieving NIH projects for 2018-11-17:   0%|          | 0/122 [00:00<?, ?it/s]"
      ]
     },
     "metadata": {},
     "output_type": "display_data"
    },
    {
     "data": {
      "application/vnd.jupyter.widget-view+json": {
       "model_id": "a89185f7765e44e68b8e6f5999d0d05e",
       "version_major": 2,
       "version_minor": 0
      },
      "text/plain": [
       "Retrieving NIH projects for 2018-11-24:   0%|          | 0/67 [00:00<?, ?it/s]"
      ]
     },
     "metadata": {},
     "output_type": "display_data"
    },
    {
     "data": {
      "application/vnd.jupyter.widget-view+json": {
       "model_id": "55106c13391a46618ef573e77c67b47c",
       "version_major": 2,
       "version_minor": 0
      },
      "text/plain": [
       "Retrieving NIH projects for 2018-12-01:   0%|          | 0/1820 [00:00<?, ?it/s]"
      ]
     },
     "metadata": {},
     "output_type": "display_data"
    },
    {
     "data": {
      "application/vnd.jupyter.widget-view+json": {
       "model_id": "d59eef20ea674bc6ad4ba7000a4d727f",
       "version_major": 2,
       "version_minor": 0
      },
      "text/plain": [
       "Retrieving NIH projects for 2018-12-08:   0%|          | 0/287 [00:00<?, ?it/s]"
      ]
     },
     "metadata": {},
     "output_type": "display_data"
    },
    {
     "data": {
      "application/vnd.jupyter.widget-view+json": {
       "model_id": "d7f10d9d6b23456396c61627af74ff85",
       "version_major": 2,
       "version_minor": 0
      },
      "text/plain": [
       "Retrieving NIH projects for 2018-12-15:   0%|          | 0/4942 [00:00<?, ?it/s]"
      ]
     },
     "metadata": {},
     "output_type": "display_data"
    },
    {
     "data": {
      "application/vnd.jupyter.widget-view+json": {
       "model_id": "a5e20c107a024b63a560be80834fa530",
       "version_major": 2,
       "version_minor": 0
      },
      "text/plain": [
       "Retrieving NIH projects for 2018-12-22:   0%|          | 0/251 [00:00<?, ?it/s]"
      ]
     },
     "metadata": {},
     "output_type": "display_data"
    },
    {
     "data": {
      "application/vnd.jupyter.widget-view+json": {
       "model_id": "6137d1bcb7754544a20fec3f210e2c66",
       "version_major": 2,
       "version_minor": 0
      },
      "text/plain": [
       "Retrieving NIH projects for 2018-12-29:   0%|          | 0/128 [00:00<?, ?it/s]"
      ]
     },
     "metadata": {},
     "output_type": "display_data"
    },
    {
     "data": {
      "application/vnd.jupyter.widget-view+json": {
       "model_id": "a090939d6aed4b5c9480c3aee65e032e",
       "version_major": 2,
       "version_minor": 0
      },
      "text/plain": [
       "Retrieving NIH projects for 2019-01-05:   0%|          | 0/2326 [00:00<?, ?it/s]"
      ]
     },
     "metadata": {},
     "output_type": "display_data"
    },
    {
     "data": {
      "application/vnd.jupyter.widget-view+json": {
       "model_id": "b521c6917b1c4631adec9f772bec8625",
       "version_major": 2,
       "version_minor": 0
      },
      "text/plain": [
       "Retrieving NIH projects for 2019-01-12:   0%|          | 0/410 [00:00<?, ?it/s]"
      ]
     },
     "metadata": {},
     "output_type": "display_data"
    },
    {
     "data": {
      "application/vnd.jupyter.widget-view+json": {
       "model_id": "3d647c75df2e4f3186f04b376139c411",
       "version_major": 2,
       "version_minor": 0
      },
      "text/plain": [
       "Retrieving NIH projects for 2019-01-19:   0%|          | 0/644 [00:00<?, ?it/s]"
      ]
     },
     "metadata": {},
     "output_type": "display_data"
    },
    {
     "data": {
      "application/vnd.jupyter.widget-view+json": {
       "model_id": "aa85d43e1a03472ea144541f78ea6922",
       "version_major": 2,
       "version_minor": 0
      },
      "text/plain": [
       "Retrieving NIH projects for 2019-01-26:   0%|          | 0/200 [00:00<?, ?it/s]"
      ]
     },
     "metadata": {},
     "output_type": "display_data"
    },
    {
     "data": {
      "application/vnd.jupyter.widget-view+json": {
       "model_id": "656de9e47f0642e2b57a37f8147c8a7e",
       "version_major": 2,
       "version_minor": 0
      },
      "text/plain": [
       "Retrieving NIH projects for 2019-02-02:   0%|          | 0/3055 [00:00<?, ?it/s]"
      ]
     },
     "metadata": {},
     "output_type": "display_data"
    },
    {
     "data": {
      "application/vnd.jupyter.widget-view+json": {
       "model_id": "996a41b979684c639eca5137a9febfb3",
       "version_major": 2,
       "version_minor": 0
      },
      "text/plain": [
       "Retrieving NIH projects for 2019-02-09:   0%|          | 0/771 [00:00<?, ?it/s]"
      ]
     },
     "metadata": {},
     "output_type": "display_data"
    },
    {
     "data": {
      "application/vnd.jupyter.widget-view+json": {
       "model_id": "75b31c7426d74141b9d1b465541364fd",
       "version_major": 2,
       "version_minor": 0
      },
      "text/plain": [
       "Retrieving NIH projects for 2019-02-16:   0%|          | 0/749 [00:00<?, ?it/s]"
      ]
     },
     "metadata": {},
     "output_type": "display_data"
    },
    {
     "data": {
      "application/vnd.jupyter.widget-view+json": {
       "model_id": "01b19e3c0b844cb3aa614235c2fe01ff",
       "version_major": 2,
       "version_minor": 0
      },
      "text/plain": [
       "Retrieving NIH projects for 2019-02-23:   0%|          | 0/220 [00:00<?, ?it/s]"
      ]
     },
     "metadata": {},
     "output_type": "display_data"
    },
    {
     "data": {
      "application/vnd.jupyter.widget-view+json": {
       "model_id": "cea45cfa1a5747fcadfa738891fe418d",
       "version_major": 2,
       "version_minor": 0
      },
      "text/plain": [
       "Retrieving NIH projects for 2019-03-02:   0%|          | 0/2807 [00:00<?, ?it/s]"
      ]
     },
     "metadata": {},
     "output_type": "display_data"
    },
    {
     "data": {
      "application/vnd.jupyter.widget-view+json": {
       "model_id": "346420c2a26c44cabc0715c35f118c88",
       "version_major": 2,
       "version_minor": 0
      },
      "text/plain": [
       "Retrieving NIH projects for 2019-03-09:   0%|          | 0/643 [00:00<?, ?it/s]"
      ]
     },
     "metadata": {},
     "output_type": "display_data"
    },
    {
     "data": {
      "application/vnd.jupyter.widget-view+json": {
       "model_id": "56c78e6400f942e8beec9d84b6fd6b32",
       "version_major": 2,
       "version_minor": 0
      },
      "text/plain": [
       "Retrieving NIH projects for 2019-03-16:   0%|          | 0/501 [00:00<?, ?it/s]"
      ]
     },
     "metadata": {},
     "output_type": "display_data"
    },
    {
     "data": {
      "application/vnd.jupyter.widget-view+json": {
       "model_id": "2fd56122e08147f9a6f1c3fc76234d3a",
       "version_major": 2,
       "version_minor": 0
      },
      "text/plain": [
       "Retrieving NIH projects for 2019-03-23:   0%|          | 0/221 [00:00<?, ?it/s]"
      ]
     },
     "metadata": {},
     "output_type": "display_data"
    },
    {
     "data": {
      "application/vnd.jupyter.widget-view+json": {
       "model_id": "c9d4e686563d47a49a9ec63ef4d41c95",
       "version_major": 2,
       "version_minor": 0
      },
      "text/plain": [
       "Retrieving NIH projects for 2019-03-30:   0%|          | 0/203 [00:00<?, ?it/s]"
      ]
     },
     "metadata": {},
     "output_type": "display_data"
    },
    {
     "data": {
      "application/vnd.jupyter.widget-view+json": {
       "model_id": "e489ec8de7464869a265810a16c192c9",
       "version_major": 2,
       "version_minor": 0
      },
      "text/plain": [
       "Retrieving NIH projects for 2019-04-06:   0%|          | 0/5801 [00:00<?, ?it/s]"
      ]
     },
     "metadata": {},
     "output_type": "display_data"
    },
    {
     "data": {
      "application/vnd.jupyter.widget-view+json": {
       "model_id": "c565a78e1f7c450d91203294e685ccce",
       "version_major": 2,
       "version_minor": 0
      },
      "text/plain": [
       "Retrieving NIH projects for 2019-04-13:   0%|          | 0/619 [00:00<?, ?it/s]"
      ]
     },
     "metadata": {},
     "output_type": "display_data"
    },
    {
     "data": {
      "application/vnd.jupyter.widget-view+json": {
       "model_id": "231dbcd6f2604c6b8b14b86667010a23",
       "version_major": 2,
       "version_minor": 0
      },
      "text/plain": [
       "Retrieving NIH projects for 2019-04-20:   0%|          | 0/757 [00:00<?, ?it/s]"
      ]
     },
     "metadata": {},
     "output_type": "display_data"
    },
    {
     "data": {
      "application/vnd.jupyter.widget-view+json": {
       "model_id": "ea540770ee964ed18fecb3c1254fb341",
       "version_major": 2,
       "version_minor": 0
      },
      "text/plain": [
       "Retrieving NIH projects for 2019-04-27:   0%|          | 0/332 [00:00<?, ?it/s]"
      ]
     },
     "metadata": {},
     "output_type": "display_data"
    },
    {
     "data": {
      "application/vnd.jupyter.widget-view+json": {
       "model_id": "618e0bd015284c09969425c1349e4db7",
       "version_major": 2,
       "version_minor": 0
      },
      "text/plain": [
       "Retrieving NIH projects for 2019-05-04:   0%|          | 0/4697 [00:00<?, ?it/s]"
      ]
     },
     "metadata": {},
     "output_type": "display_data"
    },
    {
     "data": {
      "application/vnd.jupyter.widget-view+json": {
       "model_id": "460b9e60049e483abb8b926c095a98f8",
       "version_major": 2,
       "version_minor": 0
      },
      "text/plain": [
       "Retrieving NIH projects for 2019-05-11:   0%|          | 0/655 [00:00<?, ?it/s]"
      ]
     },
     "metadata": {},
     "output_type": "display_data"
    },
    {
     "data": {
      "application/vnd.jupyter.widget-view+json": {
       "model_id": "fa7c059ff4b8441d8933e4a510daef3b",
       "version_major": 2,
       "version_minor": 0
      },
      "text/plain": [
       "Retrieving NIH projects for 2019-05-18:   0%|          | 0/855 [00:00<?, ?it/s]"
      ]
     },
     "metadata": {},
     "output_type": "display_data"
    },
    {
     "data": {
      "application/vnd.jupyter.widget-view+json": {
       "model_id": "ab6e665beb60443eb010fd0306669833",
       "version_major": 2,
       "version_minor": 0
      },
      "text/plain": [
       "Retrieving NIH projects for 2019-05-25:   0%|          | 0/456 [00:00<?, ?it/s]"
      ]
     },
     "metadata": {},
     "output_type": "display_data"
    },
    {
     "data": {
      "application/vnd.jupyter.widget-view+json": {
       "model_id": "d2c50f80232c43bf830f548f90411463",
       "version_major": 2,
       "version_minor": 0
      },
      "text/plain": [
       "Retrieving NIH projects for 2019-06-01:   0%|          | 0/4912 [00:00<?, ?it/s]"
      ]
     },
     "metadata": {},
     "output_type": "display_data"
    },
    {
     "data": {
      "application/vnd.jupyter.widget-view+json": {
       "model_id": "0fde45187c5641bb803bead0b816e87b",
       "version_major": 2,
       "version_minor": 0
      },
      "text/plain": [
       "Retrieving NIH projects for 2019-06-08:   0%|          | 0/1029 [00:00<?, ?it/s]"
      ]
     },
     "metadata": {},
     "output_type": "display_data"
    },
    {
     "data": {
      "application/vnd.jupyter.widget-view+json": {
       "model_id": "b648296e518c4a53a7e5ea820b4b144e",
       "version_major": 2,
       "version_minor": 0
      },
      "text/plain": [
       "Retrieving NIH projects for 2019-06-15:   0%|          | 0/942 [00:00<?, ?it/s]"
      ]
     },
     "metadata": {},
     "output_type": "display_data"
    },
    {
     "data": {
      "application/vnd.jupyter.widget-view+json": {
       "model_id": "5824fe1123224163ba3e4977269c58c1",
       "version_major": 2,
       "version_minor": 0
      },
      "text/plain": [
       "Retrieving NIH projects for 2019-06-22:   0%|          | 0/573 [00:00<?, ?it/s]"
      ]
     },
     "metadata": {},
     "output_type": "display_data"
    },
    {
     "data": {
      "application/vnd.jupyter.widget-view+json": {
       "model_id": "47b3e7f6ef5d489f8250b828d7b9ba53",
       "version_major": 2,
       "version_minor": 0
      },
      "text/plain": [
       "Retrieving NIH projects for 2019-06-29:   0%|          | 0/412 [00:00<?, ?it/s]"
      ]
     },
     "metadata": {},
     "output_type": "display_data"
    },
    {
     "data": {
      "application/vnd.jupyter.widget-view+json": {
       "model_id": "554664d7bc344da48ecf8c853316b0f5",
       "version_major": 2,
       "version_minor": 0
      },
      "text/plain": [
       "Retrieving NIH projects for 2019-07-06:   0%|          | 0/8034 [00:00<?, ?it/s]"
      ]
     },
     "metadata": {},
     "output_type": "display_data"
    },
    {
     "data": {
      "application/vnd.jupyter.widget-view+json": {
       "model_id": "c8828eb33bc942fcb3cb20ef45055103",
       "version_major": 2,
       "version_minor": 0
      },
      "text/plain": [
       "Retrieving NIH projects for 2019-07-13:   0%|          | 0/1057 [00:00<?, ?it/s]"
      ]
     },
     "metadata": {},
     "output_type": "display_data"
    },
    {
     "data": {
      "application/vnd.jupyter.widget-view+json": {
       "model_id": "71e131cac5764266a017879a8d20bd08",
       "version_major": 2,
       "version_minor": 0
      },
      "text/plain": [
       "Retrieving NIH projects for 2019-07-20:   0%|          | 0/1410 [00:00<?, ?it/s]"
      ]
     },
     "metadata": {},
     "output_type": "display_data"
    },
    {
     "data": {
      "application/vnd.jupyter.widget-view+json": {
       "model_id": "6f14042e09b4491c883c7cf21e139c0b",
       "version_major": 2,
       "version_minor": 0
      },
      "text/plain": [
       "Retrieving NIH projects for 2019-07-27:   0%|          | 0/894 [00:00<?, ?it/s]"
      ]
     },
     "metadata": {},
     "output_type": "display_data"
    },
    {
     "data": {
      "application/vnd.jupyter.widget-view+json": {
       "model_id": "c97d88b8fa3044c38fc27469ed578e52",
       "version_major": 2,
       "version_minor": 0
      },
      "text/plain": [
       "Retrieving NIH projects for 2019-08-03:   0%|          | 0/6193 [00:00<?, ?it/s]"
      ]
     },
     "metadata": {},
     "output_type": "display_data"
    },
    {
     "data": {
      "application/vnd.jupyter.widget-view+json": {
       "model_id": "95310c8c1e25472f9b28f96dddf641e9",
       "version_major": 2,
       "version_minor": 0
      },
      "text/plain": [
       "Retrieving NIH projects for 2019-08-10:   0%|          | 0/1311 [00:00<?, ?it/s]"
      ]
     },
     "metadata": {},
     "output_type": "display_data"
    },
    {
     "data": {
      "application/vnd.jupyter.widget-view+json": {
       "model_id": "d29c9d0d360c4551b516af2e68e6e436",
       "version_major": 2,
       "version_minor": 0
      },
      "text/plain": [
       "Retrieving NIH projects for 2019-08-17:   0%|          | 0/1441 [00:00<?, ?it/s]"
      ]
     },
     "metadata": {},
     "output_type": "display_data"
    },
    {
     "data": {
      "application/vnd.jupyter.widget-view+json": {
       "model_id": "2ac54e3073e143b090b7538b7dcd7c0f",
       "version_major": 2,
       "version_minor": 0
      },
      "text/plain": [
       "Retrieving NIH projects for 2019-08-24:   0%|          | 0/991 [00:00<?, ?it/s]"
      ]
     },
     "metadata": {},
     "output_type": "display_data"
    },
    {
     "data": {
      "application/vnd.jupyter.widget-view+json": {
       "model_id": "f9fbc693f8eb4a519433dbdf015e11a6",
       "version_major": 2,
       "version_minor": 0
      },
      "text/plain": [
       "Retrieving NIH projects for 2019-08-30:   0%|          | 0/39 [00:00<?, ?it/s]"
      ]
     },
     "metadata": {},
     "output_type": "display_data"
    },
    {
     "data": {
      "application/vnd.jupyter.widget-view+json": {
       "model_id": "663aa24c1b704cb9bb5dc51c83cd805f",
       "version_major": 2,
       "version_minor": 0
      },
      "text/plain": [
       "Retrieving NIH projects for 2019-08-31:   0%|          | 0/827 [00:00<?, ?it/s]"
      ]
     },
     "metadata": {},
     "output_type": "display_data"
    },
    {
     "data": {
      "application/vnd.jupyter.widget-view+json": {
       "model_id": "fb3a94dcc61d43a7b9a1fc623b8c1ca1",
       "version_major": 2,
       "version_minor": 0
      },
      "text/plain": [
       "Retrieving NIH projects for 2019-09-07:   0%|          | 0/8082 [00:00<?, ?it/s]"
      ]
     },
     "metadata": {},
     "output_type": "display_data"
    },
    {
     "data": {
      "application/vnd.jupyter.widget-view+json": {
       "model_id": "cab5991cfce1451d8acce718f945c4e3",
       "version_major": 2,
       "version_minor": 0
      },
      "text/plain": [
       "Retrieving NIH projects for 2019-09-14:   0%|          | 0/2112 [00:00<?, ?it/s]"
      ]
     },
     "metadata": {},
     "output_type": "display_data"
    },
    {
     "data": {
      "application/vnd.jupyter.widget-view+json": {
       "model_id": "54d6b9878e384e3997b4ded541c712d1",
       "version_major": 2,
       "version_minor": 0
      },
      "text/plain": [
       "Retrieving NIH projects for 2019-09-21:   0%|          | 0/2523 [00:00<?, ?it/s]"
      ]
     },
     "metadata": {},
     "output_type": "display_data"
    },
    {
     "data": {
      "application/vnd.jupyter.widget-view+json": {
       "model_id": "738efa4a39a24f0781ff05af8bee5cfd",
       "version_major": 2,
       "version_minor": 0
      },
      "text/plain": [
       "Retrieving NIH projects for 2019-09-25:   0%|          | 0/5 [00:00<?, ?it/s]"
      ]
     },
     "metadata": {},
     "output_type": "display_data"
    },
    {
     "data": {
      "application/vnd.jupyter.widget-view+json": {
       "model_id": "b8f8652dee294d36acbba9a000d8035d",
       "version_major": 2,
       "version_minor": 0
      },
      "text/plain": [
       "Retrieving NIH projects for 2019-09-26:   0%|          | 0/27 [00:00<?, ?it/s]"
      ]
     },
     "metadata": {},
     "output_type": "display_data"
    },
    {
     "data": {
      "application/vnd.jupyter.widget-view+json": {
       "model_id": "86b22dac4ee94942b1d78124fef54db8",
       "version_major": 2,
       "version_minor": 0
      },
      "text/plain": [
       "Retrieving NIH projects for 2019-09-28:   0%|          | 0/814 [00:00<?, ?it/s]"
      ]
     },
     "metadata": {},
     "output_type": "display_data"
    },
    {
     "data": {
      "application/vnd.jupyter.widget-view+json": {
       "model_id": "d928e1e6656c43338c680755d081d473",
       "version_major": 2,
       "version_minor": 0
      },
      "text/plain": [
       "Retrieving NIH projects for 2019-09-30:   0%|          | 0/715 [00:00<?, ?it/s]"
      ]
     },
     "metadata": {},
     "output_type": "display_data"
    },
    {
     "data": {
      "application/vnd.jupyter.widget-view+json": {
       "model_id": "c7c2db5b7df941d8bbb2875f936abdbd",
       "version_major": 2,
       "version_minor": 0
      },
      "text/plain": [
       "Retrieving NIH projects for 2019-10-05:   0%|          | 0/382 [00:00<?, ?it/s]"
      ]
     },
     "metadata": {},
     "output_type": "display_data"
    },
    {
     "data": {
      "application/vnd.jupyter.widget-view+json": {
       "model_id": "45e146fc40674b21b08b53dbf6be6892",
       "version_major": 2,
       "version_minor": 0
      },
      "text/plain": [
       "Retrieving NIH projects for 2019-10-12:   0%|          | 0/65 [00:00<?, ?it/s]"
      ]
     },
     "metadata": {},
     "output_type": "display_data"
    },
    {
     "data": {
      "application/vnd.jupyter.widget-view+json": {
       "model_id": "ac445b04e91b4cdabe67154952cc687f",
       "version_major": 2,
       "version_minor": 0
      },
      "text/plain": [
       "Retrieving NIH projects for 2019-10-19:   0%|          | 0/75 [00:00<?, ?it/s]"
      ]
     },
     "metadata": {},
     "output_type": "display_data"
    },
    {
     "data": {
      "application/vnd.jupyter.widget-view+json": {
       "model_id": "1428b4852efc45929c8432096b2732f6",
       "version_major": 2,
       "version_minor": 0
      },
      "text/plain": [
       "Retrieving NIH projects for 2019-10-26:   0%|          | 0/154 [00:00<?, ?it/s]"
      ]
     },
     "metadata": {},
     "output_type": "display_data"
    },
    {
     "data": {
      "application/vnd.jupyter.widget-view+json": {
       "model_id": "b437b9c7059848c18906a3582349ac88",
       "version_major": 2,
       "version_minor": 0
      },
      "text/plain": [
       "Retrieving NIH projects for 2019-11-02:   0%|          | 0/124 [00:00<?, ?it/s]"
      ]
     },
     "metadata": {},
     "output_type": "display_data"
    },
    {
     "data": {
      "application/vnd.jupyter.widget-view+json": {
       "model_id": "50f2456c037f4a2592c49a6ed464bb9e",
       "version_major": 2,
       "version_minor": 0
      },
      "text/plain": [
       "Retrieving NIH projects for 2019-11-09:   0%|          | 0/248 [00:00<?, ?it/s]"
      ]
     },
     "metadata": {},
     "output_type": "display_data"
    },
    {
     "data": {
      "application/vnd.jupyter.widget-view+json": {
       "model_id": "48b720cb6aa74cc7ac60e2bff1c97605",
       "version_major": 2,
       "version_minor": 0
      },
      "text/plain": [
       "Retrieving NIH projects for 2019-11-16:   0%|          | 0/100 [00:00<?, ?it/s]"
      ]
     },
     "metadata": {},
     "output_type": "display_data"
    },
    {
     "data": {
      "application/vnd.jupyter.widget-view+json": {
       "model_id": "198f7999efa94745b08ae4de38cc67e9",
       "version_major": 2,
       "version_minor": 0
      },
      "text/plain": [
       "Retrieving NIH projects for 2019-11-23:   0%|          | 0/102 [00:00<?, ?it/s]"
      ]
     },
     "metadata": {},
     "output_type": "display_data"
    },
    {
     "data": {
      "application/vnd.jupyter.widget-view+json": {
       "model_id": "560d689fbe564e35b00c7a1ed0771597",
       "version_major": 2,
       "version_minor": 0
      },
      "text/plain": [
       "Retrieving NIH projects for 2019-11-30:   0%|          | 0/75 [00:00<?, ?it/s]"
      ]
     },
     "metadata": {},
     "output_type": "display_data"
    },
    {
     "data": {
      "application/vnd.jupyter.widget-view+json": {
       "model_id": "d1961b87068647ccae4242ba4f999d3d",
       "version_major": 2,
       "version_minor": 0
      },
      "text/plain": [
       "Retrieving NIH projects for 2019-12-07:   0%|          | 0/2297 [00:00<?, ?it/s]"
      ]
     },
     "metadata": {},
     "output_type": "display_data"
    },
    {
     "data": {
      "application/vnd.jupyter.widget-view+json": {
       "model_id": "c6b36dcc4a5a4611b91acd21f4ff5b56",
       "version_major": 2,
       "version_minor": 0
      },
      "text/plain": [
       "Retrieving NIH projects for 2019-12-14:   0%|          | 0/4757 [00:00<?, ?it/s]"
      ]
     },
     "metadata": {},
     "output_type": "display_data"
    },
    {
     "data": {
      "application/vnd.jupyter.widget-view+json": {
       "model_id": "da53c17724e14801bf73e913468e361b",
       "version_major": 2,
       "version_minor": 0
      },
      "text/plain": [
       "Retrieving NIH projects for 2019-12-21:   0%|          | 0/407 [00:00<?, ?it/s]"
      ]
     },
     "metadata": {},
     "output_type": "display_data"
    },
    {
     "data": {
      "application/vnd.jupyter.widget-view+json": {
       "model_id": "56095ddac463435cbabff60feee0f33c",
       "version_major": 2,
       "version_minor": 0
      },
      "text/plain": [
       "Retrieving NIH projects for 2019-12-28:   0%|          | 0/137 [00:00<?, ?it/s]"
      ]
     },
     "metadata": {},
     "output_type": "display_data"
    },
    {
     "data": {
      "application/vnd.jupyter.widget-view+json": {
       "model_id": "f3bbb8745add4ccea9ec12745c9885cc",
       "version_major": 2,
       "version_minor": 0
      },
      "text/plain": [
       "Retrieving NIH projects for 2020-01-04:   0%|          | 0/2188 [00:00<?, ?it/s]"
      ]
     },
     "metadata": {},
     "output_type": "display_data"
    },
    {
     "data": {
      "application/vnd.jupyter.widget-view+json": {
       "model_id": "21f3d121053841189a9c12caef00f9b5",
       "version_major": 2,
       "version_minor": 0
      },
      "text/plain": [
       "Retrieving NIH projects for 2020-01-11:   0%|          | 0/471 [00:00<?, ?it/s]"
      ]
     },
     "metadata": {},
     "output_type": "display_data"
    },
    {
     "data": {
      "application/vnd.jupyter.widget-view+json": {
       "model_id": "d560103cdc034acf9f69b9adedb6e81e",
       "version_major": 2,
       "version_minor": 0
      },
      "text/plain": [
       "Retrieving NIH projects for 2020-01-18:   0%|          | 0/460 [00:00<?, ?it/s]"
      ]
     },
     "metadata": {},
     "output_type": "display_data"
    },
    {
     "data": {
      "application/vnd.jupyter.widget-view+json": {
       "model_id": "3ad89d7864284810a02e923a76358fd9",
       "version_major": 2,
       "version_minor": 0
      },
      "text/plain": [
       "Retrieving NIH projects for 2020-01-25:   0%|          | 0/241 [00:00<?, ?it/s]"
      ]
     },
     "metadata": {},
     "output_type": "display_data"
    },
    {
     "data": {
      "application/vnd.jupyter.widget-view+json": {
       "model_id": "fd0830731a0a4aeb9e8c98af5896765a",
       "version_major": 2,
       "version_minor": 0
      },
      "text/plain": [
       "Retrieving NIH projects for 2020-02-01:   0%|          | 0/2636 [00:00<?, ?it/s]"
      ]
     },
     "metadata": {},
     "output_type": "display_data"
    },
    {
     "data": {
      "application/vnd.jupyter.widget-view+json": {
       "model_id": "095d1073de8a47c2985dbe7b570e379f",
       "version_major": 2,
       "version_minor": 0
      },
      "text/plain": [
       "Retrieving NIH projects for 2020-02-08:   0%|          | 0/609 [00:00<?, ?it/s]"
      ]
     },
     "metadata": {},
     "output_type": "display_data"
    },
    {
     "data": {
      "application/vnd.jupyter.widget-view+json": {
       "model_id": "1ec2486ebed6430689ada8c0aa10f9f9",
       "version_major": 2,
       "version_minor": 0
      },
      "text/plain": [
       "Retrieving NIH projects for 2020-02-15:   0%|          | 0/664 [00:00<?, ?it/s]"
      ]
     },
     "metadata": {},
     "output_type": "display_data"
    },
    {
     "data": {
      "application/vnd.jupyter.widget-view+json": {
       "model_id": "dcd7dbe289da4747ac0671c125db17ba",
       "version_major": 2,
       "version_minor": 0
      },
      "text/plain": [
       "Retrieving NIH projects for 2020-02-22:   0%|          | 0/337 [00:00<?, ?it/s]"
      ]
     },
     "metadata": {},
     "output_type": "display_data"
    },
    {
     "data": {
      "application/vnd.jupyter.widget-view+json": {
       "model_id": "4c4bdae1212a43559ff6f40478a45774",
       "version_major": 2,
       "version_minor": 0
      },
      "text/plain": [
       "Retrieving NIH projects for 2020-02-29:   0%|          | 0/334 [00:00<?, ?it/s]"
      ]
     },
     "metadata": {},
     "output_type": "display_data"
    },
    {
     "data": {
      "application/vnd.jupyter.widget-view+json": {
       "model_id": "4accd5fadf6b4506995b1b9173e07a51",
       "version_major": 2,
       "version_minor": 0
      },
      "text/plain": [
       "Retrieving NIH projects for 2020-03-07:   0%|          | 0/3290 [00:00<?, ?it/s]"
      ]
     },
     "metadata": {},
     "output_type": "display_data"
    },
    {
     "data": {
      "application/vnd.jupyter.widget-view+json": {
       "model_id": "e941822808d24f7395ce0fdcb81caa5f",
       "version_major": 2,
       "version_minor": 0
      },
      "text/plain": [
       "Retrieving NIH projects for 2020-03-14:   0%|          | 0/479 [00:00<?, ?it/s]"
      ]
     },
     "metadata": {},
     "output_type": "display_data"
    },
    {
     "data": {
      "application/vnd.jupyter.widget-view+json": {
       "model_id": "6834e235728b44e481e683f626801682",
       "version_major": 2,
       "version_minor": 0
      },
      "text/plain": [
       "Retrieving NIH projects for 2020-03-21:   0%|          | 0/586 [00:00<?, ?it/s]"
      ]
     },
     "metadata": {},
     "output_type": "display_data"
    },
    {
     "data": {
      "application/vnd.jupyter.widget-view+json": {
       "model_id": "5129d34f5e3c47da86f856428e94ffc1",
       "version_major": 2,
       "version_minor": 0
      },
      "text/plain": [
       "Retrieving NIH projects for 2020-03-28:   0%|          | 0/259 [00:00<?, ?it/s]"
      ]
     },
     "metadata": {},
     "output_type": "display_data"
    },
    {
     "data": {
      "application/vnd.jupyter.widget-view+json": {
       "model_id": "1545f27b81b2412aab4da3b19facdbf5",
       "version_major": 2,
       "version_minor": 0
      },
      "text/plain": [
       "Retrieving NIH projects for 2020-04-04:   0%|          | 0/5477 [00:00<?, ?it/s]"
      ]
     },
     "metadata": {},
     "output_type": "display_data"
    },
    {
     "data": {
      "application/vnd.jupyter.widget-view+json": {
       "model_id": "8a58bfa69d14464c8414eee2900b3b99",
       "version_major": 2,
       "version_minor": 0
      },
      "text/plain": [
       "Retrieving NIH projects for 2020-04-11:   0%|          | 0/698 [00:00<?, ?it/s]"
      ]
     },
     "metadata": {},
     "output_type": "display_data"
    },
    {
     "data": {
      "application/vnd.jupyter.widget-view+json": {
       "model_id": "7a8989f699d0474c8e80bd27b45b007f",
       "version_major": 2,
       "version_minor": 0
      },
      "text/plain": [
       "Retrieving NIH projects for 2020-04-18:   0%|          | 0/971 [00:00<?, ?it/s]"
      ]
     },
     "metadata": {},
     "output_type": "display_data"
    },
    {
     "data": {
      "application/vnd.jupyter.widget-view+json": {
       "model_id": "a19cd03cd63d4fe48123a32baeb6fa99",
       "version_major": 2,
       "version_minor": 0
      },
      "text/plain": [
       "Retrieving NIH projects for 2020-04-27:   0%|          | 0/382 [00:00<?, ?it/s]"
      ]
     },
     "metadata": {},
     "output_type": "display_data"
    },
    {
     "data": {
      "application/vnd.jupyter.widget-view+json": {
       "model_id": "969fbf1993c34ffb87df6d668e7e81ad",
       "version_major": 2,
       "version_minor": 0
      },
      "text/plain": [
       "Retrieving NIH projects for 2020-05-02:   0%|          | 0/4348 [00:00<?, ?it/s]"
      ]
     },
     "metadata": {},
     "output_type": "display_data"
    },
    {
     "data": {
      "application/vnd.jupyter.widget-view+json": {
       "model_id": "3f0b2adf2a664b829762934b4a686667",
       "version_major": 2,
       "version_minor": 0
      },
      "text/plain": [
       "Retrieving NIH projects for 2020-05-09:   0%|          | 0/868 [00:00<?, ?it/s]"
      ]
     },
     "metadata": {},
     "output_type": "display_data"
    },
    {
     "data": {
      "application/vnd.jupyter.widget-view+json": {
       "model_id": "ecbd304806534e2787ca0165c8270080",
       "version_major": 2,
       "version_minor": 0
      },
      "text/plain": [
       "Retrieving NIH projects for 2020-05-16:   0%|          | 0/967 [00:00<?, ?it/s]"
      ]
     },
     "metadata": {},
     "output_type": "display_data"
    },
    {
     "data": {
      "application/vnd.jupyter.widget-view+json": {
       "model_id": "4dd1afeaea674c7b9b8985dd16024f36",
       "version_major": 2,
       "version_minor": 0
      },
      "text/plain": [
       "Retrieving NIH projects for 2020-05-23:   0%|          | 0/491 [00:00<?, ?it/s]"
      ]
     },
     "metadata": {},
     "output_type": "display_data"
    },
    {
     "data": {
      "application/vnd.jupyter.widget-view+json": {
       "model_id": "55ca5360a9104f5abbaef65b9152d2ca",
       "version_major": 2,
       "version_minor": 0
      },
      "text/plain": [
       "Retrieving NIH projects for 2020-05-30:   0%|          | 0/367 [00:00<?, ?it/s]"
      ]
     },
     "metadata": {},
     "output_type": "display_data"
    },
    {
     "data": {
      "application/vnd.jupyter.widget-view+json": {
       "model_id": "27af11e99f874ad09f6e448a320bd3cd",
       "version_major": 2,
       "version_minor": 0
      },
      "text/plain": [
       "Retrieving NIH projects for 2020-06-06:   0%|          | 0/5900 [00:00<?, ?it/s]"
      ]
     },
     "metadata": {},
     "output_type": "display_data"
    },
    {
     "data": {
      "application/vnd.jupyter.widget-view+json": {
       "model_id": "14d84b7b957f464fa521feb68ee8eaf9",
       "version_major": 2,
       "version_minor": 0
      },
      "text/plain": [
       "Retrieving NIH projects for 2020-06-14:   0%|          | 0/745 [00:00<?, ?it/s]"
      ]
     },
     "metadata": {},
     "output_type": "display_data"
    },
    {
     "data": {
      "application/vnd.jupyter.widget-view+json": {
       "model_id": "de680a0a98f64014a48cd98423cf1c22",
       "version_major": 2,
       "version_minor": 0
      },
      "text/plain": [
       "Retrieving NIH projects for 2020-06-20:   0%|          | 0/1027 [00:00<?, ?it/s]"
      ]
     },
     "metadata": {},
     "output_type": "display_data"
    },
    {
     "data": {
      "application/vnd.jupyter.widget-view+json": {
       "model_id": "fc8199f3a3174b73b711182004ce6012",
       "version_major": 2,
       "version_minor": 0
      },
      "text/plain": [
       "Retrieving NIH projects for 2020-06-27:   0%|          | 0/490 [00:00<?, ?it/s]"
      ]
     },
     "metadata": {},
     "output_type": "display_data"
    },
    {
     "data": {
      "application/vnd.jupyter.widget-view+json": {
       "model_id": "8f29c3fa99e841b9a614fc4a9ca9ba37",
       "version_major": 2,
       "version_minor": 0
      },
      "text/plain": [
       "Retrieving NIH projects for 2020-07-04:   0%|          | 0/8177 [00:00<?, ?it/s]"
      ]
     },
     "metadata": {},
     "output_type": "display_data"
    },
    {
     "data": {
      "application/vnd.jupyter.widget-view+json": {
       "model_id": "bc8e740a5db642ada7987004e24327f3",
       "version_major": 2,
       "version_minor": 0
      },
      "text/plain": [
       "Retrieving NIH projects for 2020-07-11:   0%|          | 0/1459 [00:00<?, ?it/s]"
      ]
     },
     "metadata": {},
     "output_type": "display_data"
    },
    {
     "data": {
      "application/vnd.jupyter.widget-view+json": {
       "model_id": "f6d4f06a4e204c058d6f98c9669b88ef",
       "version_major": 2,
       "version_minor": 0
      },
      "text/plain": [
       "Retrieving NIH projects for 2020-07-18:   0%|          | 0/1430 [00:00<?, ?it/s]"
      ]
     },
     "metadata": {},
     "output_type": "display_data"
    },
    {
     "data": {
      "application/vnd.jupyter.widget-view+json": {
       "model_id": "711d2812403244a88fd680536a6e8961",
       "version_major": 2,
       "version_minor": 0
      },
      "text/plain": [
       "Retrieving NIH projects for 2020-07-25:   0%|          | 0/903 [00:00<?, ?it/s]"
      ]
     },
     "metadata": {},
     "output_type": "display_data"
    },
    {
     "data": {
      "application/vnd.jupyter.widget-view+json": {
       "model_id": "582a8018184542ed8e23ddad35da34c5",
       "version_major": 2,
       "version_minor": 0
      },
      "text/plain": [
       "Retrieving NIH projects for 2020-08-01:   0%|          | 0/6158 [00:00<?, ?it/s]"
      ]
     },
     "metadata": {},
     "output_type": "display_data"
    },
    {
     "data": {
      "application/vnd.jupyter.widget-view+json": {
       "model_id": "37d9ad71f62b403aa675b6eca31b17eb",
       "version_major": 2,
       "version_minor": 0
      },
      "text/plain": [
       "Retrieving NIH projects for 2020-08-09:   0%|          | 0/1406 [00:00<?, ?it/s]"
      ]
     },
     "metadata": {},
     "output_type": "display_data"
    },
    {
     "data": {
      "application/vnd.jupyter.widget-view+json": {
       "model_id": "0423461522474aefaf92f37e37f78e90",
       "version_major": 2,
       "version_minor": 0
      },
      "text/plain": [
       "Retrieving NIH projects for 2020-08-15:   0%|          | 0/1490 [00:00<?, ?it/s]"
      ]
     },
     "metadata": {},
     "output_type": "display_data"
    },
    {
     "data": {
      "application/vnd.jupyter.widget-view+json": {
       "model_id": "d1b00047543a4bbaa397a200f7aaae8a",
       "version_major": 2,
       "version_minor": 0
      },
      "text/plain": [
       "Retrieving NIH projects for 2020-08-22:   0%|          | 0/1039 [00:00<?, ?it/s]"
      ]
     },
     "metadata": {},
     "output_type": "display_data"
    },
    {
     "data": {
      "application/vnd.jupyter.widget-view+json": {
       "model_id": "10c66dd653714846a14ed3aa2d77fa2c",
       "version_major": 2,
       "version_minor": 0
      },
      "text/plain": [
       "Retrieving NIH projects for 2020-08-29:   0%|          | 0/744 [00:00<?, ?it/s]"
      ]
     },
     "metadata": {},
     "output_type": "display_data"
    },
    {
     "data": {
      "application/vnd.jupyter.widget-view+json": {
       "model_id": "d687ba88da6d494f84cdee4991334551",
       "version_major": 2,
       "version_minor": 0
      },
      "text/plain": [
       "Retrieving NIH projects for 2020-09-05:   0%|          | 0/8651 [00:00<?, ?it/s]"
      ]
     },
     "metadata": {},
     "output_type": "display_data"
    },
    {
     "data": {
      "application/vnd.jupyter.widget-view+json": {
       "model_id": "21aa2eb96ba944a1a851ff89254de9a4",
       "version_major": 2,
       "version_minor": 0
      },
      "text/plain": [
       "Retrieving NIH projects for 2020-09-12:   0%|          | 0/1614 [00:00<?, ?it/s]"
      ]
     },
     "metadata": {},
     "output_type": "display_data"
    },
    {
     "data": {
      "application/vnd.jupyter.widget-view+json": {
       "model_id": "b28fa29056044038b3fb1e2e352df84a",
       "version_major": 2,
       "version_minor": 0
      },
      "text/plain": [
       "Retrieving NIH projects for 2020-09-19:   0%|          | 0/2587 [00:00<?, ?it/s]"
      ]
     },
     "metadata": {},
     "output_type": "display_data"
    },
    {
     "data": {
      "application/vnd.jupyter.widget-view+json": {
       "model_id": "596743a78fd94d27a7f2b732bc680776",
       "version_major": 2,
       "version_minor": 0
      },
      "text/plain": [
       "Retrieving NIH projects for 2020-09-26:   0%|          | 0/1687 [00:00<?, ?it/s]"
      ]
     },
     "metadata": {},
     "output_type": "display_data"
    },
    {
     "data": {
      "application/vnd.jupyter.widget-view+json": {
       "model_id": "5e74369699f64da9a1dabd2f067c3452",
       "version_major": 2,
       "version_minor": 0
      },
      "text/plain": [
       "Retrieving NIH projects for 2020-09-30:   0%|          | 0/882 [00:00<?, ?it/s]"
      ]
     },
     "metadata": {},
     "output_type": "display_data"
    },
    {
     "data": {
      "application/vnd.jupyter.widget-view+json": {
       "model_id": "23c073de197b47eab5f1ccdca23f772e",
       "version_major": 2,
       "version_minor": 0
      },
      "text/plain": [
       "Retrieving NIH projects for 2020-10-03:   0%|          | 0/628 [00:00<?, ?it/s]"
      ]
     },
     "metadata": {},
     "output_type": "display_data"
    },
    {
     "data": {
      "application/vnd.jupyter.widget-view+json": {
       "model_id": "208ff89ad60c48d9b994b6e819d16ca5",
       "version_major": 2,
       "version_minor": 0
      },
      "text/plain": [
       "Retrieving NIH projects for 2020-10-10:   0%|          | 0/286 [00:00<?, ?it/s]"
      ]
     },
     "metadata": {},
     "output_type": "display_data"
    },
    {
     "data": {
      "application/vnd.jupyter.widget-view+json": {
       "model_id": "9521d91335944bd7bdff31ff391bf88a",
       "version_major": 2,
       "version_minor": 0
      },
      "text/plain": [
       "Retrieving NIH projects for 2020-10-18:   0%|          | 0/218 [00:00<?, ?it/s]"
      ]
     },
     "metadata": {},
     "output_type": "display_data"
    },
    {
     "data": {
      "application/vnd.jupyter.widget-view+json": {
       "model_id": "8a493f10719441dd86e3e6024f294d7a",
       "version_major": 2,
       "version_minor": 0
      },
      "text/plain": [
       "Retrieving NIH projects for 2020-10-24:   0%|          | 0/87 [00:00<?, ?it/s]"
      ]
     },
     "metadata": {},
     "output_type": "display_data"
    },
    {
     "data": {
      "application/vnd.jupyter.widget-view+json": {
       "model_id": "7c714e18854c4f05b9dabc69144f9dbf",
       "version_major": 2,
       "version_minor": 0
      },
      "text/plain": [
       "Retrieving NIH projects for 2020-10-31:   0%|          | 0/376 [00:00<?, ?it/s]"
      ]
     },
     "metadata": {},
     "output_type": "display_data"
    },
    {
     "data": {
      "application/vnd.jupyter.widget-view+json": {
       "model_id": "9d058eb798494e2485e2aa685d1875cc",
       "version_major": 2,
       "version_minor": 0
      },
      "text/plain": [
       "Retrieving NIH projects for 2020-11-07:   0%|          | 0/385 [00:00<?, ?it/s]"
      ]
     },
     "metadata": {},
     "output_type": "display_data"
    },
    {
     "data": {
      "application/vnd.jupyter.widget-view+json": {
       "model_id": "17c80333c59647acbec94f0fef612208",
       "version_major": 2,
       "version_minor": 0
      },
      "text/plain": [
       "Retrieving NIH projects for 2020-11-15:   0%|          | 0/144 [00:00<?, ?it/s]"
      ]
     },
     "metadata": {},
     "output_type": "display_data"
    },
    {
     "data": {
      "application/vnd.jupyter.widget-view+json": {
       "model_id": "c10c4d9f860641fda46f19e0475ec8e3",
       "version_major": 2,
       "version_minor": 0
      },
      "text/plain": [
       "Retrieving NIH projects for 2020-11-21:   0%|          | 0/102 [00:00<?, ?it/s]"
      ]
     },
     "metadata": {},
     "output_type": "display_data"
    },
    {
     "data": {
      "application/vnd.jupyter.widget-view+json": {
       "model_id": "d1c2d8f3597841029c51b87005ad177e",
       "version_major": 2,
       "version_minor": 0
      },
      "text/plain": [
       "Retrieving NIH projects for 2020-11-28:   0%|          | 0/189 [00:00<?, ?it/s]"
      ]
     },
     "metadata": {},
     "output_type": "display_data"
    },
    {
     "data": {
      "application/vnd.jupyter.widget-view+json": {
       "model_id": "683c156b9eb34723a98dbcb33b28e0b8",
       "version_major": 2,
       "version_minor": 0
      },
      "text/plain": [
       "Retrieving NIH projects for 2020-12-05:   0%|          | 0/2215 [00:00<?, ?it/s]"
      ]
     },
     "metadata": {},
     "output_type": "display_data"
    },
    {
     "data": {
      "application/vnd.jupyter.widget-view+json": {
       "model_id": "c0f77f0e223e470b96e43935cbf9ea00",
       "version_major": 2,
       "version_minor": 0
      },
      "text/plain": [
       "Retrieving NIH projects for 2020-12-12:   0%|          | 0/353 [00:00<?, ?it/s]"
      ]
     },
     "metadata": {},
     "output_type": "display_data"
    },
    {
     "data": {
      "application/vnd.jupyter.widget-view+json": {
       "model_id": "28df90c6d9f6431982721818559975c9",
       "version_major": 2,
       "version_minor": 0
      },
      "text/plain": [
       "Retrieving NIH projects for 2020-12-19:   0%|          | 0/3603 [00:00<?, ?it/s]"
      ]
     },
     "metadata": {},
     "output_type": "display_data"
    },
    {
     "data": {
      "application/vnd.jupyter.widget-view+json": {
       "model_id": "d410789e91884da0b93bb6f44a09fd06",
       "version_major": 2,
       "version_minor": 0
      },
      "text/plain": [
       "Retrieving NIH projects for 2020-12-26:   0%|          | 0/221 [00:00<?, ?it/s]"
      ]
     },
     "metadata": {},
     "output_type": "display_data"
    },
    {
     "data": {
      "application/vnd.jupyter.widget-view+json": {
       "model_id": "95b1793b72304d0b970e9a4eff1e5c9d",
       "version_major": 2,
       "version_minor": 0
      },
      "text/plain": [
       "Retrieving NIH projects for 2021-01-02:   0%|          | 0/2511 [00:00<?, ?it/s]"
      ]
     },
     "metadata": {},
     "output_type": "display_data"
    },
    {
     "data": {
      "application/vnd.jupyter.widget-view+json": {
       "model_id": "97860e9c752b404a8ac89f7c34a402b0",
       "version_major": 2,
       "version_minor": 0
      },
      "text/plain": [
       "Retrieving NIH projects for 2021-01-09:   0%|          | 0/313 [00:00<?, ?it/s]"
      ]
     },
     "metadata": {},
     "output_type": "display_data"
    },
    {
     "data": {
      "application/vnd.jupyter.widget-view+json": {
       "model_id": "356e07253192424c90527874b6eae8c0",
       "version_major": 2,
       "version_minor": 0
      },
      "text/plain": [
       "Retrieving NIH projects for 2021-01-16:   0%|          | 0/457 [00:00<?, ?it/s]"
      ]
     },
     "metadata": {},
     "output_type": "display_data"
    },
    {
     "data": {
      "application/vnd.jupyter.widget-view+json": {
       "model_id": "c52518dfe6324b0fac19c5f72719e501",
       "version_major": 2,
       "version_minor": 0
      },
      "text/plain": [
       "Retrieving NIH projects for 2021-01-23:   0%|          | 0/200 [00:00<?, ?it/s]"
      ]
     },
     "metadata": {},
     "output_type": "display_data"
    },
    {
     "data": {
      "application/vnd.jupyter.widget-view+json": {
       "model_id": "79d420a014a347f099985a4f5b360b54",
       "version_major": 2,
       "version_minor": 0
      },
      "text/plain": [
       "Retrieving NIH projects for 2021-01-30:   0%|          | 0/294 [00:00<?, ?it/s]"
      ]
     },
     "metadata": {},
     "output_type": "display_data"
    },
    {
     "data": {
      "application/vnd.jupyter.widget-view+json": {
       "model_id": "2bd7f42b4471430bbdd5c0d635a331ea",
       "version_major": 2,
       "version_minor": 0
      },
      "text/plain": [
       "Retrieving NIH projects for 2021-02-06:   0%|          | 0/3053 [00:00<?, ?it/s]"
      ]
     },
     "metadata": {},
     "output_type": "display_data"
    },
    {
     "data": {
      "application/vnd.jupyter.widget-view+json": {
       "model_id": "7704b3e599b14442b619cf65355312c3",
       "version_major": 2,
       "version_minor": 0
      },
      "text/plain": [
       "Retrieving NIH projects for 2021-02-13:   0%|          | 0/512 [00:00<?, ?it/s]"
      ]
     },
     "metadata": {},
     "output_type": "display_data"
    },
    {
     "data": {
      "application/vnd.jupyter.widget-view+json": {
       "model_id": "b55d464bbd8644229e29ea55a0c5f4e2",
       "version_major": 2,
       "version_minor": 0
      },
      "text/plain": [
       "Retrieving NIH projects for 2021-02-20:   0%|          | 0/487 [00:00<?, ?it/s]"
      ]
     },
     "metadata": {},
     "output_type": "display_data"
    },
    {
     "data": {
      "application/vnd.jupyter.widget-view+json": {
       "model_id": "ac2fa85baf9c4d849721e0fc2561f04e",
       "version_major": 2,
       "version_minor": 0
      },
      "text/plain": [
       "Retrieving NIH projects for 2021-02-27:   0%|          | 0/370 [00:00<?, ?it/s]"
      ]
     },
     "metadata": {},
     "output_type": "display_data"
    },
    {
     "data": {
      "application/vnd.jupyter.widget-view+json": {
       "model_id": "c4e7c587bab047ee9585b0c5c1bc04bc",
       "version_major": 2,
       "version_minor": 0
      },
      "text/plain": [
       "Retrieving NIH projects for 2021-03-06:   0%|          | 0/3377 [00:00<?, ?it/s]"
      ]
     },
     "metadata": {},
     "output_type": "display_data"
    },
    {
     "data": {
      "application/vnd.jupyter.widget-view+json": {
       "model_id": "7df4bd18d3cb4bc0970336e89e1bd5b4",
       "version_major": 2,
       "version_minor": 0
      },
      "text/plain": [
       "Retrieving NIH projects for 2021-03-13:   0%|          | 0/490 [00:00<?, ?it/s]"
      ]
     },
     "metadata": {},
     "output_type": "display_data"
    },
    {
     "data": {
      "application/vnd.jupyter.widget-view+json": {
       "model_id": "e561e3496517491dbf0a9e7ead87f140",
       "version_major": 2,
       "version_minor": 0
      },
      "text/plain": [
       "Retrieving NIH projects for 2021-03-20:   0%|          | 0/647 [00:00<?, ?it/s]"
      ]
     },
     "metadata": {},
     "output_type": "display_data"
    },
    {
     "data": {
      "application/vnd.jupyter.widget-view+json": {
       "model_id": "22050c737f464b3d8fd4d9e976a7709d",
       "version_major": 2,
       "version_minor": 0
      },
      "text/plain": [
       "Retrieving NIH projects for 2021-03-27:   0%|          | 0/353 [00:00<?, ?it/s]"
      ]
     },
     "metadata": {},
     "output_type": "display_data"
    },
    {
     "data": {
      "application/vnd.jupyter.widget-view+json": {
       "model_id": "e44aa0a7626342e78cffd83319e401c5",
       "version_major": 2,
       "version_minor": 0
      },
      "text/plain": [
       "Retrieving NIH projects for 2021-04-03:   0%|          | 0/5432 [00:00<?, ?it/s]"
      ]
     },
     "metadata": {},
     "output_type": "display_data"
    },
    {
     "data": {
      "application/vnd.jupyter.widget-view+json": {
       "model_id": "6646ef7a55b34943b40081e1891c2b25",
       "version_major": 2,
       "version_minor": 0
      },
      "text/plain": [
       "Retrieving NIH projects for 2021-04-10:   0%|          | 0/763 [00:00<?, ?it/s]"
      ]
     },
     "metadata": {},
     "output_type": "display_data"
    },
    {
     "data": {
      "application/vnd.jupyter.widget-view+json": {
       "model_id": "73f0bc76107b41d0be9447acb3d1ae60",
       "version_major": 2,
       "version_minor": 0
      },
      "text/plain": [
       "Retrieving NIH projects for 2021-04-17:   0%|          | 0/912 [00:00<?, ?it/s]"
      ]
     },
     "metadata": {},
     "output_type": "display_data"
    },
    {
     "data": {
      "application/vnd.jupyter.widget-view+json": {
       "model_id": "8863e453a5774326836ddd7a81677a48",
       "version_major": 2,
       "version_minor": 0
      },
      "text/plain": [
       "Retrieving NIH projects for 2021-04-24:   0%|          | 0/515 [00:00<?, ?it/s]"
      ]
     },
     "metadata": {},
     "output_type": "display_data"
    },
    {
     "data": {
      "application/vnd.jupyter.widget-view+json": {
       "model_id": "d41f6eaa51b547d99f634506476d210d",
       "version_major": 2,
       "version_minor": 0
      },
      "text/plain": [
       "Retrieving NIH projects for 2021-05-01:   0%|          | 0/4459 [00:00<?, ?it/s]"
      ]
     },
     "metadata": {},
     "output_type": "display_data"
    },
    {
     "data": {
      "application/vnd.jupyter.widget-view+json": {
       "model_id": "ecea56110f3b4989a9adfd18bc6a7a5d",
       "version_major": 2,
       "version_minor": 0
      },
      "text/plain": [
       "Retrieving NIH projects for 2021-05-08:   0%|          | 0/983 [00:00<?, ?it/s]"
      ]
     },
     "metadata": {},
     "output_type": "display_data"
    },
    {
     "data": {
      "application/vnd.jupyter.widget-view+json": {
       "model_id": "88b15e7482b9468f9742ce42d246d034",
       "version_major": 2,
       "version_minor": 0
      },
      "text/plain": [
       "Retrieving NIH projects for 2021-05-15:   0%|          | 0/751 [00:00<?, ?it/s]"
      ]
     },
     "metadata": {},
     "output_type": "display_data"
    },
    {
     "data": {
      "application/vnd.jupyter.widget-view+json": {
       "model_id": "5e8226930466467ab1caf8dc75b63900",
       "version_major": 2,
       "version_minor": 0
      },
      "text/plain": [
       "Retrieving NIH projects for 2021-05-22:   0%|          | 0/593 [00:00<?, ?it/s]"
      ]
     },
     "metadata": {},
     "output_type": "display_data"
    },
    {
     "data": {
      "application/vnd.jupyter.widget-view+json": {
       "model_id": "5b505d12303e43c4ae82813178fd7574",
       "version_major": 2,
       "version_minor": 0
      },
      "text/plain": [
       "Retrieving NIH projects for 2021-05-29:   0%|          | 0/580 [00:00<?, ?it/s]"
      ]
     },
     "metadata": {},
     "output_type": "display_data"
    },
    {
     "data": {
      "application/vnd.jupyter.widget-view+json": {
       "model_id": "038688b28ac64b58b2af541d95027e39",
       "version_major": 2,
       "version_minor": 0
      },
      "text/plain": [
       "Retrieving NIH projects for 2021-06-05:   0%|          | 0/5315 [00:00<?, ?it/s]"
      ]
     },
     "metadata": {},
     "output_type": "display_data"
    },
    {
     "data": {
      "application/vnd.jupyter.widget-view+json": {
       "model_id": "f580711af1ad4788a4bc2f293738c8fe",
       "version_major": 2,
       "version_minor": 0
      },
      "text/plain": [
       "Retrieving NIH projects for 2021-06-12:   0%|          | 0/1182 [00:00<?, ?it/s]"
      ]
     },
     "metadata": {},
     "output_type": "display_data"
    },
    {
     "data": {
      "application/vnd.jupyter.widget-view+json": {
       "model_id": "459b56e1af3f48929be1fcf1bb26e88d",
       "version_major": 2,
       "version_minor": 0
      },
      "text/plain": [
       "Retrieving NIH projects for 2021-06-21:   0%|          | 0/1011 [00:00<?, ?it/s]"
      ]
     },
     "metadata": {},
     "output_type": "display_data"
    },
    {
     "data": {
      "application/vnd.jupyter.widget-view+json": {
       "model_id": "74d5054a932e4a3bb4ed4649934271c6",
       "version_major": 2,
       "version_minor": 0
      },
      "text/plain": [
       "Retrieving NIH projects for 2021-06-26:   0%|          | 0/534 [00:00<?, ?it/s]"
      ]
     },
     "metadata": {},
     "output_type": "display_data"
    },
    {
     "data": {
      "application/vnd.jupyter.widget-view+json": {
       "model_id": "543e819c076b40d0bc4360c02ae570ee",
       "version_major": 2,
       "version_minor": 0
      },
      "text/plain": [
       "Retrieving NIH projects for 2021-07-03:   0%|          | 0/8141 [00:00<?, ?it/s]"
      ]
     },
     "metadata": {},
     "output_type": "display_data"
    },
    {
     "data": {
      "application/vnd.jupyter.widget-view+json": {
       "model_id": "76b0d586d94647c89edb92fbea124b97",
       "version_major": 2,
       "version_minor": 0
      },
      "text/plain": [
       "Retrieving NIH projects for 2021-07-11:   0%|          | 0/1389 [00:00<?, ?it/s]"
      ]
     },
     "metadata": {},
     "output_type": "display_data"
    },
    {
     "data": {
      "application/vnd.jupyter.widget-view+json": {
       "model_id": "9661bad26e7b47ada332a6645854195a",
       "version_major": 2,
       "version_minor": 0
      },
      "text/plain": [
       "Retrieving NIH projects for 2021-07-17:   0%|          | 0/1443 [00:00<?, ?it/s]"
      ]
     },
     "metadata": {},
     "output_type": "display_data"
    },
    {
     "data": {
      "application/vnd.jupyter.widget-view+json": {
       "model_id": "40dd2e6a5d1f43f6a7eb1b886f553c30",
       "version_major": 2,
       "version_minor": 0
      },
      "text/plain": [
       "Retrieving NIH projects for 2021-07-24:   0%|          | 0/1143 [00:00<?, ?it/s]"
      ]
     },
     "metadata": {},
     "output_type": "display_data"
    },
    {
     "data": {
      "application/vnd.jupyter.widget-view+json": {
       "model_id": "f023f2498e56484db951bf4b2fc3d503",
       "version_major": 2,
       "version_minor": 0
      },
      "text/plain": [
       "Retrieving NIH projects for 2021-07-31:   0%|          | 0/798 [00:00<?, ?it/s]"
      ]
     },
     "metadata": {},
     "output_type": "display_data"
    },
    {
     "data": {
      "application/vnd.jupyter.widget-view+json": {
       "model_id": "8ae77883463b4dce8649efbcb7e50a30",
       "version_major": 2,
       "version_minor": 0
      },
      "text/plain": [
       "Retrieving NIH projects for 2021-08-07:   0%|          | 0/6341 [00:00<?, ?it/s]"
      ]
     },
     "metadata": {},
     "output_type": "display_data"
    },
    {
     "data": {
      "application/vnd.jupyter.widget-view+json": {
       "model_id": "7b236903999044e3b7889f4b22951e8a",
       "version_major": 2,
       "version_minor": 0
      },
      "text/plain": [
       "Retrieving NIH projects for 2021-08-14:   0%|          | 0/1362 [00:00<?, ?it/s]"
      ]
     },
     "metadata": {},
     "output_type": "display_data"
    },
    {
     "data": {
      "application/vnd.jupyter.widget-view+json": {
       "model_id": "d4a2581a41d84d3294aec953da6dafaa",
       "version_major": 2,
       "version_minor": 0
      },
      "text/plain": [
       "Retrieving NIH projects for 2021-08-21:   0%|          | 0/1581 [00:00<?, ?it/s]"
      ]
     },
     "metadata": {},
     "output_type": "display_data"
    },
    {
     "data": {
      "application/vnd.jupyter.widget-view+json": {
       "model_id": "84723da9dae54a17a9a0245d146adc23",
       "version_major": 2,
       "version_minor": 0
      },
      "text/plain": [
       "Retrieving NIH projects for 2021-08-28:   0%|          | 0/1065 [00:00<?, ?it/s]"
      ]
     },
     "metadata": {},
     "output_type": "display_data"
    },
    {
     "data": {
      "application/vnd.jupyter.widget-view+json": {
       "model_id": "42eafedc9a364ffd885a350f97d7d3bb",
       "version_major": 2,
       "version_minor": 0
      },
      "text/plain": [
       "Retrieving NIH projects for 2021-09-04:   0%|          | 0/8395 [00:00<?, ?it/s]"
      ]
     },
     "metadata": {},
     "output_type": "display_data"
    },
    {
     "data": {
      "application/vnd.jupyter.widget-view+json": {
       "model_id": "93c279a9d41b40f9968c96d87d6661f8",
       "version_major": 2,
       "version_minor": 0
      },
      "text/plain": [
       "Retrieving NIH projects for 2021-09-11:   0%|          | 0/1419 [00:00<?, ?it/s]"
      ]
     },
     "metadata": {},
     "output_type": "display_data"
    },
    {
     "data": {
      "application/vnd.jupyter.widget-view+json": {
       "model_id": "bc564541911f427190be8e503aff3599",
       "version_major": 2,
       "version_minor": 0
      },
      "text/plain": [
       "Retrieving NIH projects for 2021-09-18:   0%|          | 0/2124 [00:00<?, ?it/s]"
      ]
     },
     "metadata": {},
     "output_type": "display_data"
    },
    {
     "data": {
      "application/vnd.jupyter.widget-view+json": {
       "model_id": "7b212be969b64537b78acd8896b723e3",
       "version_major": 2,
       "version_minor": 0
      },
      "text/plain": [
       "Retrieving NIH projects for 2021-09-25:   0%|          | 0/2344 [00:00<?, ?it/s]"
      ]
     },
     "metadata": {},
     "output_type": "display_data"
    },
    {
     "data": {
      "application/vnd.jupyter.widget-view+json": {
       "model_id": "5a12e0ec32b647a48594940f64474810",
       "version_major": 2,
       "version_minor": 0
      },
      "text/plain": [
       "Retrieving NIH projects for 2021-10-01:   0%|          | 0/756 [00:00<?, ?it/s]"
      ]
     },
     "metadata": {},
     "output_type": "display_data"
    },
    {
     "data": {
      "application/vnd.jupyter.widget-view+json": {
       "model_id": "d3a62b4782f1468293f391460c00aa28",
       "version_major": 2,
       "version_minor": 0
      },
      "text/plain": [
       "Retrieving NIH projects for 2021-10-02:   0%|          | 0/728 [00:00<?, ?it/s]"
      ]
     },
     "metadata": {},
     "output_type": "display_data"
    },
    {
     "data": {
      "application/vnd.jupyter.widget-view+json": {
       "model_id": "8513925128df464f9807ebb75c9cfa00",
       "version_major": 2,
       "version_minor": 0
      },
      "text/plain": [
       "Retrieving NIH projects for 2021-10-09:   0%|          | 0/276 [00:00<?, ?it/s]"
      ]
     },
     "metadata": {},
     "output_type": "display_data"
    },
    {
     "data": {
      "application/vnd.jupyter.widget-view+json": {
       "model_id": "125b93a116584f4298c95cced21d6eca",
       "version_major": 2,
       "version_minor": 0
      },
      "text/plain": [
       "Retrieving NIH projects for 2021-10-16:   0%|          | 0/94 [00:00<?, ?it/s]"
      ]
     },
     "metadata": {},
     "output_type": "display_data"
    },
    {
     "data": {
      "application/vnd.jupyter.widget-view+json": {
       "model_id": "b806474ca08a49478611c04e2678726f",
       "version_major": 2,
       "version_minor": 0
      },
      "text/plain": [
       "Retrieving NIH projects for 2021-10-23:   0%|          | 0/96 [00:00<?, ?it/s]"
      ]
     },
     "metadata": {},
     "output_type": "display_data"
    },
    {
     "data": {
      "application/vnd.jupyter.widget-view+json": {
       "model_id": "64d4fb63e56f40c3bbffedd9fc5f66c1",
       "version_major": 2,
       "version_minor": 0
      },
      "text/plain": [
       "Retrieving NIH projects for 2021-10-30:   0%|          | 0/239 [00:00<?, ?it/s]"
      ]
     },
     "metadata": {},
     "output_type": "display_data"
    },
    {
     "data": {
      "application/vnd.jupyter.widget-view+json": {
       "model_id": "92cefecf6677467b84c2af454aaff24f",
       "version_major": 2,
       "version_minor": 0
      },
      "text/plain": [
       "Retrieving NIH projects for 2021-11-06:   0%|          | 0/399 [00:00<?, ?it/s]"
      ]
     },
     "metadata": {},
     "output_type": "display_data"
    },
    {
     "data": {
      "application/vnd.jupyter.widget-view+json": {
       "model_id": "6fabca7fdc6941698a9ca7176d94c700",
       "version_major": 2,
       "version_minor": 0
      },
      "text/plain": [
       "Retrieving NIH projects for 2021-11-13:   0%|          | 0/66 [00:00<?, ?it/s]"
      ]
     },
     "metadata": {},
     "output_type": "display_data"
    },
    {
     "data": {
      "application/vnd.jupyter.widget-view+json": {
       "model_id": "7691b26dfc194d64ac3b6190c20d32a7",
       "version_major": 2,
       "version_minor": 0
      },
      "text/plain": [
       "Retrieving NIH projects for 2021-11-20:   0%|          | 0/59 [00:00<?, ?it/s]"
      ]
     },
     "metadata": {},
     "output_type": "display_data"
    },
    {
     "data": {
      "application/vnd.jupyter.widget-view+json": {
       "model_id": "51e0dffccfbb481491c910a59db85dd6",
       "version_major": 2,
       "version_minor": 0
      },
      "text/plain": [
       "Retrieving NIH projects for 2021-11-27:   0%|          | 0/48 [00:00<?, ?it/s]"
      ]
     },
     "metadata": {},
     "output_type": "display_data"
    },
    {
     "data": {
      "application/vnd.jupyter.widget-view+json": {
       "model_id": "751a5dd5c07941f9bd98573ce63df09b",
       "version_major": 2,
       "version_minor": 0
      },
      "text/plain": [
       "Retrieving NIH projects for 2021-12-04:   0%|          | 0/2302 [00:00<?, ?it/s]"
      ]
     },
     "metadata": {},
     "output_type": "display_data"
    },
    {
     "data": {
      "application/vnd.jupyter.widget-view+json": {
       "model_id": "c13640a0e9fe43f48c007e9fbfa86b5a",
       "version_major": 2,
       "version_minor": 0
      },
      "text/plain": [
       "Retrieving NIH projects for 2021-12-06:   0%|          | 0/63 [00:00<?, ?it/s]"
      ]
     },
     "metadata": {},
     "output_type": "display_data"
    },
    {
     "data": {
      "application/vnd.jupyter.widget-view+json": {
       "model_id": "13149d267f78410d94c2b535221a5bc6",
       "version_major": 2,
       "version_minor": 0
      },
      "text/plain": [
       "Retrieving NIH projects for 2021-12-11:   0%|          | 0/291 [00:00<?, ?it/s]"
      ]
     },
     "metadata": {},
     "output_type": "display_data"
    },
    {
     "data": {
      "application/vnd.jupyter.widget-view+json": {
       "model_id": "877a08119af044c98f1ce900bccb34e0",
       "version_major": 2,
       "version_minor": 0
      },
      "text/plain": [
       "Retrieving NIH projects for 2021-12-18:   0%|          | 0/380 [00:00<?, ?it/s]"
      ]
     },
     "metadata": {},
     "output_type": "display_data"
    },
    {
     "data": {
      "application/vnd.jupyter.widget-view+json": {
       "model_id": "8194469909394ee489a32d30971cb4c7",
       "version_major": 2,
       "version_minor": 0
      },
      "text/plain": [
       "Retrieving NIH projects for 2021-12-25:   0%|          | 0/193 [00:00<?, ?it/s]"
      ]
     },
     "metadata": {},
     "output_type": "display_data"
    },
    {
     "data": {
      "application/vnd.jupyter.widget-view+json": {
       "model_id": "1076cf0c4e994b1b80efa181085b5503",
       "version_major": 2,
       "version_minor": 0
      },
      "text/plain": [
       "Retrieving NIH projects for 2022-01-01:   0%|          | 0/2552 [00:00<?, ?it/s]"
      ]
     },
     "metadata": {},
     "output_type": "display_data"
    },
    {
     "data": {
      "application/vnd.jupyter.widget-view+json": {
       "model_id": "720869b97b3846adaaddcecb8ee05960",
       "version_major": 2,
       "version_minor": 0
      },
      "text/plain": [
       "Retrieving NIH projects for 2022-01-08:   0%|          | 0/368 [00:00<?, ?it/s]"
      ]
     },
     "metadata": {},
     "output_type": "display_data"
    },
    {
     "data": {
      "application/vnd.jupyter.widget-view+json": {
       "model_id": "36492e3d21a54cfebdbcf63da2ab3c87",
       "version_major": 2,
       "version_minor": 0
      },
      "text/plain": [
       "Retrieving NIH projects for 2022-01-15:   0%|          | 0/3621 [00:00<?, ?it/s]"
      ]
     },
     "metadata": {},
     "output_type": "display_data"
    },
    {
     "data": {
      "application/vnd.jupyter.widget-view+json": {
       "model_id": "4e9df6c48586463a9fb839d66a483bbf",
       "version_major": 2,
       "version_minor": 0
      },
      "text/plain": [
       "Retrieving NIH projects for 2022-01-22:   0%|          | 0/416 [00:00<?, ?it/s]"
      ]
     },
     "metadata": {},
     "output_type": "display_data"
    },
    {
     "data": {
      "application/vnd.jupyter.widget-view+json": {
       "model_id": "50bcfae1b4a84f3db27945b010ec2ed6",
       "version_major": 2,
       "version_minor": 0
      },
      "text/plain": [
       "Retrieving NIH projects for 2022-01-29:   0%|          | 0/347 [00:00<?, ?it/s]"
      ]
     },
     "metadata": {},
     "output_type": "display_data"
    },
    {
     "data": {
      "application/vnd.jupyter.widget-view+json": {
       "model_id": "c9871f4fd19241499d334ea497663644",
       "version_major": 2,
       "version_minor": 0
      },
      "text/plain": [
       "Retrieving NIH projects for 2022-02-05:   0%|          | 0/3327 [00:00<?, ?it/s]"
      ]
     },
     "metadata": {},
     "output_type": "display_data"
    },
    {
     "data": {
      "application/vnd.jupyter.widget-view+json": {
       "model_id": "8bd98dba932b4b8f92f56c9af83dab32",
       "version_major": 2,
       "version_minor": 0
      },
      "text/plain": [
       "Retrieving NIH projects for 2022-02-12:   0%|          | 0/560 [00:00<?, ?it/s]"
      ]
     },
     "metadata": {},
     "output_type": "display_data"
    },
    {
     "data": {
      "application/vnd.jupyter.widget-view+json": {
       "model_id": "5a799304e5c94978b7ac4461c97a42d6",
       "version_major": 2,
       "version_minor": 0
      },
      "text/plain": [
       "Retrieving NIH projects for 2022-02-19:   0%|          | 0/606 [00:00<?, ?it/s]"
      ]
     },
     "metadata": {},
     "output_type": "display_data"
    },
    {
     "data": {
      "application/vnd.jupyter.widget-view+json": {
       "model_id": "540d130d00364eedb0610d0e5f1d04b3",
       "version_major": 2,
       "version_minor": 0
      },
      "text/plain": [
       "Retrieving NIH projects for 2022-02-26:   0%|          | 0/341 [00:00<?, ?it/s]"
      ]
     },
     "metadata": {},
     "output_type": "display_data"
    },
    {
     "data": {
      "application/vnd.jupyter.widget-view+json": {
       "model_id": "7654535fd4664ee8813957615288dbb7",
       "version_major": 2,
       "version_minor": 0
      },
      "text/plain": [
       "Retrieving NIH projects for 2022-03-05:   0%|          | 0/3316 [00:00<?, ?it/s]"
      ]
     },
     "metadata": {},
     "output_type": "display_data"
    },
    {
     "data": {
      "application/vnd.jupyter.widget-view+json": {
       "model_id": "f3c5816b2a5c4e94bae8e3913d3e4e90",
       "version_major": 2,
       "version_minor": 0
      },
      "text/plain": [
       "Retrieving NIH projects for 2022-03-12:   0%|          | 0/580 [00:00<?, ?it/s]"
      ]
     },
     "metadata": {},
     "output_type": "display_data"
    },
    {
     "data": {
      "application/vnd.jupyter.widget-view+json": {
       "model_id": "7aa1f66e912b4bb286eb6e0fbddaefab",
       "version_major": 2,
       "version_minor": 0
      },
      "text/plain": [
       "Retrieving NIH projects for 2022-03-19:   0%|          | 0/521 [00:00<?, ?it/s]"
      ]
     },
     "metadata": {},
     "output_type": "display_data"
    },
    {
     "data": {
      "application/vnd.jupyter.widget-view+json": {
       "model_id": "1354e9a0c4364fa39b6c36362d1dce05",
       "version_major": 2,
       "version_minor": 0
      },
      "text/plain": [
       "Retrieving NIH projects for 2022-03-26:   0%|          | 0/352 [00:00<?, ?it/s]"
      ]
     },
     "metadata": {},
     "output_type": "display_data"
    },
    {
     "data": {
      "application/vnd.jupyter.widget-view+json": {
       "model_id": "d5cd0cc9da1f4872a6fe962b5dad40c8",
       "version_major": 2,
       "version_minor": 0
      },
      "text/plain": [
       "Retrieving NIH projects for 2022-04-02:   0%|          | 0/4199 [00:00<?, ?it/s]"
      ]
     },
     "metadata": {},
     "output_type": "display_data"
    },
    {
     "data": {
      "application/vnd.jupyter.widget-view+json": {
       "model_id": "1dbba172e8284697ab8426e35d2aaea4",
       "version_major": 2,
       "version_minor": 0
      },
      "text/plain": [
       "Retrieving NIH projects for 2022-04-09:   0%|          | 0/933 [00:00<?, ?it/s]"
      ]
     },
     "metadata": {},
     "output_type": "display_data"
    },
    {
     "data": {
      "application/vnd.jupyter.widget-view+json": {
       "model_id": "6ac49eebc67b43b2b9101ec34bb4c32d",
       "version_major": 2,
       "version_minor": 0
      },
      "text/plain": [
       "Retrieving NIH projects for 2022-04-16:   0%|          | 0/904 [00:00<?, ?it/s]"
      ]
     },
     "metadata": {},
     "output_type": "display_data"
    },
    {
     "data": {
      "application/vnd.jupyter.widget-view+json": {
       "model_id": "71577458a3e54eca849871b9b2a00f1d",
       "version_major": 2,
       "version_minor": 0
      },
      "text/plain": [
       "Retrieving NIH projects for 2022-04-23:   0%|          | 0/721 [00:00<?, ?it/s]"
      ]
     },
     "metadata": {},
     "output_type": "display_data"
    },
    {
     "data": {
      "application/vnd.jupyter.widget-view+json": {
       "model_id": "05efaeb8a27549ee947d5d09fc19cbf0",
       "version_major": 2,
       "version_minor": 0
      },
      "text/plain": [
       "Retrieving NIH projects for 2022-04-30:   0%|          | 0/607 [00:00<?, ?it/s]"
      ]
     },
     "metadata": {},
     "output_type": "display_data"
    },
    {
     "data": {
      "application/vnd.jupyter.widget-view+json": {
       "model_id": "b6df13967a37453bb912a173b30fe2d8",
       "version_major": 2,
       "version_minor": 0
      },
      "text/plain": [
       "Retrieving NIH projects for 2022-05-07:   0%|          | 0/4508 [00:00<?, ?it/s]"
      ]
     },
     "metadata": {},
     "output_type": "display_data"
    },
    {
     "data": {
      "application/vnd.jupyter.widget-view+json": {
       "model_id": "892147b483524530bb31e668a9567333",
       "version_major": 2,
       "version_minor": 0
      },
      "text/plain": [
       "Retrieving NIH projects for 2022-05-14:   0%|          | 0/929 [00:00<?, ?it/s]"
      ]
     },
     "metadata": {},
     "output_type": "display_data"
    },
    {
     "data": {
      "application/vnd.jupyter.widget-view+json": {
       "model_id": "d86cb3f83bcc4a2b85f10796af8fe1e9",
       "version_major": 2,
       "version_minor": 0
      },
      "text/plain": [
       "Retrieving NIH projects for 2022-05-21:   0%|          | 0/1039 [00:00<?, ?it/s]"
      ]
     },
     "metadata": {},
     "output_type": "display_data"
    },
    {
     "data": {
      "application/vnd.jupyter.widget-view+json": {
       "model_id": "d21e6d446ae84ad2baca5a94e0bb6c7d",
       "version_major": 2,
       "version_minor": 0
      },
      "text/plain": [
       "Retrieving NIH projects for 2022-05-28:   0%|          | 0/673 [00:00<?, ?it/s]"
      ]
     },
     "metadata": {},
     "output_type": "display_data"
    },
    {
     "data": {
      "application/vnd.jupyter.widget-view+json": {
       "model_id": "b6d3cf8f7ca646048798f1b312a832d0",
       "version_major": 2,
       "version_minor": 0
      },
      "text/plain": [
       "Retrieving NIH projects for 2022-06-04:   0%|          | 0/4828 [00:00<?, ?it/s]"
      ]
     },
     "metadata": {},
     "output_type": "display_data"
    },
    {
     "data": {
      "application/vnd.jupyter.widget-view+json": {
       "model_id": "83def4a2ae914c90bec814d7e412237a",
       "version_major": 2,
       "version_minor": 0
      },
      "text/plain": [
       "Retrieving NIH projects for 2022-06-11:   0%|          | 0/1334 [00:00<?, ?it/s]"
      ]
     },
     "metadata": {},
     "output_type": "display_data"
    },
    {
     "data": {
      "application/vnd.jupyter.widget-view+json": {
       "model_id": "994192856e434497a21bc503483c5750",
       "version_major": 2,
       "version_minor": 0
      },
      "text/plain": [
       "Retrieving NIH projects for 2022-06-18:   0%|          | 0/1246 [00:00<?, ?it/s]"
      ]
     },
     "metadata": {},
     "output_type": "display_data"
    },
    {
     "data": {
      "application/vnd.jupyter.widget-view+json": {
       "model_id": "902991303e24455182d06f618504f656",
       "version_major": 2,
       "version_minor": 0
      },
      "text/plain": [
       "Retrieving NIH projects for 2022-06-25:   0%|          | 0/722 [00:00<?, ?it/s]"
      ]
     },
     "metadata": {},
     "output_type": "display_data"
    },
    {
     "data": {
      "application/vnd.jupyter.widget-view+json": {
       "model_id": "d7c0d759e05b48bf8a2306cee40df3f7",
       "version_major": 2,
       "version_minor": 0
      },
      "text/plain": [
       "Retrieving NIH projects for 2022-07-02:   0%|          | 0/7122 [00:00<?, ?it/s]"
      ]
     },
     "metadata": {},
     "output_type": "display_data"
    },
    {
     "data": {
      "application/vnd.jupyter.widget-view+json": {
       "model_id": "de9f94a9d8d54a75a97234e39fcc3b31",
       "version_major": 2,
       "version_minor": 0
      },
      "text/plain": [
       "Retrieving NIH projects for 2022-07-09:   0%|          | 0/1379 [00:00<?, ?it/s]"
      ]
     },
     "metadata": {},
     "output_type": "display_data"
    },
    {
     "data": {
      "application/vnd.jupyter.widget-view+json": {
       "model_id": "4355b8e402ce4ee5a529518c7dd5b38c",
       "version_major": 2,
       "version_minor": 0
      },
      "text/plain": [
       "Retrieving NIH projects for 2022-07-16:   0%|          | 0/1684 [00:00<?, ?it/s]"
      ]
     },
     "metadata": {},
     "output_type": "display_data"
    },
    {
     "data": {
      "application/vnd.jupyter.widget-view+json": {
       "model_id": "00352828c3ed42dabf88e22604a136ae",
       "version_major": 2,
       "version_minor": 0
      },
      "text/plain": [
       "Retrieving NIH projects for 2022-07-23:   0%|          | 0/1232 [00:00<?, ?it/s]"
      ]
     },
     "metadata": {},
     "output_type": "display_data"
    },
    {
     "data": {
      "application/vnd.jupyter.widget-view+json": {
       "model_id": "b301980179344a779e9be414b3ab8617",
       "version_major": 2,
       "version_minor": 0
      },
      "text/plain": [
       "Retrieving NIH projects for 2022-07-30:   0%|          | 0/975 [00:00<?, ?it/s]"
      ]
     },
     "metadata": {},
     "output_type": "display_data"
    },
    {
     "data": {
      "application/vnd.jupyter.widget-view+json": {
       "model_id": "c6a9a4e372ac48e9bc31acbf61693dae",
       "version_major": 2,
       "version_minor": 0
      },
      "text/plain": [
       "Retrieving NIH projects for 2022-08-06:   0%|          | 0/6191 [00:00<?, ?it/s]"
      ]
     },
     "metadata": {},
     "output_type": "display_data"
    },
    {
     "data": {
      "application/vnd.jupyter.widget-view+json": {
       "model_id": "5346c404994e41908bc15f940a4f8974",
       "version_major": 2,
       "version_minor": 0
      },
      "text/plain": [
       "Retrieving NIH projects for 2022-08-13:   0%|          | 0/1359 [00:00<?, ?it/s]"
      ]
     },
     "metadata": {},
     "output_type": "display_data"
    },
    {
     "data": {
      "application/vnd.jupyter.widget-view+json": {
       "model_id": "8823a3108eca417384b8b432eff80e08",
       "version_major": 2,
       "version_minor": 0
      },
      "text/plain": [
       "Retrieving NIH projects for 2022-08-20:   0%|          | 0/2038 [00:00<?, ?it/s]"
      ]
     },
     "metadata": {},
     "output_type": "display_data"
    },
    {
     "data": {
      "application/vnd.jupyter.widget-view+json": {
       "model_id": "ad85170362e14650b2d6a983e01945ff",
       "version_major": 2,
       "version_minor": 0
      },
      "text/plain": [
       "Retrieving NIH projects for 2022-08-27:   0%|          | 0/1182 [00:00<?, ?it/s]"
      ]
     },
     "metadata": {},
     "output_type": "display_data"
    },
    {
     "data": {
      "application/vnd.jupyter.widget-view+json": {
       "model_id": "016ecadfb375433787dc216ce7f08c72",
       "version_major": 2,
       "version_minor": 0
      },
      "text/plain": [
       "Retrieving NIH projects for 2022-09-03:   0%|          | 0/9006 [00:00<?, ?it/s]"
      ]
     },
     "metadata": {},
     "output_type": "display_data"
    },
    {
     "data": {
      "application/vnd.jupyter.widget-view+json": {
       "model_id": "8ae0ff3fdc87484ab96c82e20741109d",
       "version_major": 2,
       "version_minor": 0
      },
      "text/plain": [
       "Retrieving NIH projects for 2022-09-12:   0%|          | 0/2078 [00:00<?, ?it/s]"
      ]
     },
     "metadata": {},
     "output_type": "display_data"
    },
    {
     "data": {
      "application/vnd.jupyter.widget-view+json": {
       "model_id": "629b6f713eb54c5fb49b64a6d752cb8e",
       "version_major": 2,
       "version_minor": 0
      },
      "text/plain": [
       "Retrieving NIH projects for 2022-09-13:   0%|          | 0/282 [00:00<?, ?it/s]"
      ]
     },
     "metadata": {},
     "output_type": "display_data"
    },
    {
     "data": {
      "application/vnd.jupyter.widget-view+json": {
       "model_id": "e4d1a6f66bce44bd832e4e36e615ae7f",
       "version_major": 2,
       "version_minor": 0
      },
      "text/plain": [
       "Retrieving NIH projects for 2022-09-17:   0%|          | 0/1741 [00:00<?, ?it/s]"
      ]
     },
     "metadata": {},
     "output_type": "display_data"
    },
    {
     "data": {
      "application/vnd.jupyter.widget-view+json": {
       "model_id": "251abf13ee144f35b958a9fd6263ff83",
       "version_major": 2,
       "version_minor": 0
      },
      "text/plain": [
       "Retrieving NIH projects for 2022-09-24:   0%|          | 0/2152 [00:00<?, ?it/s]"
      ]
     },
     "metadata": {},
     "output_type": "display_data"
    },
    {
     "data": {
      "application/vnd.jupyter.widget-view+json": {
       "model_id": "85f26ba7027b427ebf80df9020ac7938",
       "version_major": 2,
       "version_minor": 0
      },
      "text/plain": [
       "Retrieving NIH projects for 2022-10-01:   0%|          | 0/1520 [00:00<?, ?it/s]"
      ]
     },
     "metadata": {},
     "output_type": "display_data"
    },
    {
     "data": {
      "application/vnd.jupyter.widget-view+json": {
       "model_id": "ba30e49cd5b647da8dc4ef17efcb4cb2",
       "version_major": 2,
       "version_minor": 0
      },
      "text/plain": [
       "Retrieving NIH projects for 2022-10-08:   0%|          | 0/401 [00:00<?, ?it/s]"
      ]
     },
     "metadata": {},
     "output_type": "display_data"
    },
    {
     "data": {
      "application/vnd.jupyter.widget-view+json": {
       "model_id": "8e32450453654993ae278ce1dc198d1a",
       "version_major": 2,
       "version_minor": 0
      },
      "text/plain": [
       "Retrieving NIH projects for 2022-10-15:   0%|          | 0/329 [00:00<?, ?it/s]"
      ]
     },
     "metadata": {},
     "output_type": "display_data"
    },
    {
     "data": {
      "application/vnd.jupyter.widget-view+json": {
       "model_id": "426c3380665840028ef1671ab97c3f9f",
       "version_major": 2,
       "version_minor": 0
      },
      "text/plain": [
       "Retrieving NIH projects for 2022-10-23:   0%|          | 0/126 [00:00<?, ?it/s]"
      ]
     },
     "metadata": {},
     "output_type": "display_data"
    },
    {
     "data": {
      "application/vnd.jupyter.widget-view+json": {
       "model_id": "a15fc553a93a44c2a63176e9e7864e62",
       "version_major": 2,
       "version_minor": 0
      },
      "text/plain": [
       "Retrieving NIH projects for 2022-10-29:   0%|          | 0/92 [00:00<?, ?it/s]"
      ]
     },
     "metadata": {},
     "output_type": "display_data"
    },
    {
     "data": {
      "application/vnd.jupyter.widget-view+json": {
       "model_id": "e5b4d6d1910f4e35a8b2501f7a6f29bc",
       "version_major": 2,
       "version_minor": 0
      },
      "text/plain": [
       "Retrieving NIH projects for 2022-11-05:   0%|          | 0/329 [00:00<?, ?it/s]"
      ]
     },
     "metadata": {},
     "output_type": "display_data"
    },
    {
     "data": {
      "application/vnd.jupyter.widget-view+json": {
       "model_id": "02b4939da83c425ba4ea81df94baa729",
       "version_major": 2,
       "version_minor": 0
      },
      "text/plain": [
       "Retrieving NIH projects for 2022-11-12:   0%|          | 0/168 [00:00<?, ?it/s]"
      ]
     },
     "metadata": {},
     "output_type": "display_data"
    },
    {
     "data": {
      "application/vnd.jupyter.widget-view+json": {
       "model_id": "edd3ff2e8a714ffdbbfe9da32e579ac1",
       "version_major": 2,
       "version_minor": 0
      },
      "text/plain": [
       "Retrieving NIH projects for 2022-11-19:   0%|          | 0/104 [00:00<?, ?it/s]"
      ]
     },
     "metadata": {},
     "output_type": "display_data"
    },
    {
     "data": {
      "application/vnd.jupyter.widget-view+json": {
       "model_id": "8cef4c03659b44018b227a4b32e11089",
       "version_major": 2,
       "version_minor": 0
      },
      "text/plain": [
       "Retrieving NIH projects for 2022-11-26:   0%|          | 0/54 [00:00<?, ?it/s]"
      ]
     },
     "metadata": {},
     "output_type": "display_data"
    },
    {
     "data": {
      "application/vnd.jupyter.widget-view+json": {
       "model_id": "ec9484c171a041169fb94f14c03cac3e",
       "version_major": 2,
       "version_minor": 0
      },
      "text/plain": [
       "Retrieving NIH projects for 2022-12-03:   0%|          | 0/2002 [00:00<?, ?it/s]"
      ]
     },
     "metadata": {},
     "output_type": "display_data"
    },
    {
     "data": {
      "application/vnd.jupyter.widget-view+json": {
       "model_id": "091dafdea7c7427c876f579a6aeb94b3",
       "version_major": 2,
       "version_minor": 0
      },
      "text/plain": [
       "Retrieving NIH projects for 2022-12-10:   0%|          | 0/388 [00:00<?, ?it/s]"
      ]
     },
     "metadata": {},
     "output_type": "display_data"
    },
    {
     "data": {
      "application/vnd.jupyter.widget-view+json": {
       "model_id": "b5df0d7da86f4b21a8bf932f0fa9dda8",
       "version_major": 2,
       "version_minor": 0
      },
      "text/plain": [
       "Retrieving NIH projects for 2022-12-17:   0%|          | 0/374 [00:00<?, ?it/s]"
      ]
     },
     "metadata": {},
     "output_type": "display_data"
    },
    {
     "data": {
      "application/vnd.jupyter.widget-view+json": {
       "model_id": "bf4640808fff4cf78215ee270ffa0e58",
       "version_major": 2,
       "version_minor": 0
      },
      "text/plain": [
       "Retrieving NIH projects for 2022-12-24:   0%|          | 0/226 [00:00<?, ?it/s]"
      ]
     },
     "metadata": {},
     "output_type": "display_data"
    },
    {
     "data": {
      "application/vnd.jupyter.widget-view+json": {
       "model_id": "d523f91a57b7453a8a26f0a42503f403",
       "version_major": 2,
       "version_minor": 0
      },
      "text/plain": [
       "Retrieving NIH projects for 2022-12-31:   0%|          | 0/104 [00:00<?, ?it/s]"
      ]
     },
     "metadata": {},
     "output_type": "display_data"
    },
    {
     "data": {
      "application/vnd.jupyter.widget-view+json": {
       "model_id": "6e4d5cd7ea53415b878f2af09eaa05a7",
       "version_major": 2,
       "version_minor": 0
      },
      "text/plain": [
       "Retrieving NIH projects for 2023-01-07:   0%|          | 0/2631 [00:00<?, ?it/s]"
      ]
     },
     "metadata": {},
     "output_type": "display_data"
    },
    {
     "data": {
      "application/vnd.jupyter.widget-view+json": {
       "model_id": "6ee4632bbc6e4e7a9b38bb4dff731042",
       "version_major": 2,
       "version_minor": 0
      },
      "text/plain": [
       "Retrieving NIH projects for 2023-01-14:   0%|          | 0/461 [00:00<?, ?it/s]"
      ]
     },
     "metadata": {},
     "output_type": "display_data"
    },
    {
     "data": {
      "application/vnd.jupyter.widget-view+json": {
       "model_id": "73492603512848c0a53d488a8f373c88",
       "version_major": 2,
       "version_minor": 0
      },
      "text/plain": [
       "Retrieving NIH projects for 2023-01-21:   0%|          | 0/500 [00:00<?, ?it/s]"
      ]
     },
     "metadata": {},
     "output_type": "display_data"
    },
    {
     "data": {
      "application/vnd.jupyter.widget-view+json": {
       "model_id": "c8471e787ec44ebeac900f17b13efb5b",
       "version_major": 2,
       "version_minor": 0
      },
      "text/plain": [
       "Retrieving NIH projects for 2023-01-28:   0%|          | 0/501 [00:00<?, ?it/s]"
      ]
     },
     "metadata": {},
     "output_type": "display_data"
    },
    {
     "data": {
      "application/vnd.jupyter.widget-view+json": {
       "model_id": "c829c4b688824d609eb51ae73378d305",
       "version_major": 2,
       "version_minor": 0
      },
      "text/plain": [
       "Retrieving NIH projects for 2023-02-01:   0%|          | 0/2930 [00:00<?, ?it/s]"
      ]
     },
     "metadata": {},
     "output_type": "display_data"
    },
    {
     "data": {
      "application/vnd.jupyter.widget-view+json": {
       "model_id": "2ff5c672051e4083985d9362aac4d8d6",
       "version_major": 2,
       "version_minor": 0
      },
      "text/plain": [
       "Retrieving NIH projects for 2023-02-04:   0%|          | 0/362 [00:00<?, ?it/s]"
      ]
     },
     "metadata": {},
     "output_type": "display_data"
    },
    {
     "data": {
      "application/vnd.jupyter.widget-view+json": {
       "model_id": "27993ab6296a403b97f6790871eb8cfe",
       "version_major": 2,
       "version_minor": 0
      },
      "text/plain": [
       "Retrieving NIH projects for 2023-02-11:   0%|          | 0/610 [00:00<?, ?it/s]"
      ]
     },
     "metadata": {},
     "output_type": "display_data"
    },
    {
     "data": {
      "application/vnd.jupyter.widget-view+json": {
       "model_id": "a66ace7e5f124c7b85fe6ce68a931584",
       "version_major": 2,
       "version_minor": 0
      },
      "text/plain": [
       "Retrieving NIH projects for 2023-02-18:   0%|          | 0/560 [00:00<?, ?it/s]"
      ]
     },
     "metadata": {},
     "output_type": "display_data"
    },
    {
     "data": {
      "application/vnd.jupyter.widget-view+json": {
       "model_id": "2bba8b06b4b346a6beab2f608bb04a28",
       "version_major": 2,
       "version_minor": 0
      },
      "text/plain": [
       "Retrieving NIH projects for 2023-02-25:   0%|          | 0/327 [00:00<?, ?it/s]"
      ]
     },
     "metadata": {},
     "output_type": "display_data"
    },
    {
     "data": {
      "application/vnd.jupyter.widget-view+json": {
       "model_id": "0c57c5f28e1b41a6899c31619d7a6930",
       "version_major": 2,
       "version_minor": 0
      },
      "text/plain": [
       "Retrieving NIH projects for 2023-03-04:   0%|          | 0/3292 [00:00<?, ?it/s]"
      ]
     },
     "metadata": {},
     "output_type": "display_data"
    },
    {
     "data": {
      "application/vnd.jupyter.widget-view+json": {
       "model_id": "82f3a8ceab074efb8ebcc494a415d0ce",
       "version_major": 2,
       "version_minor": 0
      },
      "text/plain": [
       "Retrieving NIH projects for 2023-03-11:   0%|          | 0/622 [00:00<?, ?it/s]"
      ]
     },
     "metadata": {},
     "output_type": "display_data"
    },
    {
     "data": {
      "application/vnd.jupyter.widget-view+json": {
       "model_id": "32bb09f10375464ca96900ae6000f3b3",
       "version_major": 2,
       "version_minor": 0
      },
      "text/plain": [
       "Retrieving NIH projects for 2023-03-18:   0%|          | 0/620 [00:00<?, ?it/s]"
      ]
     },
     "metadata": {},
     "output_type": "display_data"
    },
    {
     "data": {
      "application/vnd.jupyter.widget-view+json": {
       "model_id": "238f4bb6d8fe497a81d33288c5253949",
       "version_major": 2,
       "version_minor": 0
      },
      "text/plain": [
       "Retrieving NIH projects for 2023-03-25:   0%|          | 0/403 [00:00<?, ?it/s]"
      ]
     },
     "metadata": {},
     "output_type": "display_data"
    },
    {
     "data": {
      "application/vnd.jupyter.widget-view+json": {
       "model_id": "a97a21a61dca496d9c4d4b9b169b0cff",
       "version_major": 2,
       "version_minor": 0
      },
      "text/plain": [
       "Retrieving NIH projects for 2023-04-01:   0%|          | 0/5243 [00:00<?, ?it/s]"
      ]
     },
     "metadata": {},
     "output_type": "display_data"
    },
    {
     "data": {
      "application/vnd.jupyter.widget-view+json": {
       "model_id": "1ec5aeca4444411c88fc1a892b1de3ac",
       "version_major": 2,
       "version_minor": 0
      },
      "text/plain": [
       "Retrieving NIH projects for 2023-04-08:   0%|          | 0/858 [00:00<?, ?it/s]"
      ]
     },
     "metadata": {},
     "output_type": "display_data"
    },
    {
     "data": {
      "application/vnd.jupyter.widget-view+json": {
       "model_id": "54352c47abb84fe182f10ba84905fb40",
       "version_major": 2,
       "version_minor": 0
      },
      "text/plain": [
       "Retrieving NIH projects for 2023-04-15:   0%|          | 0/3882 [00:00<?, ?it/s]"
      ]
     },
     "metadata": {},
     "output_type": "display_data"
    },
    {
     "data": {
      "application/vnd.jupyter.widget-view+json": {
       "model_id": "4bd31c8f509848fbac31250e9f6aea06",
       "version_major": 2,
       "version_minor": 0
      },
      "text/plain": [
       "Retrieving NIH projects for 2023-04-17:   0%|          | 0/111 [00:00<?, ?it/s]"
      ]
     },
     "metadata": {},
     "output_type": "display_data"
    },
    {
     "data": {
      "application/vnd.jupyter.widget-view+json": {
       "model_id": "26b679a4eb6d437693100b9e226bc77f",
       "version_major": 2,
       "version_minor": 0
      },
      "text/plain": [
       "Retrieving NIH projects for 2023-04-22:   0%|          | 0/346 [00:00<?, ?it/s]"
      ]
     },
     "metadata": {},
     "output_type": "display_data"
    },
    {
     "data": {
      "application/vnd.jupyter.widget-view+json": {
       "model_id": "01ee847f71b845feae9cf1a78fc8758a",
       "version_major": 2,
       "version_minor": 0
      },
      "text/plain": [
       "Retrieving NIH projects for 2023-04-29:   0%|          | 0/397 [00:00<?, ?it/s]"
      ]
     },
     "metadata": {},
     "output_type": "display_data"
    },
    {
     "data": {
      "application/vnd.jupyter.widget-view+json": {
       "model_id": "7a6f96b0893f4c14b6a1e6b40c8253e8",
       "version_major": 2,
       "version_minor": 0
      },
      "text/plain": [
       "Retrieving NIH projects for 2023-05-04:   0%|          | 0/4465 [00:00<?, ?it/s]"
      ]
     },
     "metadata": {},
     "output_type": "display_data"
    },
    {
     "data": {
      "application/vnd.jupyter.widget-view+json": {
       "model_id": "d271b54e77ee43468c18c7db6a03c6e3",
       "version_major": 2,
       "version_minor": 0
      },
      "text/plain": [
       "Retrieving NIH projects for 2023-05-06:   0%|          | 0/293 [00:00<?, ?it/s]"
      ]
     },
     "metadata": {},
     "output_type": "display_data"
    },
    {
     "data": {
      "application/vnd.jupyter.widget-view+json": {
       "model_id": "78b30cd8596349cea0e00bf123c04b28",
       "version_major": 2,
       "version_minor": 0
      },
      "text/plain": [
       "Retrieving NIH projects for 2023-05-13:   0%|          | 0/891 [00:00<?, ?it/s]"
      ]
     },
     "metadata": {},
     "output_type": "display_data"
    },
    {
     "data": {
      "application/vnd.jupyter.widget-view+json": {
       "model_id": "24fb5a2d0eda462b8ceb02289d2c11f5",
       "version_major": 2,
       "version_minor": 0
      },
      "text/plain": [
       "Retrieving NIH projects for 2023-05-16:   0%|          | 0/546 [00:00<?, ?it/s]"
      ]
     },
     "metadata": {},
     "output_type": "display_data"
    },
    {
     "data": {
      "application/vnd.jupyter.widget-view+json": {
       "model_id": "0b35fb38e1d7471fa82f39fd1233d081",
       "version_major": 2,
       "version_minor": 0
      },
      "text/plain": [
       "Retrieving NIH projects for 2023-05-20:   0%|          | 0/517 [00:00<?, ?it/s]"
      ]
     },
     "metadata": {},
     "output_type": "display_data"
    },
    {
     "data": {
      "application/vnd.jupyter.widget-view+json": {
       "model_id": "605fb77c856846df8e9115a3153c2122",
       "version_major": 2,
       "version_minor": 0
      },
      "text/plain": [
       "Retrieving NIH projects for 2023-05-27:   0%|          | 0/566 [00:00<?, ?it/s]"
      ]
     },
     "metadata": {},
     "output_type": "display_data"
    },
    {
     "data": {
      "application/vnd.jupyter.widget-view+json": {
       "model_id": "13e5d14448b244948535c735e6560337",
       "version_major": 2,
       "version_minor": 0
      },
      "text/plain": [
       "Retrieving NIH projects for 2023-06-03:   0%|          | 0/5332 [00:00<?, ?it/s]"
      ]
     },
     "metadata": {},
     "output_type": "display_data"
    },
    {
     "data": {
      "application/vnd.jupyter.widget-view+json": {
       "model_id": "09dd61a8ce514b37888157bfa16d4d13",
       "version_major": 2,
       "version_minor": 0
      },
      "text/plain": [
       "Retrieving NIH projects for 2023-06-10:   0%|          | 0/1109 [00:00<?, ?it/s]"
      ]
     },
     "metadata": {},
     "output_type": "display_data"
    },
    {
     "data": {
      "application/vnd.jupyter.widget-view+json": {
       "model_id": "50fe3e5f460b460db653b69601f0d0f8",
       "version_major": 2,
       "version_minor": 0
      },
      "text/plain": [
       "Retrieving NIH projects for 2023-06-17:   0%|          | 0/1019 [00:00<?, ?it/s]"
      ]
     },
     "metadata": {},
     "output_type": "display_data"
    },
    {
     "data": {
      "application/vnd.jupyter.widget-view+json": {
       "model_id": "a520b3e4a96a46c6b839fa1bdd9f72f3",
       "version_major": 2,
       "version_minor": 0
      },
      "text/plain": [
       "Retrieving NIH projects for 2023-06-24:   0%|          | 0/675 [00:00<?, ?it/s]"
      ]
     },
     "metadata": {},
     "output_type": "display_data"
    },
    {
     "data": {
      "application/vnd.jupyter.widget-view+json": {
       "model_id": "c1c0c129bb5a425b974c79b88c7de89c",
       "version_major": 2,
       "version_minor": 0
      },
      "text/plain": [
       "Retrieving NIH projects for 2023-07-01:   0%|          | 0/7209 [00:00<?, ?it/s]"
      ]
     },
     "metadata": {},
     "output_type": "display_data"
    },
    {
     "data": {
      "application/vnd.jupyter.widget-view+json": {
       "model_id": "67facbf684ca4db5b8ae80dafdae51a4",
       "version_major": 2,
       "version_minor": 0
      },
      "text/plain": [
       "Retrieving NIH projects for 2023-07-08:   0%|          | 0/1439 [00:00<?, ?it/s]"
      ]
     },
     "metadata": {},
     "output_type": "display_data"
    },
    {
     "data": {
      "application/vnd.jupyter.widget-view+json": {
       "model_id": "103e0b4f370e4d69962365a1705b5a0c",
       "version_major": 2,
       "version_minor": 0
      },
      "text/plain": [
       "Retrieving NIH projects for 2023-07-15:   0%|          | 0/1573 [00:00<?, ?it/s]"
      ]
     },
     "metadata": {},
     "output_type": "display_data"
    },
    {
     "data": {
      "application/vnd.jupyter.widget-view+json": {
       "model_id": "69a1984eb72a44248c9a4f58f377110a",
       "version_major": 2,
       "version_minor": 0
      },
      "text/plain": [
       "Retrieving NIH projects for 2023-07-22:   0%|          | 0/1132 [00:00<?, ?it/s]"
      ]
     },
     "metadata": {},
     "output_type": "display_data"
    },
    {
     "data": {
      "application/vnd.jupyter.widget-view+json": {
       "model_id": "5cb95745ac7d480aaaaa4f3990f00b90",
       "version_major": 2,
       "version_minor": 0
      },
      "text/plain": [
       "Retrieving NIH projects for 2023-07-29:   0%|          | 0/839 [00:00<?, ?it/s]"
      ]
     },
     "metadata": {},
     "output_type": "display_data"
    },
    {
     "data": {
      "application/vnd.jupyter.widget-view+json": {
       "model_id": "eaed1b83b1894b708ec7ed7c63d93b6e",
       "version_major": 2,
       "version_minor": 0
      },
      "text/plain": [
       "Retrieving NIH projects for 2023-08-05:   0%|          | 0/6407 [00:00<?, ?it/s]"
      ]
     },
     "metadata": {},
     "output_type": "display_data"
    },
    {
     "data": {
      "application/vnd.jupyter.widget-view+json": {
       "model_id": "a441ffd781764d7faa31daf81305ee5a",
       "version_major": 2,
       "version_minor": 0
      },
      "text/plain": [
       "Retrieving NIH projects for 2023-08-12:   0%|          | 0/1509 [00:00<?, ?it/s]"
      ]
     },
     "metadata": {},
     "output_type": "display_data"
    },
    {
     "data": {
      "application/vnd.jupyter.widget-view+json": {
       "model_id": "5e0c4086757f4281bf49b66cc57b8b3c",
       "version_major": 2,
       "version_minor": 0
      },
      "text/plain": [
       "Retrieving NIH projects for 2023-08-21:   0%|          | 0/2329 [00:00<?, ?it/s]"
      ]
     },
     "metadata": {},
     "output_type": "display_data"
    },
    {
     "data": {
      "application/vnd.jupyter.widget-view+json": {
       "model_id": "720fc52b2b464544af98012efc7c3592",
       "version_major": 2,
       "version_minor": 0
      },
      "text/plain": [
       "Retrieving NIH projects for 2023-08-26:   0%|          | 0/931 [00:00<?, ?it/s]"
      ]
     },
     "metadata": {},
     "output_type": "display_data"
    },
    {
     "data": {
      "application/vnd.jupyter.widget-view+json": {
       "model_id": "9d48920a56b144259324a9c1fa361bf6",
       "version_major": 2,
       "version_minor": 0
      },
      "text/plain": [
       "Retrieving NIH projects for 2023-09-02:   0%|          | 0/9087 [00:00<?, ?it/s]"
      ]
     },
     "metadata": {},
     "output_type": "display_data"
    },
    {
     "data": {
      "application/vnd.jupyter.widget-view+json": {
       "model_id": "cd54e611b9e842cc91ae96759e4bae16",
       "version_major": 2,
       "version_minor": 0
      },
      "text/plain": [
       "Retrieving NIH projects for 2023-09-09:   0%|          | 0/1937 [00:00<?, ?it/s]"
      ]
     },
     "metadata": {},
     "output_type": "display_data"
    },
    {
     "data": {
      "application/vnd.jupyter.widget-view+json": {
       "model_id": "eef9461ea1b749c09b445f3414c78d99",
       "version_major": 2,
       "version_minor": 0
      },
      "text/plain": [
       "Retrieving NIH projects for 2023-09-16:   0%|          | 0/2218 [00:00<?, ?it/s]"
      ]
     },
     "metadata": {},
     "output_type": "display_data"
    },
    {
     "data": {
      "application/vnd.jupyter.widget-view+json": {
       "model_id": "179605ab2d864b7485025cf3d9da2e50",
       "version_major": 2,
       "version_minor": 0
      },
      "text/plain": [
       "Retrieving NIH projects for 2023-09-23:   0%|          | 0/2289 [00:00<?, ?it/s]"
      ]
     },
     "metadata": {},
     "output_type": "display_data"
    },
    {
     "data": {
      "application/vnd.jupyter.widget-view+json": {
       "model_id": "90fe5c1814a54cfbaf99ded4bad2f887",
       "version_major": 2,
       "version_minor": 0
      },
      "text/plain": [
       "Retrieving NIH projects for 2023-09-30:   0%|          | 0/1421 [00:00<?, ?it/s]"
      ]
     },
     "metadata": {},
     "output_type": "display_data"
    },
    {
     "data": {
      "application/vnd.jupyter.widget-view+json": {
       "model_id": "7defe3906ab0426796e6d16b738e211a",
       "version_major": 2,
       "version_minor": 0
      },
      "text/plain": [
       "Retrieving NIH projects for 2023-10-04:   0%|          | 0/199 [00:00<?, ?it/s]"
      ]
     },
     "metadata": {},
     "output_type": "display_data"
    },
    {
     "data": {
      "application/vnd.jupyter.widget-view+json": {
       "model_id": "7c86fb0ec11a4e519c2a668d01f38954",
       "version_major": 2,
       "version_minor": 0
      },
      "text/plain": [
       "Retrieving NIH projects for 2023-10-07:   0%|          | 0/124 [00:00<?, ?it/s]"
      ]
     },
     "metadata": {},
     "output_type": "display_data"
    },
    {
     "data": {
      "application/vnd.jupyter.widget-view+json": {
       "model_id": "fa71abe0f16d429a8efc514e9115f667",
       "version_major": 2,
       "version_minor": 0
      },
      "text/plain": [
       "Retrieving NIH projects for 2023-10-14:   0%|          | 0/437 [00:00<?, ?it/s]"
      ]
     },
     "metadata": {},
     "output_type": "display_data"
    },
    {
     "data": {
      "application/vnd.jupyter.widget-view+json": {
       "model_id": "8672c450c6cd46eca87591c32f187edb",
       "version_major": 2,
       "version_minor": 0
      },
      "text/plain": [
       "Retrieving NIH projects for 2023-10-21:   0%|          | 0/157 [00:00<?, ?it/s]"
      ]
     },
     "metadata": {},
     "output_type": "display_data"
    },
    {
     "data": {
      "application/vnd.jupyter.widget-view+json": {
       "model_id": "61fe2e7c0b254402b27a7f0bc877f46c",
       "version_major": 2,
       "version_minor": 0
      },
      "text/plain": [
       "Retrieving NIH projects for 2023-10-28:   0%|          | 0/246 [00:00<?, ?it/s]"
      ]
     },
     "metadata": {},
     "output_type": "display_data"
    },
    {
     "data": {
      "application/vnd.jupyter.widget-view+json": {
       "model_id": "4099c98dc5a14986b13e4c3d910b472c",
       "version_major": 2,
       "version_minor": 0
      },
      "text/plain": [
       "Retrieving NIH projects for 2023-11-04:   0%|          | 0/507 [00:00<?, ?it/s]"
      ]
     },
     "metadata": {},
     "output_type": "display_data"
    },
    {
     "data": {
      "application/vnd.jupyter.widget-view+json": {
       "model_id": "199cae83d48f4790906627828a44d733",
       "version_major": 2,
       "version_minor": 0
      },
      "text/plain": [
       "Retrieving NIH projects for 2023-11-11:   0%|          | 0/133 [00:00<?, ?it/s]"
      ]
     },
     "metadata": {},
     "output_type": "display_data"
    },
    {
     "data": {
      "application/vnd.jupyter.widget-view+json": {
       "model_id": "3b876f6c4d17463eba992426c8982781",
       "version_major": 2,
       "version_minor": 0
      },
      "text/plain": [
       "Retrieving NIH projects for 2023-11-18:   0%|          | 0/106 [00:00<?, ?it/s]"
      ]
     },
     "metadata": {},
     "output_type": "display_data"
    },
    {
     "data": {
      "application/vnd.jupyter.widget-view+json": {
       "model_id": "075f2f07fd88408aa18b3801119e5ca0",
       "version_major": 2,
       "version_minor": 0
      },
      "text/plain": [
       "Retrieving NIH projects for 2023-11-25:   0%|          | 0/65 [00:00<?, ?it/s]"
      ]
     },
     "metadata": {},
     "output_type": "display_data"
    },
    {
     "data": {
      "application/vnd.jupyter.widget-view+json": {
       "model_id": "28dd4cdabecf42b288ac300bded19462",
       "version_major": 2,
       "version_minor": 0
      },
      "text/plain": [
       "Retrieving NIH projects for 2023-12-02:   0%|          | 0/2187 [00:00<?, ?it/s]"
      ]
     },
     "metadata": {},
     "output_type": "display_data"
    },
    {
     "data": {
      "application/vnd.jupyter.widget-view+json": {
       "model_id": "295a138a01064216bbb3f3256c293cc1",
       "version_major": 2,
       "version_minor": 0
      },
      "text/plain": [
       "Retrieving NIH projects for 2023-12-09:   0%|          | 0/3465 [00:00<?, ?it/s]"
      ]
     },
     "metadata": {},
     "output_type": "display_data"
    },
    {
     "data": {
      "application/vnd.jupyter.widget-view+json": {
       "model_id": "6b54ea30793b4305ab2366858c180a3d",
       "version_major": 2,
       "version_minor": 0
      },
      "text/plain": [
       "Retrieving NIH projects for 2023-12-16:   0%|          | 0/425 [00:00<?, ?it/s]"
      ]
     },
     "metadata": {},
     "output_type": "display_data"
    },
    {
     "data": {
      "application/vnd.jupyter.widget-view+json": {
       "model_id": "fdf84ae896124940adf407ea28c6946e",
       "version_major": 2,
       "version_minor": 0
      },
      "text/plain": [
       "Retrieving NIH projects for 2023-12-23:   0%|          | 0/228 [00:00<?, ?it/s]"
      ]
     },
     "metadata": {},
     "output_type": "display_data"
    },
    {
     "data": {
      "application/vnd.jupyter.widget-view+json": {
       "model_id": "0f89012d569e4721907f3af1cd6fa419",
       "version_major": 2,
       "version_minor": 0
      },
      "text/plain": [
       "Retrieving NIH projects for 2023-12-30:   0%|          | 0/100 [00:00<?, ?it/s]"
      ]
     },
     "metadata": {},
     "output_type": "display_data"
    },
    {
     "data": {
      "application/vnd.jupyter.widget-view+json": {
       "model_id": "5790886139424073a86600b834f5dfdc",
       "version_major": 2,
       "version_minor": 0
      },
      "text/plain": [
       "Retrieving NIH projects for 2024-01-06:   0%|          | 0/2709 [00:00<?, ?it/s]"
      ]
     },
     "metadata": {},
     "output_type": "display_data"
    },
    {
     "data": {
      "application/vnd.jupyter.widget-view+json": {
       "model_id": "2c340fba09224564b5388b15ea89bab8",
       "version_major": 2,
       "version_minor": 0
      },
      "text/plain": [
       "Retrieving NIH projects for 2024-01-13:   0%|          | 0/384 [00:00<?, ?it/s]"
      ]
     },
     "metadata": {},
     "output_type": "display_data"
    },
    {
     "data": {
      "application/vnd.jupyter.widget-view+json": {
       "model_id": "9f51a984a07d4f53a0384a13b186d548",
       "version_major": 2,
       "version_minor": 0
      },
      "text/plain": [
       "Retrieving NIH projects for 2024-01-20:   0%|          | 0/347 [00:00<?, ?it/s]"
      ]
     },
     "metadata": {},
     "output_type": "display_data"
    },
    {
     "data": {
      "application/vnd.jupyter.widget-view+json": {
       "model_id": "63f0444fbcbf4ec3addd16db1f9bb184",
       "version_major": 2,
       "version_minor": 0
      },
      "text/plain": [
       "Retrieving NIH projects for 2024-01-27:   0%|          | 0/287 [00:00<?, ?it/s]"
      ]
     },
     "metadata": {},
     "output_type": "display_data"
    },
    {
     "data": {
      "application/vnd.jupyter.widget-view+json": {
       "model_id": "ad42cef39bc34d7995e52b77ec30a629",
       "version_major": 2,
       "version_minor": 0
      },
      "text/plain": [
       "Retrieving NIH projects for 2024-02-03:   0%|          | 0/3396 [00:00<?, ?it/s]"
      ]
     },
     "metadata": {},
     "output_type": "display_data"
    },
    {
     "data": {
      "application/vnd.jupyter.widget-view+json": {
       "model_id": "f7bee261213c45f8b8d54f3b8e811e1c",
       "version_major": 2,
       "version_minor": 0
      },
      "text/plain": [
       "Retrieving NIH projects for 2024-02-10:   0%|          | 0/536 [00:00<?, ?it/s]"
      ]
     },
     "metadata": {},
     "output_type": "display_data"
    },
    {
     "data": {
      "application/vnd.jupyter.widget-view+json": {
       "model_id": "e8c8bf9c905c415caf479a90a1309f3d",
       "version_major": 2,
       "version_minor": 0
      },
      "text/plain": [
       "Retrieving NIH projects for 2024-02-17:   0%|          | 0/484 [00:00<?, ?it/s]"
      ]
     },
     "metadata": {},
     "output_type": "display_data"
    },
    {
     "data": {
      "application/vnd.jupyter.widget-view+json": {
       "model_id": "9103af0487224baba094b1e7dd05a62a",
       "version_major": 2,
       "version_minor": 0
      },
      "text/plain": [
       "Retrieving NIH projects for 2024-02-24:   0%|          | 0/273 [00:00<?, ?it/s]"
      ]
     },
     "metadata": {},
     "output_type": "display_data"
    }
   ],
   "source": [
    "nih = NihApi()\n",
    "projects = nih.get_projects_added_in_date_range(\n",
    "    p['start_date'], p['end_date'], progress_bar=True, daily_progress_bar=True\n",
    ")"
   ]
  },
  {
   "cell_type": "code",
   "execution_count": 13,
   "metadata": {},
   "outputs": [],
   "source": [
    "projects_df = pd.json_normalize(projects, max_level=2)\n",
    "del projects"
   ]
  },
  {
   "cell_type": "markdown",
   "metadata": {},
   "source": [
    "#### Set types for columns"
   ]
  },
  {
   "cell_type": "code",
   "execution_count": 14,
   "metadata": {},
   "outputs": [],
   "source": [
    "date_columns = [\n",
    "    \"project_start_date\",\n",
    "    \"project_end_date\",\n",
    "    \"award_notice_date\",\n",
    "    \"budget_start\",\n",
    "    \"budget_end\",\n",
    "    \"date_added\",\n",
    "]\n",
    "\n",
    "for col in date_columns:\n",
    "    projects_df[col] = pd.to_datetime(projects_df[col])"
   ]
  },
  {
   "cell_type": "markdown",
   "metadata": {},
   "source": [
    "### Data Cleaning Functions"
   ]
  },
  {
   "cell_type": "code",
   "execution_count": 15,
   "metadata": {},
   "outputs": [],
   "source": [
    "def get_ror_id(code):\n",
    "    \"\"\"\n",
    "    Retrieves the ROR ID associated with the given NIH agency code.\n",
    "\n",
    "    Args:\n",
    "        code (str): The code to look up.\n",
    "\n",
    "    Returns:\n",
    "        str or None: The ROR ID if found, None otherwise.\n",
    "    \"\"\"\n",
    "    return lookup_agency[code][\"ror_id\"] if code in lookup_agency else None\n",
    "\n",
    "\n",
    "def build_location(row):\n",
    "    \"\"\"\n",
    "    Builds a location string based on the provided row data.\n",
    "\n",
    "    Args:\n",
    "        row (pandas.Series): The row containing organization information.\n",
    "\n",
    "    Returns:\n",
    "        str: The location string.\n",
    "    \"\"\"\n",
    "    location = \"\"\n",
    "    if pd.notnull(row[\"organization.org_city\"]):\n",
    "        location += f\"{row['organization.org_city']}, \"\n",
    "    elif pd.notnull(row[\"organization.city\"]):\n",
    "        location += f\"{row['organization.city']}, \"\n",
    "    if pd.notnull(row[\"organization.org_zipcode\"]):\n",
    "        # handle zip-5/zip-9 formats\n",
    "        if row[\"organization.org_zipcode\"].isnumeric():\n",
    "            if len(row[\"organization.org_zipcode\"]) == 5:\n",
    "                location += f\"{row['organization.org_zipcode']} ,\"\n",
    "            elif len(row[\"organization.org_zipcode\"]) == 9:\n",
    "                location += f\"{row['organization.org_zipcode'][:5]}-{row['organization.org_zipcode'][5:]}, \"\n",
    "        else:\n",
    "            location += f\"{row['organization.org_zipcode']}, \"\n",
    "    if pd.notnull(row[\"organization.org_country\"]):\n",
    "        location += row[\"organization.org_country\"]\n",
    "    elif pd.notnull(row[\"organization.country\"]):\n",
    "        location += row[\"organization.country\"]\n",
    "    return location\n",
    "\n",
    "\n",
    "def extract_format_pi_names(pi_list) -> str:\n",
    "    return \" | \".join(pi[\"full_name\"] for pi in pi_list)\n"
   ]
  },
  {
   "cell_type": "markdown",
   "metadata": {},
   "source": [
    "### Format data for export"
   ]
  },
  {
   "cell_type": "code",
   "execution_count": 16,
   "metadata": {},
   "outputs": [],
   "source": [
    "export_df = pd.DataFrame()"
   ]
  },
  {
   "cell_type": "code",
   "execution_count": 17,
   "metadata": {},
   "outputs": [],
   "source": [
    "export_df[\"grant_id\"] = \"nih::\" + projects_df[\"appl_id\"].astype(str)\n",
    "export_df[\"funder_name\"] = \"National Institutes of Health: \" + projects_df[\n",
    "    \"agency_ic_admin.name\"\n",
    "].astype(str)\n",
    "export_df[\"funder_ror_id\"] = projects_df[\"agency_ic_admin.code\"].apply(get_ror_id)\n",
    "export_df[\"recipient_org_name\"] = projects_df[\"organization.org_name\"]\n",
    "export_df[\"recipient_location\"] = projects_df.apply(build_location, axis=1)\n",
    "\n",
    "export_df[\"grant_year\"] = projects_df[\"budget_start\"].dt.year\n",
    "export_df[\"grant_duration\"] = (\n",
    "    projects_df[\"budget_end\"].dt.date - projects_df[\"budget_start\"].dt.date\n",
    ")\n",
    "export_df[\"grant_start_date\"] = projects_df[\"budget_start\"].dt.date\n",
    "export_df[\"grant_end_date\"] = projects_df[\"budget_end\"].dt.date\n",
    "\n",
    "export_df[\"award_amount\"] = projects_df[\"award_amount\"]\n",
    "export_df[\"award_currency\"] = \"USD\"\n",
    "export_df[\"award_amount_usd\"] = projects_df[\"award_amount\"]\n",
    "export_df[\"source\"] = \"NIH RePORTER API\"\n",
    "export_df[\"source_url\"] = \"https://api.reporter.nih.gov/?urls.primaryName=V2.0\"\n",
    "export_df[\"grant_title\"] = projects_df[\"project_title\"]\n",
    "export_df[\"grant_description\"] = (\n",
    "    \"PROJECT TITLE: \"\n",
    "    + projects_df[\"project_title\"]\n",
    "    + \"\\n\\n\\n PROJECT ABSTRACT:\\n\"\n",
    "    + projects_df[\"abstract_text\"]\n",
    "    + \"\\n\\n\\n\"\n",
    "    + \"PUBLIC HEALTH RELEVANCE STATEMENT: \\n\"\n",
    "    + projects_df[\"phr_text\"]\n",
    ")\n",
    "export_df[\"grant_category\"] = projects_df[\"funding_mechanism\"]\n",
    "\n",
    "## Notify the user if the record represents a subproject\n",
    "subproject_comment = \"Grant record is for a subproject. Value reflected here is value of the subproject only. Parent grant has cumulative value of funding of all subprojects. If summed, this value may be counted twice if using the overall dataset. Use the project_id in the NIH's raw_source_data if you would like to identify the parent project.\"\n",
    "\n",
    "export_df['comment'] = projects_df['subproject_id'].where(projects_df['subproject_id'].isna(), subproject_comment)\n",
    "\n",
    "export_df[\"_crawled_at\"] = projects_df[\"_record_crawled_at\"]\n",
    "export_df[\"raw_export_data\"] = projects_df.drop(\"_record_crawled_at\", axis=1).to_dict(\n",
    "    orient=\"records\"\n",
    ")"
   ]
  },
  {
   "cell_type": "code",
   "execution_count": null,
   "metadata": {},
   "outputs": [],
   "source": [
    "del(projects_df)\n",
    "export_df.to_json(OUTPUT_LOCATION, orient=\"records\", lines=True, date_format=\"iso\")"
   ]
  },
  {
   "cell_type": "code",
   "execution_count": null,
   "metadata": {},
   "outputs": [],
   "source": [
    "# Split the file so it will fit\n",
    "! split -C 95M --numeric-suffixes --additional-suffix .jsonl {OUTPUT_LOCATION} {OUTPUT_LOCATION.split('.jsonl')[0]}_part_\n",
    "\n",
    "# Remove the original file so oversize file doesn't get committed\n",
    "! rm {OUTPUT_LOCATION}"
   ]
  },
  {
   "cell_type": "code",
   "execution_count": null,
   "metadata": {},
   "outputs": [
    {
     "name": "stdout",
     "output_type": "stream",
     "text": [
      "data/nih.gov_grants_part_00.jsonl  data/nih.gov_grants_part_14.jsonl\n",
      "data/nih.gov_grants_part_01.jsonl  data/nih.gov_grants_part_15.jsonl\n",
      "data/nih.gov_grants_part_02.jsonl  data/nih.gov_grants_part_16.jsonl\n",
      "data/nih.gov_grants_part_03.jsonl  data/nih.gov_grants_part_17.jsonl\n",
      "data/nih.gov_grants_part_04.jsonl  data/nih.gov_grants_part_18.jsonl\n",
      "data/nih.gov_grants_part_05.jsonl  data/nih.gov_grants_part_19.jsonl\n",
      "data/nih.gov_grants_part_06.jsonl  data/nih.gov_grants_part_20.jsonl\n",
      "data/nih.gov_grants_part_07.jsonl  data/nih.gov_grants_part_21.jsonl\n",
      "data/nih.gov_grants_part_08.jsonl  data/nih.gov_grants_part_22.jsonl\n",
      "data/nih.gov_grants_part_09.jsonl  data/nih.gov_grants_part_23.jsonl\n",
      "data/nih.gov_grants_part_10.jsonl  data/nih.gov_grants_part_24.jsonl\n",
      "data/nih.gov_grants_part_11.jsonl  data/nih.gov_grants_part_25.jsonl\n",
      "data/nih.gov_grants_part_12.jsonl  data/nih.gov_grants_part_26.jsonl\n",
      "data/nih.gov_grants_part_13.jsonl\n"
     ]
    }
   ],
   "source": [
    "! ls {OUTPUT_LOCATION.split('.jsonl')[0]}*"
   ]
  },
  {
   "cell_type": "code",
   "execution_count": null,
   "metadata": {},
   "outputs": [],
   "source": []
  }
 ],
 "metadata": {
  "kernelspec": {
   "display_name": "oic-scrape-D2fotO-x-py3.11",
   "language": "python",
   "name": "python3"
  },
  "language_info": {
   "codemirror_mode": {
    "name": "ipython",
    "version": 3
   },
   "file_extension": ".py",
   "mimetype": "text/x-python",
   "name": "python",
   "nbconvert_exporter": "python",
   "pygments_lexer": "ipython3",
   "version": "3.11.7"
  }
 },
 "nbformat": 4,
 "nbformat_minor": 2
}
