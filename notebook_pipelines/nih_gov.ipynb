{
 "cells": [
  {
   "cell_type": "markdown",
   "metadata": {},
   "source": [
    "# National Institutes of Health\n",
    "\n",
    "Data from the National Institutes of Health via their [RePORTER](https://projectreporter.nih.gov/reporter.cfm) system.\n",
    "\n",
    "Data is obtained via their RePORTER [API](https://api.reporter.nih.gov/). This API can be updated on a weekly basis (Monday mornings around 10am EST) to retrieve the latest data. When weekly updates are applied following the initial data backfill, this can be extremely up-to-date.\n",
    "\n",
    "[Data Dictionary](https://api.reporter.nih.gov/documents/Data%20Elements%20for%20RePORTER%20Project%20API_V2.pdf)"
   ]
  },
  {
   "cell_type": "markdown",
   "metadata": {},
   "source": [
    "## Setup"
   ]
  },
  {
   "cell_type": "code",
   "execution_count": 49,
   "metadata": {},
   "outputs": [],
   "source": [
    "import pandas as pd\n",
    "import datetime\n",
    "from datetime import timedelta\n",
    "from typing import List, Dict, Any, Optional\n",
    "import requests\n",
    "import json\n",
    "import warnings\n",
    "from requests.adapters import HTTPAdapter\n",
    "from urllib3.util.retry import Retry\n",
    "from requests_cache import CachedSession\n",
    "\n",
    "#Test if we are in a notebook, load right tqdm\n",
    "try:\n",
    "    get_ipython() #type: ignore\n",
    "    from tqdm.notebook import tqdm\n",
    "except NameError:\n",
    "    from tqdm import tqdm"
   ]
  },
  {
   "cell_type": "markdown",
   "metadata": {},
   "source": [
    "### Parameters"
   ]
  },
  {
   "cell_type": "code",
   "execution_count": 50,
   "metadata": {
    "tags": [
     "parameters"
    ]
   },
   "outputs": [],
   "source": [
    "# minimum start date is 2011-01-01 when using date_added api field\n",
    "START_DATE = \"2013-01-01\"\n",
    "END_DATE = datetime.datetime.now().strftime(\"%Y-%m-%d\")\n",
    "OUTPUT_LOCATION = \"data/nih.gov_grants.jsonl\"\n",
    "\n",
    "## NEVER COMMIT WITH THIS SET TO TRUE\n",
    "USE_CACHE = \"True\""
   ]
  },
  {
   "cell_type": "markdown",
   "metadata": {},
   "source": [
    "#### Parameter Clean-Up"
   ]
  },
  {
   "cell_type": "code",
   "execution_count": 51,
   "metadata": {},
   "outputs": [],
   "source": [
    "p = {}\n",
    "# Validate and convert START_DATE\n",
    "try:\n",
    "    p['start_date'] = datetime.datetime.strptime(START_DATE, \"%Y-%m-%d\").date()\n",
    "except ValueError:\n",
    "    raise ValueError(\"Invalid START_DATE format. Please use the format 'YYYY-MM-DD'.\")\n",
    "if p['start_date'] < datetime.datetime(2009, 1, 1).date():\n",
    "    raise ValueError(\"START_DATE is too early. Please use a date after 2009-01-01.\")\n",
    "\n",
    "# Validate and convert END_DATE\n",
    "try:\n",
    "    p['end_date'] = datetime.datetime.strptime(END_DATE, \"%Y-%m-%d\").date()\n",
    "except ValueError:\n",
    "    raise ValueError(\"Invalid END_DATE format. Please use the format 'YYYY-MM-DD'.\")\n",
    "\n",
    "# Ensure END DATE > START_DATE\n",
    "if p['end_date'] <= p['start_date']:\n",
    "    raise ValueError(\"END_DATE must be greater than START_DATE.\")\n",
    "\n",
    "\n",
    "# Validate and convert USE_CACHE\n",
    "if USE_CACHE.lower() not in [\"true\", \"false\"]:\n",
    "    raise ValueError(\"Invalid USE_CACHE value. Please use 'True' or 'False'.\")\n",
    "p['use_cache'] = USE_CACHE.lower() == \"true\""
   ]
  },
  {
   "cell_type": "code",
   "execution_count": 52,
   "metadata": {},
   "outputs": [],
   "source": [
    "## HTTP Configuration\n",
    "\n",
    "# Cache for development use only\n",
    "if p['use_cache']:\n",
    "    session = CachedSession(\n",
    "        \"cache.sqlite\", backend=\"sqlite\", expire_after=timedelta(days=1)\n",
    "    )\n",
    "else:\n",
    "    session = requests.Session()\n",
    "retry = Retry(connect=5, backoff_factor=1.5)\n",
    "adapter = HTTPAdapter(max_retries=retry)\n",
    "session.mount(\"http://\", adapter)\n",
    "session.mount(\"https://\", adapter)"
   ]
  },
  {
   "cell_type": "markdown",
   "metadata": {},
   "source": [
    "### NIH API"
   ]
  },
  {
   "cell_type": "code",
   "execution_count": 53,
   "metadata": {},
   "outputs": [],
   "source": [
    "class NihApi:\n",
    "    API_URL: str = \"https://api.reporter.nih.gov/v2/projects/search\"\n",
    "    last_request_timestamp: Optional[datetime.datetime] = None\n",
    "    follow_rate_limit: bool = True\n",
    "\n",
    "    def __init__(self, follow_rate_limit: bool = True):\n",
    "        self.follow_rate_limit = follow_rate_limit\n",
    "\n",
    "    def projects_search(\n",
    "        self, payload: Dict[Any, Any], offset: Optional[int] = None, limit: Optional[int] = None\n",
    "    ) -> Dict[Any, Any]:\n",
    "        \"\"\"\n",
    "        Calls the NIH RePORTER API to get project data.\n",
    "\n",
    "        Args:\n",
    "            payload (Dict[Any, Any]): Allows for manual specification of the complete search payload.\n",
    "                Documentation at https://api.reporter.nih.gov/?urls.primaryName=V2.0\n",
    "            offset (int, optional): The offset for the API request. Defaults to None (0). Maximum is 14,999.\n",
    "            limit (int, optional): The maximum number of results to return. Min = 1, Max = 500\n",
    "                Defaults to 50 (when not specified), but is more efficient at 500.\n",
    "\n",
    "        Returns:\n",
    "            Dict[Any, Any]: The response from the API request.\n",
    "\n",
    "        Raises:\n",
    "            ValueError: If the API request fails or returns an error.\n",
    "        \"\"\"\n",
    "\n",
    "        # Check for overlaps between the payload dictionary and convenience parameters.\n",
    "        if offset is not None and \"offset\" in payload:\n",
    "            raise ValueError(\n",
    "                \"offset is set in both payload and as a convenience parameter\"\n",
    "            )\n",
    "        if limit is not None and \"limit\" in payload:\n",
    "            raise ValueError(\n",
    "                \"limit is set in both payload and as a convenience parameter\"\n",
    "            )\n",
    "\n",
    "        if offset:\n",
    "            payload[\"offset\"] = offset\n",
    "        if limit:\n",
    "            payload[\"limit\"] = limit\n",
    "\n",
    "        headers = {\"Content-Type\": \"application/json\"}\n",
    "\n",
    "        if self.follow_rate_limit and self.last_request_timestamp:\n",
    "            time_since_last_request = (\n",
    "                datetime.datetime.utcnow() - self.last_request_timestamp\n",
    "            )\n",
    "            while time_since_last_request < timedelta(seconds=1):\n",
    "                time_since_last_request = (\n",
    "                    datetime.datetime.utcnow() - self.last_request_timestamp\n",
    "                )\n",
    "                pass\n",
    "        response = session.post(self.API_URL, data=json.dumps(payload), headers=headers)\n",
    "        self.last_request_timestamp = datetime.datetime.utcnow()\n",
    "\n",
    "        if response.status_code != 200:\n",
    "            raise ValueError(\n",
    "                f\"API request failed with status code {response.status_code}. Error message: {response.text}\"\n",
    "            )\n",
    "\n",
    "        response_json = response.json()\n",
    "        if \"error\" in response_json:\n",
    "            raise ValueError(\n",
    "                f\"API request returned an error: {response_json['error']}.\"\n",
    "            )\n",
    "\n",
    "        return response_json\n",
    "\n",
    "    def get_projects_by_day(\n",
    "        self,\n",
    "        date: datetime.date,\n",
    "        datefield: str = \"date_added\",\n",
    "        add_timestamp_field: bool = False,\n",
    "        added_timestamp_field_name: str = \"_record_crawled_at\",\n",
    "        excessive_results_strategy=\"error\",\n",
    "        progress_bar: bool = False,\n",
    "    ) -> List[Dict[Any, Any]]:\n",
    "        \"\"\"\n",
    "        Retrieves projects added on a specific day.\n",
    "\n",
    "        Args:\n",
    "            date (datetime.date): The date to retrieve projects for.\n",
    "            datefield (str, optional): The date field to search on. Defaults to \"date_added\".\n",
    "            add_timestamp_field (bool): When true, will add a field to each record with the timestamp of the crawl. Field is named with `added_timestamp_field_name`\n",
    "            added_timestamp_field_name (str):  When add_timestamp_field == True, this is the name of the new field added to each project\n",
    "            excessive_results_strategy (str, optional): The strategy to use when the number of results exceeds the maximum. Defaults to 'error'. Options are 'error', 'warn', and 'ignore'. 'warn' and 'ignore' will retrieve up to 15000 results but will not be able to retrieve results beyond that limit.\n",
    "            progress_bar (bool, optional): Whether to display a progress bar. Defaults to False.\n",
    "\n",
    "        Returns:\n",
    "            List[Dict[Any, Any]]: The list of projects added on the specified day.\n",
    "        \"\"\"\n",
    "\n",
    "        projects = []\n",
    "        result_page_length = 500\n",
    "        max_results = 14999  # NIH RePORTER API constraint\n",
    "        sort_order = \"asc\"\n",
    "\n",
    "        payload = {\n",
    "            \"criteria\": {\n",
    "                datefield: {\n",
    "                    \"from_date\": date.strftime(\"%Y-%m-%d\"),\n",
    "                    \"to_date\": (date + timedelta(days=1)).strftime(\"%Y-%m-%d\"),\n",
    "                }\n",
    "            },\n",
    "            \"sort_field\": datefield,\n",
    "            \"sort_order\": sort_order,\n",
    "        }\n",
    "\n",
    "        # Get the metadata for the day's results\n",
    "        # Used for determining excessive results and optional tqdm progress bar\n",
    "        info_response = self.projects_search(payload, limit=1)\n",
    "        total_results = info_response[\"meta\"][\"total\"]\n",
    "\n",
    "        if total_results > max_results:\n",
    "            if excessive_results_strategy == \"error\":\n",
    "                raise ValueError(\n",
    "                    f\"Number of results ({total_results}) exceeds the maximum ({max_results}) on {date}.\"\n",
    "                )\n",
    "            elif excessive_results_strategy == \"warn\":\n",
    "                warnings.warn(\n",
    "                    f\"Number of results ({total_results}) exceeds the maximum ({max_results}) on {date}.\"\n",
    "                )\n",
    "            elif excessive_results_strategy == \"ignore\":\n",
    "                pass\n",
    "            else:\n",
    "                raise ValueError(\n",
    "                    f\"Invalid excessive_results_strategy value: {excessive_results_strategy}.\"\n",
    "                )\n",
    "\n",
    "        if total_results > 0:\n",
    "            if progress_bar:\n",
    "                pbar = tqdm(\n",
    "                    total=total_results, desc=f\"Retrieving NIH projects for {date}\"\n",
    "                )\n",
    "\n",
    "            offset = 0\n",
    "            while len(projects) < total_results:\n",
    "                payload[\"offset\"] = offset\n",
    "                payload[\"limit\"] = result_page_length\n",
    "                response = self.projects_search(payload=payload)\n",
    "                response_ts = datetime.datetime.utcnow()\n",
    "                response_projects = response[\"results\"]\n",
    "\n",
    "                if add_timestamp_field:\n",
    "                    # use list comprehension\n",
    "                    response_projects = [\n",
    "                        {**project, added_timestamp_field_name: response_ts}\n",
    "                        for project in response_projects\n",
    "                    ]\n",
    "\n",
    "                n_results = len(response_projects)\n",
    "                projects.extend(response_projects)\n",
    "                offset += n_results\n",
    "                if progress_bar:\n",
    "                    pbar.update(n_results)\n",
    "\n",
    "            if progress_bar:\n",
    "                pbar.close()\n",
    "\n",
    "        if len(projects) != total_results:\n",
    "            raise ValueError(\n",
    "                f\"Number of projects retrieved ({len(projects)}) does not match the total number of projects ({total_results}) for {date}.\"\n",
    "            )\n",
    "\n",
    "        return projects\n",
    "\n",
    "    def count_projects_added_in_date_range(\n",
    "        self, start_date: datetime.date, end_date: datetime.date\n",
    "    ) -> int:\n",
    "        \"\"\"\n",
    "        Counts the number of projects added in a date range.\n",
    "\n",
    "        Args:\n",
    "            start_date (datetime.date): The date to start counting projects for.\n",
    "            end_date (datetime.date): The date to stop counting projects for.\n",
    "\n",
    "        Returns:\n",
    "            int: The number of projects added in the specified date range.\n",
    "        \"\"\"\n",
    "\n",
    "        payload = {\n",
    "            \"criteria\": {\n",
    "                \"date_added\": {\n",
    "                    \"from_date\": start_date.strftime(\"%Y-%m-%d\"),\n",
    "                    \"to_date\": end_date.strftime(\"%Y-%m-%d\"),\n",
    "                }\n",
    "            },\n",
    "            \"sort_field\": \"date_added\",\n",
    "            \"sort_order\": \"asc\",\n",
    "        }\n",
    "\n",
    "        response = self.projects_search(payload, limit=1)\n",
    "        return response[\"meta\"][\"total\"]\n",
    "\n",
    "    def get_projects_added_in_date_range(\n",
    "        self,\n",
    "        start_date: datetime.date,\n",
    "        end_date: datetime.date,\n",
    "        progress_bar=False,\n",
    "        daily_progress_bar=False,\n",
    "    ) -> List[Dict[Any, Any]]:\n",
    "        \"\"\"\n",
    "        Retrieves projects added on a specific day.\n",
    "\n",
    "        Args:\n",
    "            start_date (datetime.date): The date to start retrieving projects for.\n",
    "            end_date (datetime.date): The date to stop retrieving projects for.\n",
    "            progress_bar (bool, optional): Whether to display a progress bar. Defaults to False.\n",
    "\n",
    "        Returns:\n",
    "            List[Dict[Any, Any]]: The list of projects added on the specified day.\n",
    "        \"\"\"\n",
    "\n",
    "        projects: List[Dict[Any, Any]] = []\n",
    "        total_projects = self.count_projects_added_in_date_range(start_date, end_date)\n",
    "        if progress_bar:\n",
    "            pbar = tqdm(\n",
    "                total=total_projects,\n",
    "                desc=f\"Retrieving Projects for {start_date} to {end_date}\",\n",
    "            )\n",
    "        date_spine = [\n",
    "            start_date + timedelta(days=x) for x in range((end_date - start_date).days)\n",
    "        ]\n",
    "        for date in date_spine:\n",
    "            projects_on_date = self.get_projects_by_day(\n",
    "                date,\n",
    "                add_timestamp_field=True,\n",
    "                progress_bar=daily_progress_bar,\n",
    "                excessive_results_strategy=\"warn\",\n",
    "            )\n",
    "            projects.extend(projects_on_date)\n",
    "            if progress_bar:\n",
    "                pbar.update(len(projects_on_date))\n",
    "        if progress_bar:\n",
    "            pbar.close()\n",
    "\n",
    "        if len(projects) != total_projects:\n",
    "            raise ValueError(\n",
    "                f\"Number of projects retrieved ({len(projects)}) does not match the total number of projects ({total_projects}) for the date range {start_date} to {end_date}.\"\n",
    "            )\n",
    "        return projects"
   ]
  },
  {
   "cell_type": "markdown",
   "metadata": {},
   "source": [
    "### Additional NIH Data\n",
    "We need to get the data for the NIH's agencies IDs to correspond to their ROR ID's"
   ]
  },
  {
   "cell_type": "code",
   "execution_count": 54,
   "metadata": {},
   "outputs": [],
   "source": [
    "FUNDER_NAME = \"National Institutes of Health\"\n",
    "FUNDER_ROR_ID = \"https://ror.org/01cwqze88\"\n",
    "NIH_IC_AGENCY = [\n",
    "    {\n",
    "        \"acronym\": \"CC\",\n",
    "        \"full_name\": \"Clinical Center\",\n",
    "        \"org_code\": \"CC\",\n",
    "        \"payload_criteria_value\": \"CLC\",\n",
    "        \"ror_id\": \"https://ror.org/04vfsmv21\",\n",
    "    },\n",
    "    {\n",
    "        \"acronym\": \"CSR\",\n",
    "        \"full_name\": \"Center for Scientific Review\",\n",
    "        \"org_code\": \"RG\",\n",
    "        \"payload_criteria_value\": \"CSR\",\n",
    "        \"ror_id\": \"https://ror.org/04r5s4b52\",\n",
    "    },\n",
    "    {\n",
    "        \"acronym\": \"CIT\",\n",
    "        \"full_name\": \"Center for Information Technology\",\n",
    "        \"org_code\": \"CIT\",\n",
    "        \"payload_criteria_value\": \"CIT\",\n",
    "        \"ror_id\": \"https://ror.org/03jh5a977\",\n",
    "    },\n",
    "    {\n",
    "        \"acronym\": \"FIC\",\n",
    "        \"full_name\": \"John E. Fogarty International Center\",\n",
    "        \"org_code\": \"TW\",\n",
    "        \"payload_criteria_value\": \"FIC\",\n",
    "        \"ror_id\": \"https://ror.org/02xey9a22\",\n",
    "    },\n",
    "    {\n",
    "        \"acronym\": \"NCATS\",\n",
    "        \"full_name\": \"National Center for Advancing Translational Sciences (NCATS)\",\n",
    "        \"org_code\": \"TR\",\n",
    "        \"payload_criteria_value\": \"NCATS\",\n",
    "        \"ror_id\": \"https://ror.org/04pw6fb54\",\n",
    "    },\n",
    "    {\n",
    "        \"acronym\": \"NCCIH\",\n",
    "        \"full_name\": \"National Center for Complementary and Integrative Health\",\n",
    "        \"org_code\": \"AT\",\n",
    "        \"payload_criteria_value\": \"NCCIH\",\n",
    "        \"ror_id\": \"https://ror.org/00190t495\",\n",
    "    },\n",
    "    {\n",
    "        \"acronym\": \"NCI\",\n",
    "        \"full_name\": \"National Cancer Institute\",\n",
    "        \"org_code\": \"CA\",\n",
    "        \"payload_criteria_value\": \"NCI\",\n",
    "        \"ror_id\": \"https://ror.org/040gcmg81\",\n",
    "    },\n",
    "    {\n",
    "        \"acronym\": \"NCRR\",\n",
    "        \"full_name\": \"National Center for Research Resources (dissolved 12/2011)\",\n",
    "        \"org_code\": \"RR\",\n",
    "        \"payload_criteria_value\": \"NCRR\",\n",
    "        \"ror_id\": \"https://ror.org/01cwqze88\",\n",
    "    },\n",
    "    {\n",
    "        \"acronym\": \"NEI\",\n",
    "        \"full_name\": \"National Eye Institute\",\n",
    "        \"org_code\": \"EY\",\n",
    "        \"payload_criteria_value\": \"NEI\",\n",
    "        \"ror_id\": \"https://ror.org/03wkg3b53\",\n",
    "    },\n",
    "    {\n",
    "        \"acronym\": \"NHGRI\",\n",
    "        \"full_name\": \"National Human Genome Research Institute\",\n",
    "        \"org_code\": \"HG\",\n",
    "        \"payload_criteria_value\": \"NHGRI\",\n",
    "        \"ror_id\": \"https://ror.org/00baak391\",\n",
    "    },\n",
    "    {\n",
    "        \"acronym\": \"NHLBI\",\n",
    "        \"full_name\": \"National Heart, Lung, and Blood Institute\",\n",
    "        \"org_code\": \"HL\",\n",
    "        \"payload_criteria_value\": \"NHLBI\",\n",
    "        \"ror_id\": \"https://ror.org/012pb6c26\",\n",
    "    },\n",
    "    {\n",
    "        \"acronym\": \"NIA\",\n",
    "        \"full_name\": \"National Institute on Aging\",\n",
    "        \"org_code\": \"AG\",\n",
    "        \"payload_criteria_value\": \"NIA\",\n",
    "        \"ror_id\": \"https://ror.org/049v75w11\",\n",
    "    },\n",
    "    {\n",
    "        \"acronym\": \"NIAAA\",\n",
    "        \"full_name\": \"National Institute on Alcohol Abuse and Alcoholism\",\n",
    "        \"org_code\": \"AA\",\n",
    "        \"payload_criteria_value\": \"NIAAA\",\n",
    "        \"ror_id\": \"https://ror.org/02jzrsm59\",\n",
    "    },\n",
    "    {\n",
    "        \"acronym\": \"NIAID\",\n",
    "        \"full_name\": \"National Institute of Allergy and Infectious Diseases\",\n",
    "        \"org_code\": \"AI\",\n",
    "        \"payload_criteria_value\": \"NIAID\",\n",
    "        \"ror_id\": \"https://ror.org/043z4tv69\",\n",
    "    },\n",
    "    {\n",
    "        \"acronym\": \"NIAMS\",\n",
    "        \"full_name\": \"National Institute of Arthritis and Musculoskeletal and Skin Diseases\",\n",
    "        \"org_code\": \"AR\",\n",
    "        \"payload_criteria_value\": \"NIAMS\",\n",
    "        \"ror_id\": \"https://ror.org/006zn3t30\",\n",
    "    },\n",
    "    {\n",
    "        \"acronym\": \"NIBIB\",\n",
    "        \"full_name\": \"National Institute of Biomedical Imaging and Bioengineering\",\n",
    "        \"org_code\": \"EB\",\n",
    "        \"payload_criteria_value\": \"NIBIB\",\n",
    "        \"ror_id\": \"https://ror.org/00372qc85\",\n",
    "    },\n",
    "    {\n",
    "        \"acronym\": \"NICHD\",\n",
    "        \"full_name\": \"Eunice Kennedy Shriver National Institute of Child Health and Human Development\",\n",
    "        \"org_code\": \"HD\",\n",
    "        \"payload_criteria_value\": \"NICHD\",\n",
    "        \"ror_id\": \"https://ror.org/04byxyr05\",\n",
    "    },\n",
    "    {\n",
    "        \"acronym\": \"NIDA\",\n",
    "        \"full_name\": \"National Institute on Drug Abuse\",\n",
    "        \"org_code\": \"DA\",\n",
    "        \"payload_criteria_value\": \"NIDA\",\n",
    "        \"ror_id\": \"https://ror.org/00fq5cm18\",\n",
    "    },\n",
    "    {\n",
    "        \"acronym\": \"NIDCD\",\n",
    "        \"full_name\": \"National Institute on Deafness and Other Communication Disorders\",\n",
    "        \"org_code\": \"DC\",\n",
    "        \"payload_criteria_value\": \"NIDCD\",\n",
    "        \"ror_id\": \"https://ror.org/04mhx6838\",\n",
    "    },\n",
    "    {\n",
    "        \"acronym\": \"NIDCR\",\n",
    "        \"full_name\": \"National Institute of Dental and Craniofacial Research\",\n",
    "        \"org_code\": \"DE\",\n",
    "        \"payload_criteria_value\": \"NIDCR\",\n",
    "        \"ror_id\": \"https://ror.org/004a2wv92\",\n",
    "    },\n",
    "    {\n",
    "        \"acronym\": \"NIDDK\",\n",
    "        \"full_name\": \"National Institute of Diabetes and Digestive and Kidney Diseases\",\n",
    "        \"org_code\": \"DK\",\n",
    "        \"payload_criteria_value\": \"NIDDK\",\n",
    "        \"ror_id\": \"https://ror.org/00adh9b73\",\n",
    "    },\n",
    "    {\n",
    "        \"acronym\": \"NIEHS\",\n",
    "        \"full_name\": \"National Institute of Environmental Health Sciences\",\n",
    "        \"org_code\": \"ES\",\n",
    "        \"payload_criteria_value\": \"NIEHS\",\n",
    "        \"ror_id\": \"https://ror.org/00j4k1h63\",\n",
    "    },\n",
    "    {\n",
    "        \"acronym\": \"NIGMS\",\n",
    "        \"full_name\": \"National Institute of General Medical Sciences\",\n",
    "        \"org_code\": \"GM\",\n",
    "        \"payload_criteria_value\": \"NIGMS\",\n",
    "        \"ror_id\": \"https://ror.org/04q48ey07\",\n",
    "    },\n",
    "    {\n",
    "        \"acronym\": \"NIMH\",\n",
    "        \"full_name\": \"National Institute of Mental Health\",\n",
    "        \"org_code\": \"MH\",\n",
    "        \"payload_criteria_value\": \"NIMH\",\n",
    "        \"ror_id\": \"https://ror.org/04xeg9z08\",\n",
    "    },\n",
    "    {\n",
    "        \"acronym\": \"NIMHD\",\n",
    "        \"full_name\": \"National Institute on Minority Health and Health Disparities\",\n",
    "        \"org_code\": \"MD\",\n",
    "        \"payload_criteria_value\": \"NIMHD\",\n",
    "        \"ror_id\": \"https://ror.org/0493hgw16\",\n",
    "    },\n",
    "    {\n",
    "        \"acronym\": \"NINDS\",\n",
    "        \"full_name\": \"National Institute of Neurological Disorders and Stroke\",\n",
    "        \"org_code\": \"NS\",\n",
    "        \"payload_criteria_value\": \"NINDS\",\n",
    "        \"ror_id\": \"https://ror.org/01s5ya894\",\n",
    "    },\n",
    "    {\n",
    "        \"acronym\": \"NINR\",\n",
    "        \"full_name\": \"National Institute of Nursing Research\",\n",
    "        \"org_code\": \"NR\",\n",
    "        \"payload_criteria_value\": \"NINR\",\n",
    "        \"ror_id\": \"https://ror.org/01y3zfr79\",\n",
    "    },\n",
    "    {\n",
    "        \"acronym\": \"NLM\",\n",
    "        \"full_name\": \"National Library of Medicine\",\n",
    "        \"org_code\": \"LM\",\n",
    "        \"payload_criteria_value\": \"NLM\",\n",
    "        \"ror_id\": \"https://ror.org/0060t0j89\",\n",
    "    },\n",
    "    {\n",
    "        \"acronym\": \"OD\",\n",
    "        \"full_name\": \"Office of the Director\",\n",
    "        \"org_code\": \"OD\",\n",
    "        \"payload_criteria_value\": \"OD\",\n",
    "        \"ror_id\": \"https://ror.org/00fj8a872\",\n",
    "    },\n",
    "]\n",
    "\n",
    "lookup_agency = {agency[\"org_code\"]: agency for agency in NIH_IC_AGENCY}"
   ]
  },
  {
   "cell_type": "markdown",
   "metadata": {},
   "source": [
    "## Get and Clean Data"
   ]
  },
  {
   "cell_type": "code",
   "execution_count": 55,
   "metadata": {},
   "outputs": [
    {
     "data": {
      "application/vnd.jupyter.widget-view+json": {
       "model_id": "6d9ca11a13b14b609cdfea613a20da0c",
       "version_major": 2,
       "version_minor": 0
      },
      "text/plain": [
       "Retrieving Projects for 2013-01-01 to 2024-02-27:   0%|          | 0/908860 [00:00<?, ?it/s]"
      ]
     },
     "metadata": {},
     "output_type": "display_data"
    },
    {
     "data": {
      "application/vnd.jupyter.widget-view+json": {
       "model_id": "f375ae725870412c8b9d5f277bd1b9a1",
       "version_major": 2,
       "version_minor": 0
      },
      "text/plain": [
       "Retrieving NIH projects for 2013-01-06:   0%|          | 0/2610 [00:00<?, ?it/s]"
      ]
     },
     "metadata": {},
     "output_type": "display_data"
    },
    {
     "data": {
      "application/vnd.jupyter.widget-view+json": {
       "model_id": "cd11cec0f6004ef3881c6244556c4c53",
       "version_major": 2,
       "version_minor": 0
      },
      "text/plain": [
       "Retrieving NIH projects for 2013-01-13:   0%|          | 0/268 [00:00<?, ?it/s]"
      ]
     },
     "metadata": {},
     "output_type": "display_data"
    },
    {
     "data": {
      "application/vnd.jupyter.widget-view+json": {
       "model_id": "d08b50047ca945c2aebbc3f3ff46e5b7",
       "version_major": 2,
       "version_minor": 0
      },
      "text/plain": [
       "Retrieving NIH projects for 2013-01-19:   0%|          | 0/361 [00:00<?, ?it/s]"
      ]
     },
     "metadata": {},
     "output_type": "display_data"
    },
    {
     "data": {
      "application/vnd.jupyter.widget-view+json": {
       "model_id": "06f046a573144458a3e38e3683d1849f",
       "version_major": 2,
       "version_minor": 0
      },
      "text/plain": [
       "Retrieving NIH projects for 2013-01-26:   0%|          | 0/177 [00:00<?, ?it/s]"
      ]
     },
     "metadata": {},
     "output_type": "display_data"
    },
    {
     "data": {
      "application/vnd.jupyter.widget-view+json": {
       "model_id": "ea145820b8574be79cc06ff869455fe3",
       "version_major": 2,
       "version_minor": 0
      },
      "text/plain": [
       "Retrieving NIH projects for 2013-02-02:   0%|          | 0/2834 [00:00<?, ?it/s]"
      ]
     },
     "metadata": {},
     "output_type": "display_data"
    },
    {
     "data": {
      "application/vnd.jupyter.widget-view+json": {
       "model_id": "f600237d4c9b4faaa5afde932bc9f715",
       "version_major": 2,
       "version_minor": 0
      },
      "text/plain": [
       "Retrieving NIH projects for 2013-02-10:   0%|          | 0/358 [00:00<?, ?it/s]"
      ]
     },
     "metadata": {},
     "output_type": "display_data"
    },
    {
     "data": {
      "application/vnd.jupyter.widget-view+json": {
       "model_id": "c7b08e664b094597ba3274ccaeffa6b9",
       "version_major": 2,
       "version_minor": 0
      },
      "text/plain": [
       "Retrieving NIH projects for 2013-02-17:   0%|          | 0/358 [00:00<?, ?it/s]"
      ]
     },
     "metadata": {},
     "output_type": "display_data"
    },
    {
     "data": {
      "application/vnd.jupyter.widget-view+json": {
       "model_id": "ed674dedb8c54d16ab9b1c1a70325755",
       "version_major": 2,
       "version_minor": 0
      },
      "text/plain": [
       "Retrieving NIH projects for 2013-02-24:   0%|          | 0/136 [00:00<?, ?it/s]"
      ]
     },
     "metadata": {},
     "output_type": "display_data"
    },
    {
     "data": {
      "application/vnd.jupyter.widget-view+json": {
       "model_id": "b1a92cac0d0f4cb8b3bf981b2a315ec0",
       "version_major": 2,
       "version_minor": 0
      },
      "text/plain": [
       "Retrieving NIH projects for 2013-03-03:   0%|          | 0/3094 [00:00<?, ?it/s]"
      ]
     },
     "metadata": {},
     "output_type": "display_data"
    },
    {
     "data": {
      "application/vnd.jupyter.widget-view+json": {
       "model_id": "a3ce3ab7f32d40c087dbe84b2c8738ad",
       "version_major": 2,
       "version_minor": 0
      },
      "text/plain": [
       "Retrieving NIH projects for 2013-03-10:   0%|          | 0/380 [00:00<?, ?it/s]"
      ]
     },
     "metadata": {},
     "output_type": "display_data"
    },
    {
     "data": {
      "application/vnd.jupyter.widget-view+json": {
       "model_id": "da48aaf357f845789a8fee5d5e511db6",
       "version_major": 2,
       "version_minor": 0
      },
      "text/plain": [
       "Retrieving NIH projects for 2013-03-17:   0%|          | 0/322 [00:00<?, ?it/s]"
      ]
     },
     "metadata": {},
     "output_type": "display_data"
    },
    {
     "data": {
      "application/vnd.jupyter.widget-view+json": {
       "model_id": "50543d51c1de4165ba51c5fdff1c815c",
       "version_major": 2,
       "version_minor": 0
      },
      "text/plain": [
       "Retrieving NIH projects for 2013-03-24:   0%|          | 0/209 [00:00<?, ?it/s]"
      ]
     },
     "metadata": {},
     "output_type": "display_data"
    },
    {
     "data": {
      "application/vnd.jupyter.widget-view+json": {
       "model_id": "5b1b745d7db548e89870776d4d280ab4",
       "version_major": 2,
       "version_minor": 0
      },
      "text/plain": [
       "Retrieving NIH projects for 2013-03-31:   0%|          | 0/279 [00:00<?, ?it/s]"
      ]
     },
     "metadata": {},
     "output_type": "display_data"
    },
    {
     "data": {
      "application/vnd.jupyter.widget-view+json": {
       "model_id": "8b67a892188c48e2bb27bdedfb64a308",
       "version_major": 2,
       "version_minor": 0
      },
      "text/plain": [
       "Retrieving NIH projects for 2013-04-07:   0%|          | 0/4549 [00:00<?, ?it/s]"
      ]
     },
     "metadata": {},
     "output_type": "display_data"
    },
    {
     "data": {
      "application/vnd.jupyter.widget-view+json": {
       "model_id": "ccf655ac73224630a04151cb5947f48e",
       "version_major": 2,
       "version_minor": 0
      },
      "text/plain": [
       "Retrieving NIH projects for 2013-04-14:   0%|          | 0/677 [00:00<?, ?it/s]"
      ]
     },
     "metadata": {},
     "output_type": "display_data"
    },
    {
     "data": {
      "application/vnd.jupyter.widget-view+json": {
       "model_id": "5cf7c75bd6dd4c2b82234607b0fd0d44",
       "version_major": 2,
       "version_minor": 0
      },
      "text/plain": [
       "Retrieving NIH projects for 2013-04-21:   0%|          | 0/495 [00:00<?, ?it/s]"
      ]
     },
     "metadata": {},
     "output_type": "display_data"
    },
    {
     "data": {
      "application/vnd.jupyter.widget-view+json": {
       "model_id": "35de7687a3244dc5ad554a9f0ef5a3e7",
       "version_major": 2,
       "version_minor": 0
      },
      "text/plain": [
       "Retrieving NIH projects for 2013-04-28:   0%|          | 0/305 [00:00<?, ?it/s]"
      ]
     },
     "metadata": {},
     "output_type": "display_data"
    },
    {
     "data": {
      "application/vnd.jupyter.widget-view+json": {
       "model_id": "3afeab606c5d42c298141dd1323b8ec5",
       "version_major": 2,
       "version_minor": 0
      },
      "text/plain": [
       "Retrieving NIH projects for 2013-05-05:   0%|          | 0/3136 [00:00<?, ?it/s]"
      ]
     },
     "metadata": {},
     "output_type": "display_data"
    },
    {
     "data": {
      "application/vnd.jupyter.widget-view+json": {
       "model_id": "709119df16c246ffa1fdaca8c64d7bd6",
       "version_major": 2,
       "version_minor": 0
      },
      "text/plain": [
       "Retrieving NIH projects for 2013-05-12:   0%|          | 0/807 [00:00<?, ?it/s]"
      ]
     },
     "metadata": {},
     "output_type": "display_data"
    },
    {
     "data": {
      "application/vnd.jupyter.widget-view+json": {
       "model_id": "42e0240b161e4a0092a248d4427d2b75",
       "version_major": 2,
       "version_minor": 0
      },
      "text/plain": [
       "Retrieving NIH projects for 2013-05-19:   0%|          | 0/1189 [00:00<?, ?it/s]"
      ]
     },
     "metadata": {},
     "output_type": "display_data"
    },
    {
     "data": {
      "application/vnd.jupyter.widget-view+json": {
       "model_id": "df89a7218e01410b9c23062a2c2a9ed8",
       "version_major": 2,
       "version_minor": 0
      },
      "text/plain": [
       "Retrieving NIH projects for 2013-05-26:   0%|          | 0/543 [00:00<?, ?it/s]"
      ]
     },
     "metadata": {},
     "output_type": "display_data"
    },
    {
     "data": {
      "application/vnd.jupyter.widget-view+json": {
       "model_id": "deff54b22eb74a83a6feebff502cd3f4",
       "version_major": 2,
       "version_minor": 0
      },
      "text/plain": [
       "Retrieving NIH projects for 2013-06-02:   0%|          | 0/3291 [00:00<?, ?it/s]"
      ]
     },
     "metadata": {},
     "output_type": "display_data"
    },
    {
     "data": {
      "application/vnd.jupyter.widget-view+json": {
       "model_id": "9e1fe5089db24805b96079486bdb2a9a",
       "version_major": 2,
       "version_minor": 0
      },
      "text/plain": [
       "Retrieving NIH projects for 2013-06-09:   0%|          | 0/490 [00:00<?, ?it/s]"
      ]
     },
     "metadata": {},
     "output_type": "display_data"
    },
    {
     "data": {
      "application/vnd.jupyter.widget-view+json": {
       "model_id": "691f1d135df542f1b4b5823384a011bb",
       "version_major": 2,
       "version_minor": 0
      },
      "text/plain": [
       "Retrieving NIH projects for 2013-06-16:   0%|          | 0/1336 [00:00<?, ?it/s]"
      ]
     },
     "metadata": {},
     "output_type": "display_data"
    },
    {
     "data": {
      "application/vnd.jupyter.widget-view+json": {
       "model_id": "debc64cead5d494b87ade43471341249",
       "version_major": 2,
       "version_minor": 0
      },
      "text/plain": [
       "Retrieving NIH projects for 2013-06-23:   0%|          | 0/666 [00:00<?, ?it/s]"
      ]
     },
     "metadata": {},
     "output_type": "display_data"
    },
    {
     "data": {
      "application/vnd.jupyter.widget-view+json": {
       "model_id": "15bc138419e343f4917061b824bc38cc",
       "version_major": 2,
       "version_minor": 0
      },
      "text/plain": [
       "Retrieving NIH projects for 2013-06-30:   0%|          | 0/296 [00:00<?, ?it/s]"
      ]
     },
     "metadata": {},
     "output_type": "display_data"
    },
    {
     "data": {
      "application/vnd.jupyter.widget-view+json": {
       "model_id": "f6d06a7f8ec04406809fdb3995daaeb0",
       "version_major": 2,
       "version_minor": 0
      },
      "text/plain": [
       "Retrieving NIH projects for 2013-07-07:   0%|          | 0/8128 [00:00<?, ?it/s]"
      ]
     },
     "metadata": {},
     "output_type": "display_data"
    },
    {
     "data": {
      "application/vnd.jupyter.widget-view+json": {
       "model_id": "ebbc7c65183b4d34b9c0c814d5c5c478",
       "version_major": 2,
       "version_minor": 0
      },
      "text/plain": [
       "Retrieving NIH projects for 2013-07-14:   0%|          | 0/1608 [00:00<?, ?it/s]"
      ]
     },
     "metadata": {},
     "output_type": "display_data"
    },
    {
     "data": {
      "application/vnd.jupyter.widget-view+json": {
       "model_id": "2762f7843ac0403d8a73c0e21646ea3f",
       "version_major": 2,
       "version_minor": 0
      },
      "text/plain": [
       "Retrieving NIH projects for 2013-07-21:   0%|          | 0/1234 [00:00<?, ?it/s]"
      ]
     },
     "metadata": {},
     "output_type": "display_data"
    },
    {
     "data": {
      "application/vnd.jupyter.widget-view+json": {
       "model_id": "4dd6d701719849449d4fa18da9ee2f76",
       "version_major": 2,
       "version_minor": 0
      },
      "text/plain": [
       "Retrieving NIH projects for 2013-07-28:   0%|          | 0/668 [00:00<?, ?it/s]"
      ]
     },
     "metadata": {},
     "output_type": "display_data"
    },
    {
     "data": {
      "application/vnd.jupyter.widget-view+json": {
       "model_id": "111c2a8b0f804373bf9d9b79e39cbe58",
       "version_major": 2,
       "version_minor": 0
      },
      "text/plain": [
       "Retrieving NIH projects for 2013-08-04:   0%|          | 0/6013 [00:00<?, ?it/s]"
      ]
     },
     "metadata": {},
     "output_type": "display_data"
    },
    {
     "data": {
      "application/vnd.jupyter.widget-view+json": {
       "model_id": "6b66c9969c9f4f21b43420c49969694c",
       "version_major": 2,
       "version_minor": 0
      },
      "text/plain": [
       "Retrieving NIH projects for 2013-08-11:   0%|          | 0/426 [00:00<?, ?it/s]"
      ]
     },
     "metadata": {},
     "output_type": "display_data"
    },
    {
     "data": {
      "application/vnd.jupyter.widget-view+json": {
       "model_id": "2157d6277cfd48fca6b230fcf50c3420",
       "version_major": 2,
       "version_minor": 0
      },
      "text/plain": [
       "Retrieving NIH projects for 2013-08-15:   0%|          | 0/11946 [00:00<?, ?it/s]"
      ]
     },
     "metadata": {},
     "output_type": "display_data"
    }
   ],
   "source": [
    "nih = NihApi()\n",
    "projects = nih.get_projects_added_in_date_range(\n",
    "    p['start_date'], p['end_date'], progress_bar=True, daily_progress_bar=True\n",
    ")"
   ]
  },
  {
   "cell_type": "code",
   "execution_count": null,
   "metadata": {},
   "outputs": [],
   "source": [
    "projects_df = pd.json_normalize(projects, max_level=2)\n",
    "del projects"
   ]
  },
  {
   "cell_type": "markdown",
   "metadata": {},
   "source": [
    "#### Set types for columns"
   ]
  },
  {
   "cell_type": "code",
   "execution_count": null,
   "metadata": {},
   "outputs": [],
   "source": [
    "date_columns = [\n",
    "    \"project_start_date\",\n",
    "    \"project_end_date\",\n",
    "    \"award_notice_date\",\n",
    "    \"budget_start\",\n",
    "    \"budget_end\",\n",
    "    \"date_added\",\n",
    "]\n",
    "\n",
    "for col in date_columns:\n",
    "    projects_df[col] = pd.to_datetime(projects_df[col])"
   ]
  },
  {
   "cell_type": "markdown",
   "metadata": {},
   "source": [
    "### Data Cleaning Functions"
   ]
  },
  {
   "cell_type": "code",
   "execution_count": null,
   "metadata": {},
   "outputs": [],
   "source": [
    "def get_ror_id(code):\n",
    "    \"\"\"\n",
    "    Retrieves the ROR ID associated with the given NIH agency code.\n",
    "\n",
    "    Args:\n",
    "        code (str): The code to look up.\n",
    "\n",
    "    Returns:\n",
    "        str or None: The ROR ID if found, None otherwise.\n",
    "    \"\"\"\n",
    "    return lookup_agency[code][\"ror_id\"] if code in lookup_agency else None\n",
    "\n",
    "\n",
    "def build_location(row):\n",
    "    \"\"\"\n",
    "    Builds a location string based on the provided row data.\n",
    "\n",
    "    Args:\n",
    "        row (pandas.Series): The row containing organization information.\n",
    "\n",
    "    Returns:\n",
    "        str: The location string.\n",
    "    \"\"\"\n",
    "    location = \"\"\n",
    "    if pd.notnull(row[\"organization.org_city\"]):\n",
    "        location += f\"{row['organization.org_city']}, \"\n",
    "    elif pd.notnull(row[\"organization.city\"]):\n",
    "        location += f\"{row['organization.city']}, \"\n",
    "    if pd.notnull(row[\"organization.org_zipcode\"]):\n",
    "        # handle zip-5/zip-9 formats\n",
    "        if row[\"organization.org_zipcode\"].isnumeric():\n",
    "            if len(row[\"organization.org_zipcode\"]) == 5:\n",
    "                location += f\"{row['organization.org_zipcode']} ,\"\n",
    "            elif len(row[\"organization.org_zipcode\"]) == 9:\n",
    "                location += f\"{row['organization.org_zipcode'][:5]}-{row['organization.org_zipcode'][5:]}, \"\n",
    "        else:\n",
    "            location += f\"{row['organization.org_zipcode']}, \"\n",
    "    if pd.notnull(row[\"organization.org_country\"]):\n",
    "        location += row[\"organization.org_country\"]\n",
    "    elif pd.notnull(row[\"organization.country\"]):\n",
    "        location += row[\"organization.country\"]\n",
    "    return location\n",
    "\n",
    "\n",
    "def extract_format_pi_names(pi_list) -> str:\n",
    "    return \" | \".join(pi[\"full_name\"] for pi in pi_list)\n"
   ]
  },
  {
   "cell_type": "markdown",
   "metadata": {},
   "source": [
    "### Format data for export"
   ]
  },
  {
   "cell_type": "code",
   "execution_count": null,
   "metadata": {},
   "outputs": [],
   "source": [
    "export_df = pd.DataFrame()"
   ]
  },
  {
   "cell_type": "code",
   "execution_count": null,
   "metadata": {},
   "outputs": [],
   "source": [
    "export_df[\"grant_id\"] = \"nih::\" + projects_df[\"appl_id\"].astype(str)\n",
    "export_df[\"funder_name\"] = \"National Institutes of Health: \" + projects_df[\n",
    "    \"agency_ic_admin.name\"\n",
    "].astype(str)\n",
    "export_df[\"funder_ror_id\"] = projects_df[\"agency_ic_admin.code\"].apply(get_ror_id)\n",
    "export_df[\"recipient_org_name\"] = projects_df[\"organization.org_name\"]\n",
    "export_df[\"recipient_location\"] = projects_df.apply(build_location, axis=1)\n",
    "\n",
    "export_df[\"grant_year\"] = projects_df[\"budget_start\"].dt.year\n",
    "export_df[\"grant_duration\"] = (\n",
    "    projects_df[\"budget_end\"].dt.date - projects_df[\"budget_start\"].dt.date\n",
    ")\n",
    "export_df[\"grant_start_date\"] = projects_df[\"budget_start\"].dt.date\n",
    "export_df[\"grant_end_date\"] = projects_df[\"budget_end\"].dt.date\n",
    "\n",
    "export_df[\"award_amount\"] = projects_df[\"award_amount\"]\n",
    "export_df[\"award_currency\"] = \"USD\"\n",
    "export_df[\"award_amount_usd\"] = projects_df[\"award_amount\"]\n",
    "export_df[\"source\"] = \"NIH RePORTER API\"\n",
    "export_df[\"source_url\"] = \"https://api.reporter.nih.gov/?urls.primaryName=V2.0\"\n",
    "export_df[\"grant_title\"] = projects_df[\"project_title\"]\n",
    "export_df[\"grant_description\"] = (\n",
    "    \"PROJECT TITLE: \"\n",
    "    + projects_df[\"project_title\"]\n",
    "    + \"\\n\\n\\n PROJECT ABSTRACT:\\n\"\n",
    "    + projects_df[\"abstract_text\"]\n",
    "    + \"\\n\\n\\n\"\n",
    "    + \"PUBLIC HEALTH RELEVANCE STATEMENT: \\n\"\n",
    "    + projects_df[\"phr_text\"]\n",
    ")\n",
    "export_df[\"grant_category\"] = projects_df[\"funding_mechanism\"]\n",
    "\n",
    "## Notify the user if the record represents a subproject\n",
    "subproject_comment = \"Grant record is for a subproject. Value reflected here is value of the subproject only. Parent grant has cumulative value of funding of all subprojects. If summed, this value may be counted twice if using the overall dataset. Use the project_id in the NIH's raw_source_data if you would like to identify the parent project.\"\n",
    "\n",
    "export_df['comment'] = projects_df['subproject_id'].where(projects_df['subproject_id'].isna(), subproject_comment)\n",
    "\n",
    "export_df[\"_crawled_at\"] = projects_df[\"_record_crawled_at\"]\n",
    "export_df[\"raw_export_data\"] = projects_df.drop(\"_record_crawled_at\", axis=1).to_dict(\n",
    "    orient=\"records\"\n",
    ")"
   ]
  },
  {
   "cell_type": "code",
   "execution_count": null,
   "metadata": {},
   "outputs": [],
   "source": [
    "export_df.to_json(OUTPUT_LOCATION, orient=\"records\", lines=True, date_format=\"iso\")"
   ]
  },
  {
   "cell_type": "code",
   "execution_count": null,
   "metadata": {},
   "outputs": [],
   "source": [
    "# Split the file so it will fit\n",
    "! split -C 95M --numeric-suffixes --additional-suffix .jsonl {OUTPUT_LOCATION} {OUTPUT_LOCATION.split('.jsonl')[0]}_part_\n",
    "\n",
    "# Remove the original file so oversize file doesn't get committed\n",
    "! rm {OUTPUT_LOCATION}"
   ]
  },
  {
   "cell_type": "code",
   "execution_count": null,
   "metadata": {},
   "outputs": [
    {
     "name": "stdout",
     "output_type": "stream",
     "text": [
      "data/nih.gov_grants_part_00.jsonl  data/nih.gov_grants_part_14.jsonl\n",
      "data/nih.gov_grants_part_01.jsonl  data/nih.gov_grants_part_15.jsonl\n",
      "data/nih.gov_grants_part_02.jsonl  data/nih.gov_grants_part_16.jsonl\n",
      "data/nih.gov_grants_part_03.jsonl  data/nih.gov_grants_part_17.jsonl\n",
      "data/nih.gov_grants_part_04.jsonl  data/nih.gov_grants_part_18.jsonl\n",
      "data/nih.gov_grants_part_05.jsonl  data/nih.gov_grants_part_19.jsonl\n",
      "data/nih.gov_grants_part_06.jsonl  data/nih.gov_grants_part_20.jsonl\n",
      "data/nih.gov_grants_part_07.jsonl  data/nih.gov_grants_part_21.jsonl\n",
      "data/nih.gov_grants_part_08.jsonl  data/nih.gov_grants_part_22.jsonl\n",
      "data/nih.gov_grants_part_09.jsonl  data/nih.gov_grants_part_23.jsonl\n",
      "data/nih.gov_grants_part_10.jsonl  data/nih.gov_grants_part_24.jsonl\n",
      "data/nih.gov_grants_part_11.jsonl  data/nih.gov_grants_part_25.jsonl\n",
      "data/nih.gov_grants_part_12.jsonl  data/nih.gov_grants_part_26.jsonl\n",
      "data/nih.gov_grants_part_13.jsonl\n"
     ]
    }
   ],
   "source": [
    "! ls {OUTPUT_LOCATION.split('.jsonl')[0]}*"
   ]
  },
  {
   "cell_type": "code",
   "execution_count": null,
   "metadata": {},
   "outputs": [],
   "source": []
  }
 ],
 "metadata": {
  "kernelspec": {
   "display_name": "oic-scrape-D2fotO-x-py3.11",
   "language": "python",
   "name": "python3"
  },
  "language_info": {
   "codemirror_mode": {
    "name": "ipython",
    "version": 3
   },
   "file_extension": ".py",
   "mimetype": "text/x-python",
   "name": "python",
   "nbconvert_exporter": "python",
   "pygments_lexer": "ipython3",
   "version": "3.11.7"
  }
 },
 "nbformat": 4,
 "nbformat_minor": 2
}
