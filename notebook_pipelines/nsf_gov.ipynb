{
 "cells": [
  {
   "cell_type": "markdown",
   "metadata": {},
   "source": [
    "# National Science Foundation\n",
    "\n",
    "[Bulk grant downloads](https://www.nsf.gov/awardsearch/download.jsp) are available from the NSF's site. Has a last_updated date. Also available: [xml schema](https://www.nsf.gov/awardsearch/resources/Award.xsd)."
   ]
  },
  {
   "cell_type": "markdown",
   "metadata": {},
   "source": [
    "```yaml\n",
    "parameter_type: \n",
    "    fiscal_year:\n",
    "        - October 1 - September 30\n",
    "    earliest: FY-1959\n",
    "```"
   ]
  },
  {
   "cell_type": "markdown",
   "metadata": {},
   "source": [
    "```yaml"
   ]
  },
  {
   "cell_type": "code",
   "execution_count": 37,
   "metadata": {},
   "outputs": [],
   "source": [
    "import requests\n",
    "from requests_cache import CachedSession\n",
    "from requests.adapters import HTTPAdapter\n",
    "from urllib3.util.retry import Retry\n",
    "from datetime import datetime, timedelta\n",
    "import xmltodict\n",
    "from bs4 import BeautifulSoup\n",
    "import pytz\n",
    "import zipfile\n",
    "from io import BytesIO\n",
    "from typing import Optional, Dict"
   ]
  },
  {
   "cell_type": "code",
   "execution_count": 6,
   "metadata": {
    "tags": [
     "parameters"
    ]
   },
   "outputs": [],
   "source": [
    "START_FISCAL_YEAR = 2020 # 1959\n",
    "END_FISCAL_YEAR = datetime.now().year if datetime.now().month < 10 else datetime.now().year +1\n",
    "USE_CACHE = True"
   ]
  },
  {
   "cell_type": "code",
   "execution_count": 8,
   "metadata": {},
   "outputs": [],
   "source": [
    "# parameter validation and cleanup\n",
    "p = {}\n",
    "\n",
    "try :\n",
    "    p['start_fy'] = int(START_FISCAL_YEAR)\n",
    "except ValueError:\n",
    "    raise ValueError(\"Invalid start year\")\n",
    "\n",
    "try:\n",
    "    p['end_fy'] = int(END_FISCAL_YEAR)\n",
    "except ValueError:\n",
    "    raise ValueError(\"Invalid end year\")\n",
    "\n",
    "if p['start_fy'] > p['end_fy']:\n",
    "    raise ValueError(\"Start year must be less than or equal to end year\")\n",
    "\n",
    "try:\n",
    "    p['use_cache'] = bool(USE_CACHE)\n",
    "except ValueError:\n",
    "    raise ValueError(\"Invalid use_cache value. Must be boolean\")"
   ]
  },
  {
   "cell_type": "code",
   "execution_count": 14,
   "metadata": {},
   "outputs": [],
   "source": [
    "## HTTP Configuration\n",
    "\n",
    "# Cache for development use only\n",
    "if p['use_cache']:\n",
    "    session = CachedSession(\n",
    "        \"cache.sqlite\", backend=\"sqlite\",allowable_methods=('GET', 'POST'), allowable_codes=(200, 404), expire_after=timedelta(days=7))\n",
    "else:\n",
    "    session = requests.Session()\n",
    "retry = Retry(connect=5, backoff_factor=1.5)\n",
    "adapter = HTTPAdapter(max_retries=retry)\n",
    "session.mount(\"http://\", adapter)\n",
    "session.mount(\"https://\", adapter)\n"
   ]
  },
  {
   "cell_type": "code",
   "execution_count": 17,
   "metadata": {},
   "outputs": [],
   "source": [
    "def get_most_recent_update_timestamp() -> datetime:\n",
    "    url = \"https://www.nsf.gov/awardsearch/download.jsp\"\n",
    "    r = session.get(url)\n",
    "    soup = BeautifulSoup(r.text, 'html.parser')\n",
    "    date_paragraph = soup.select_one(\"#downloadText > p:nth-child(2)\")\n",
    "    if date_paragraph:\n",
    "        # Extract the datetime string\n",
    "        datetime_string = date_paragraph.text.split(\"Awards last updated on: \")[1].split(\"\\n\")[0]\n",
    "        \n",
    "        # Parse the datetime string into a datetime object\n",
    "        datetime_object = datetime.strptime(datetime_string, \"%m/%d/%Y %H:%M:%S\")\n",
    "        \n",
    "        # Set the timezone to America/New_York\n",
    "        eastern = pytz.timezone(\"America/New_York\")\n",
    "        datetime_with_timezone = eastern.localize(datetime_object)\n",
    "        \n",
    "        return datetime_with_timezone\n",
    "    else:\n",
    "        raise ValueError(f\"Couldn't find the timestamp of the most recent update of NSF awards data at {url}\")\n",
    "\n",
    "def get_fy_data(fy: int) -> dict:\n",
    "    url = f\"https://www.nsf.gov/awardsearch/download?DownloadFileName={fy}&All=true\""
   ]
  },
  {
   "cell_type": "code",
   "execution_count": 18,
   "metadata": {},
   "outputs": [
    {
     "data": {
      "text/plain": [
       "datetime.datetime(2024, 2, 22, 23, 34, 52, tzinfo=<DstTzInfo 'America/New_York' EST-1 day, 19:00:00 STD>)"
      ]
     },
     "execution_count": 18,
     "metadata": {},
     "output_type": "execute_result"
    }
   ],
   "source": []
  },
  {
   "cell_type": "code",
   "execution_count": 26,
   "metadata": {},
   "outputs": [],
   "source": [
    "# ad-hoc data builder\n",
    "\n",
    "fy = 2020\n",
    "url = f\"https://www.nsf.gov/awardsearch/download?DownloadFileName={fy}&All=true\"\n",
    "r = session.get(url = url)"
   ]
  },
  {
   "cell_type": "code",
   "execution_count": 30,
   "metadata": {},
   "outputs": [
    {
     "name": "stdout",
     "output_type": "stream",
     "text": [
      "{'rootTag': {'Award': {'AwardTitle': 'Collaborative Research: Excellence in Research: Impact of Gbx2 on neural crest cells during neuronal, craniofacial and cardiovascular development', 'AGENCY': 'NSF', 'AwardEffectiveDate': '07/01/2020', 'AwardExpirationDate': '06/30/2024', 'AwardTotalIntnAmount': '229338.00', 'AwardAmount': '345460', 'AwardInstrument': {'Value': 'Standard Grant'}, 'Organization': {'Code': '08090100', 'Directorate': {'Abbreviation': 'BIO', 'LongName': 'Direct For Biological Sciences'}, 'Division': {'Abbreviation': 'IOS', 'LongName': 'Division Of Integrative Organismal Systems'}}, 'ProgramOfficer': {'SignBlockName': 'Philip Becraft', 'PO_EMAI': 'pbecraft@nsf.gov', 'PO_PHON': '7032920000'}, 'AbstractNarration': \"Head and heart development are closely intertwined during embryonic development in vertebrates. They share molecular regulatory mechanism as well as some progenitor cell populations. Both head and heart, are made from a multitude of cells, which include mesodermal cells that form musculature and neural crest cells which form connective tissue. Mesodermal and neural crest cells are also important for the development of cartilages and bones in head and neck and for proper septation of the heart. The identity of cells that constitute these tissues is specified very early during embryogenesis via a specific set of genes (specifiers), then follow their trajectory to become muscle, connective tissue, etc.&lt;br/&gt;One early specifier, gastrulation-brain-homeobox 2 (Gbx2), is essential for the migration (movement) and survival of neural crest cells. Neural crest cells and mesodermal cells interact during their migration to form head and heart structures. While mesodermal cells are not directly effected by change in Gbx2 expression, neural crest cells are effected and will alter the communication with mesodermal cells, leading to changes in mesoderm derived structures (e.g., muscles). This project aims to understand how Gbx2 guides neural crest development, and how changes in Gbx2 expression influences head (muscle, cartilage, bone, cranial nerve) and heart development. &lt;br/&gt;Traditionally the fields of comparative, developmental and evolutionary biology have been unsuccessful in recruiting students and scientists of diverse backrounds. This project will promote collaborations between researchers from non-traditional backgrounds in these areas of biology and historically black universities, Howard University and University of the District of Columbia.  This award is funded by the NSF Excellence in Research Program.&lt;br/&gt;&lt;br/&gt;&lt;br/&gt;Technical paragraph&lt;br/&gt;Cranial neural crest cells (CNCCs) are involved in the development of cranial ganglia, cranial nerves, cranium, connective tissue of head muscles, heart septation, pharyngeal arch artery development, etc. The gastrulation-brain-homeobox (Gbx) transcription factor family member, Gbx2, regulates diverse developmental processes, including anteroposterior patterning within the anterior hindbrain and migration and survival of CNCCs. Since CNCCs are involved in many different developmental processes during head and heart development, this project aims to analyze target genes under direct control of Gbx2, that regulate migration and survival of CNCCs in homozygous Gbx2neo embryos. Furthermore, this project will include analyses of the impact of changes of Gbx2 expression on the morphogenesis of the neural system, and craniofacial and cardiovascular structures. The latter part is of significance as neural crest cells influence the development and differentiation of surrounding tissues and vice versa. During head and haert development the interaction of CNCCs and mesoderm is of particular interest for this project because the mesodermal progenitor cells for most of the head and heart musculature derives from a common progenitor field, called the cardiopharyngeal field. In case Gbx2 is somehow involved in the gene regulatory network underlying the differentiation of that mesodermal progenitor field, directly via altering the transcription of genes or indirectly via altering the neural crest - mesodermal interaction during development, this project will lead to insights into mechanisms regulating head and heart development as well as cranial ganglia and nerve development.&lt;br/&gt;&lt;br/&gt;This award reflects NSF's statutory mission and has been deemed worthy of support through evaluation using the Foundation's intellectual merit and broader impacts review criteria.\", 'MinAmdLetterDate': '06/29/2020', 'MaxAmdLetterDate': '08/03/2021', 'ARRAAmount': None, 'TRAN_TYPE': 'Grant', 'CFDA_NUM': '47.074', 'NSF_PAR_USE_FLAG': '1', 'FUND_AGCY_CODE': '4900', 'AWDG_AGCY_CODE': '4900', 'AwardID': '2000005', 'Investigator': {'FirstName': 'Janine', 'LastName': 'Ziermann', 'PI_MID_INIT': 'M', 'PI_SUFX_NAME': None, 'PI_FULL_NAME': 'Janine M Ziermann', 'EmailAddress': 'janine.ziermann@howard.edu', 'NSF_ID': '000688985', 'StartDate': '06/29/2020', 'EndDate': None, 'RoleCode': 'Principal Investigator'}, 'Institution': {'Name': 'Howard University', 'CityName': 'WASHINGTON', 'ZipCode': '200590002', 'PhoneNumber': '2028064759', 'StreetAddress': '2400 6TH ST NW', 'StreetAddress2': None, 'CountryName': 'United States', 'StateName': 'District of Columbia', 'StateCode': 'DC', 'CONGRESSDISTRICT': '00', 'CONGRESS_DISTRICT_ORG': 'DC00', 'ORG_UEI_NUM': 'DYZNJGLTHMR9', 'ORG_LGL_BUS_NAME': 'HOWARD UNIVERSITY', 'ORG_PRNT_UEI_NUM': None}, 'Performance_Institution': {'Name': 'Howard University College of Medicine', 'CityName': 'Washington', 'StateCode': 'DC', 'ZipCode': '200590001', 'StreetAddress': '520 W St NW, Numa Adams Bldg', 'CountryCode': 'US', 'CountryName': 'United States', 'StateName': 'District of Columbia', 'CountryFlag': '1', 'CONGRESSDISTRICT': '00', 'CONGRESS_DISTRICT_PERF': 'DC00'}, 'ProgramElement': {'Code': '070Y', 'Text': 'HBCU-EiR - HBCU-Excellence in'}, 'ProgramReference': [{'Code': '102Z', 'Text': 'COVID-Disproportionate Impcts Inst-Indiv'}, {'Code': '1119', 'Text': 'ANIMAL DEVELOPMENTAL MECHANSMS'}, {'Code': '1228', 'Text': 'MINORITY INVOLVEMENT -- BIO'}, {'Code': '1594', 'Text': 'HIST BLACK COLLEGES AND UNIV'}, {'Code': '2886', 'Text': 'MINORITY INSTITUTIONS PROGRAM'}, {'Code': '9178', 'Text': 'UNDERGRADUATE EDUCATION'}], 'Appropriation': [{'Code': '0120', 'Name': 'NSF RESEARCH & RELATED ACTIVIT', 'APP_SYMB_ID': '040100'}, {'Code': '0121', 'Name': 'NSF RESEARCH & RELATED ACTIVIT', 'APP_SYMB_ID': '040100'}], 'Fund': [{'Code': '01002021DB', 'Name': 'NSF RESEARCH & RELATED ACTIVIT', 'FUND_SYMB_ID': '040100'}, {'Code': '01002122DB', 'Name': 'NSF RESEARCH & RELATED ACTIVIT', 'FUND_SYMB_ID': '040100'}], 'FUND_OBLG': ['2020~229338', '2021~116122']}}}\n"
     ]
    }
   ],
   "source": [
    "if r.status_code != 200:\n",
    "    raise ValueError(f\"Failed to download NSF award data for fiscal year {fy}\")\n",
    "elif r.headers[\"Content-Type\"] != 'application/zip':\n",
    "    raise ValueError(f\"Unexpected content type for NSF award data for fiscal year {fy}. Recieved `{r.headers['Content-Type']}`, expected `application/zip`\")\n",
    "else:\n",
    "    zip_file = zipfile.ZipFile(BytesIO(r.content))\n",
    "\n",
    "    for filename in zip_file.namelist():\n",
    "        if filename.endswith(\".xml\"):\n",
    "            xml_file = zip_file.open(filename)\n",
    "            xml_data = xml_file.read()\n",
    "            xml_file.close()\n",
    "            award_data = xmltodict.parse(xml_data)\n",
    "            print(award_data)\n",
    "            break\n",
    "    "
   ]
  },
  {
   "cell_type": "code",
   "execution_count": 34,
   "metadata": {},
   "outputs": [
    {
     "data": {
      "text/plain": [
       "'b\\'<?xml version=\"1.0\" encoding=\"UTF-8\"?>\\\\n<rootTag>\\\\n<Award>\\\\n<AwardTitle><![CDATA[Collaborative Research: Excellence in Research: Impact of Gbx2 on neural crest cells during neuronal, craniofacial and cardiovascular development]]></AwardTitle>\\\\n<AGENCY>NSF</AGENCY>\\\\n<AwardEffectiveDate>07/01/2020</AwardEffectiveDate>\\\\n<AwardExpirationDate>06/30/2024</AwardExpirationDate>\\\\n<AwardTotalIntnAmount>229338.00</AwardTotalIntnAmount>\\\\n<AwardAmount>345460</AwardAmount>\\\\n<AwardInstrument>\\\\n<Value>Standard Grant</Value>\\\\n</AwardInstrument>\\\\n<Organization>\\\\n<Code>08090100</Code>\\\\n<Directorate>\\\\n<Abbreviation>BIO</Abbreviation>\\\\n<LongName>Direct For Biological Sciences</LongName>\\\\n</Directorate>\\\\n<Division>\\\\n<Abbreviation>IOS</Abbreviation>\\\\n<LongName>Division Of Integrative Organismal Systems</LongName>\\\\n</Division>\\\\n</Organization>\\\\n<ProgramOfficer>\\\\n<SignBlockName>Philip Becraft</SignBlockName>\\\\n<PO_EMAI>pbecraft@nsf.gov</PO_EMAI>\\\\n<PO_PHON>7032920000</PO_PHON>\\\\n</ProgramOfficer>\\\\n<AbstractNarration><![CDATA[Head and heart development are closely intertwined during embryonic development in vertebrates. They share molecular regulatory mechanism as well as some progenitor cell populations. Both head and heart, are made from a multitude of cells, which include mesodermal cells that form musculature and neural crest cells which form connective tissue. Mesodermal and neural crest cells are also important for the development of cartilages and bones in head and neck and for proper septation of the heart. The identity of cells that constitute these tissues is specified very early during embryogenesis via a specific set of genes (specifiers), then follow their trajectory to become muscle, connective tissue, etc.&lt;br/&gt;One early specifier, gastrulation-brain-homeobox 2 (Gbx2), is essential for the migration (movement) and survival of neural crest cells. Neural crest cells and mesodermal cells interact during their migration to form head and heart structures. While mesodermal cells are not directly effected by change in Gbx2 expression, neural crest cells are effected and will alter the communication with mesodermal cells, leading to changes in mesoderm derived structures (e.g., muscles). This project aims to understand how Gbx2 guides neural crest development, and how changes in Gbx2 expression influences head (muscle, cartilage, bone, cranial nerve) and heart development. &lt;br/&gt;Traditionally the fields of comparative, developmental and evolutionary biology have been unsuccessful in recruiting students and scientists of diverse backrounds. This project will promote collaborations between researchers from non-traditional backgrounds in these areas of biology and historically black universities, Howard University and University of the District of Columbia.  This award is funded by the NSF Excellence in Research Program.&lt;br/&gt;&lt;br/&gt;&lt;br/&gt;Technical paragraph&lt;br/&gt;Cranial neural crest cells (CNCCs) are involved in the development of cranial ganglia, cranial nerves, cranium, connective tissue of head muscles, heart septation, pharyngeal arch artery development, etc. The gastrulation-brain-homeobox (Gbx) transcription factor family member, Gbx2, regulates diverse developmental processes, including anteroposterior patterning within the anterior hindbrain and migration and survival of CNCCs. Since CNCCs are involved in many different developmental processes during head and heart development, this project aims to analyze target genes under direct control of Gbx2, that regulate migration and survival of CNCCs in homozygous Gbx2neo embryos. Furthermore, this project will include analyses of the impact of changes of Gbx2 expression on the morphogenesis of the neural system, and craniofacial and cardiovascular structures. The latter part is of significance as neural crest cells influence the development and differentiation of surrounding tissues and vice versa. During head and haert development the interaction of CNCCs and mesoderm is of particular interest for this project because the mesodermal progenitor cells for most of the head and heart musculature derives from a common progenitor field, called the cardiopharyngeal field. In case Gbx2 is somehow involved in the gene regulatory network underlying the differentiation of that mesodermal progenitor field, directly via altering the transcription of genes or indirectly via altering the neural crest - mesodermal interaction during development, this project will lead to insights into mechanisms regulating head and heart development as well as cranial ganglia and nerve development.&lt;br/&gt;&lt;br/&gt;This award reflects NSF\\\\\\'s statutory mission and has been deemed worthy of support through evaluation using the Foundation\\\\\\'s intellectual merit and broader impacts review criteria.]]></AbstractNarration>\\\\n<MinAmdLetterDate>06/29/2020</MinAmdLetterDate>\\\\n<MaxAmdLetterDate>08/03/2021</MaxAmdLetterDate>\\\\n<ARRAAmount/>\\\\n<TRAN_TYPE>Grant</TRAN_TYPE>\\\\n<CFDA_NUM>47.074</CFDA_NUM>\\\\n<NSF_PAR_USE_FLAG>1</NSF_PAR_USE_FLAG>\\\\n<FUND_AGCY_CODE>4900</FUND_AGCY_CODE>\\\\n<AWDG_AGCY_CODE>4900</AWDG_AGCY_CODE>\\\\n<AwardID>2000005</AwardID>\\\\n<Investigator>\\\\n<FirstName>Janine</FirstName>\\\\n<LastName>Ziermann</LastName>\\\\n<PI_MID_INIT>M</PI_MID_INIT>\\\\n<PI_SUFX_NAME/>\\\\n<PI_FULL_NAME>Janine M Ziermann</PI_FULL_NAME>\\\\n<EmailAddress><![CDATA[janine.ziermann@howard.edu]]></EmailAddress>\\\\n<NSF_ID>000688985</NSF_ID>\\\\n<StartDate>06/29/2020</StartDate>\\\\n<EndDate/>\\\\n<RoleCode>Principal Investigator</RoleCode>\\\\n</Investigator>\\\\n<Institution>\\\\n<Name>Howard University</Name>\\\\n<CityName>WASHINGTON</CityName>\\\\n<ZipCode>200590002</ZipCode>\\\\n<PhoneNumber>2028064759</PhoneNumber>\\\\n<StreetAddress>2400 6TH ST NW</StreetAddress>\\\\n<StreetAddress2/>\\\\n<CountryName>United States</CountryName>\\\\n<StateName>District of Columbia</StateName>\\\\n<StateCode>DC</StateCode>\\\\n<CONGRESSDISTRICT>00</CONGRESSDISTRICT>\\\\n<CONGRESS_DISTRICT_ORG>DC00</CONGRESS_DISTRICT_ORG>\\\\n<ORG_UEI_NUM>DYZNJGLTHMR9</ORG_UEI_NUM>\\\\n<ORG_LGL_BUS_NAME>HOWARD UNIVERSITY</ORG_LGL_BUS_NAME>\\\\n<ORG_PRNT_UEI_NUM/>\\\\n</Institution>\\\\n<Performance_Institution>\\\\n<Name><![CDATA[Howard University College of Medicine]]></Name>\\\\n<CityName>Washington</CityName>\\\\n<StateCode>DC</StateCode>\\\\n<ZipCode>200590001</ZipCode>\\\\n<StreetAddress><![CDATA[520 W St NW, Numa Adams Bldg]]></StreetAddress>\\\\n<CountryCode>US</CountryCode>\\\\n<CountryName>United States</CountryName>\\\\n<StateName>District of Columbia</StateName>\\\\n<CountryFlag>1</CountryFlag>\\\\n<CONGRESSDISTRICT>00</CONGRESSDISTRICT>\\\\n<CONGRESS_DISTRICT_PERF>DC00</CONGRESS_DISTRICT_PERF>\\\\n</Performance_Institution>\\\\n<ProgramElement>\\\\n<Code>070Y</Code>\\\\n<Text>HBCU-EiR - HBCU-Excellence in</Text>\\\\n</ProgramElement>\\\\n<ProgramReference>\\\\n<Code>102Z</Code>\\\\n<Text>COVID-Disproportionate Impcts Inst-Indiv</Text>\\\\n</ProgramReference>\\\\n<ProgramReference>\\\\n<Code>1119</Code>\\\\n<Text>ANIMAL DEVELOPMENTAL MECHANSMS</Text>\\\\n</ProgramReference>\\\\n<ProgramReference>\\\\n<Code>1228</Code>\\\\n<Text>MINORITY INVOLVEMENT -- BIO</Text>\\\\n</ProgramReference>\\\\n<ProgramReference>\\\\n<Code>1594</Code>\\\\n<Text>HIST BLACK COLLEGES AND UNIV</Text>\\\\n</ProgramReference>\\\\n<ProgramReference>\\\\n<Code>2886</Code>\\\\n<Text>MINORITY INSTITUTIONS PROGRAM</Text>\\\\n</ProgramReference>\\\\n<ProgramReference>\\\\n<Code>9178</Code>\\\\n<Text>UNDERGRADUATE EDUCATION</Text>\\\\n</ProgramReference>\\\\n<Appropriation>\\\\n<Code>0120</Code>\\\\n<Name>NSF RESEARCH &amp; RELATED ACTIVIT</Name>\\\\n<APP_SYMB_ID>040100</APP_SYMB_ID>\\\\n</Appropriation>\\\\n<Appropriation>\\\\n<Code>0121</Code>\\\\n<Name>NSF RESEARCH &amp; RELATED ACTIVIT</Name>\\\\n<APP_SYMB_ID>040100</APP_SYMB_ID>\\\\n</Appropriation>\\\\n<Fund>\\\\n<Code>01002021DB</Code>\\\\n<Name><![CDATA[NSF RESEARCH & RELATED ACTIVIT]]></Name>\\\\n<FUND_SYMB_ID>040100</FUND_SYMB_ID>\\\\n</Fund>\\\\n<Fund>\\\\n<Code>01002122DB</Code>\\\\n<Name><![CDATA[NSF RESEARCH & RELATED ACTIVIT]]></Name>\\\\n<FUND_SYMB_ID>040100</FUND_SYMB_ID>\\\\n</Fund>\\\\n<FUND_OBLG>2020~229338</FUND_OBLG>\\\\n<FUND_OBLG>2021~116122</FUND_OBLG>\\\\n</Award>\\\\n</rootTag>\\\\n\\''"
      ]
     },
     "execution_count": 34,
     "metadata": {},
     "output_type": "execute_result"
    }
   ],
   "source": [
    "def format_award_data(award_xml: str, crawl_timestamp:Optional[datetime]=None) -> dict:\n",
    "    \"\"\"\n",
    "    Produces an oic_item compliant object from the award data in the given XML file.\n",
    "    \"\"\"\n",
    "    award_data = xmltodict.parse(award_xml)\n",
    "    results = {}"
   ]
  },
  {
   "cell_type": "code",
   "execution_count": 36,
   "metadata": {},
   "outputs": [
    {
     "data": {
      "text/plain": [
       "datetime.datetime(2024, 2, 28, 17, 26, 2, 946103)"
      ]
     },
     "execution_count": 36,
     "metadata": {},
     "output_type": "execute_result"
    }
   ],
   "source": [
    "r.created_at"
   ]
  },
  {
   "cell_type": "code",
   "execution_count": null,
   "metadata": {},
   "outputs": [],
   "source": []
  }
 ],
 "metadata": {
  "kernelspec": {
   "display_name": "oic-scrape-D2fotO-x-py3.11",
   "language": "python",
   "name": "python3"
  },
  "language_info": {
   "codemirror_mode": {
    "name": "ipython",
    "version": 3
   },
   "file_extension": ".py",
   "mimetype": "text/x-python",
   "name": "python",
   "nbconvert_exporter": "python",
   "pygments_lexer": "ipython3",
   "version": "3.11.7"
  }
 },
 "nbformat": 4,
 "nbformat_minor": 2
}
